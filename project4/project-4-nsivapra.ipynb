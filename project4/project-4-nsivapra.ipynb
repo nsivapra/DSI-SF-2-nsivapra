{
 "cells": [
  {
   "cell_type": "markdown",
   "metadata": {},
   "source": [
    "<img src=\"http://imgur.com/1ZcRyrc.png\" style=\"float: left; margin: 15px; height: 80px\">\n",
    "\n",
    "# Project 4\n",
    "\n",
    "## San Francisco Data\n",
    "\n",
    "---\n",
    "\n",
    "[San Francisco provides a wealth of data on the city to the public.](https://data.sfgov.org/) Project 4 is all about exploring this data and modeling interesting relationships with regression.\n",
    "\n",
    "Project 4 is also much more open-ended than the previous projects. You are more responsible for finding things about the data that interest you, coming up with your own hypothesis about it, and reporting on the analysis you carry out. That being said, there are still specific requirements and restrictions on the type of models you will be constructing.\n",
    "\n",
    "---\n",
    "\n",
    "## Notes on the data\n",
    "\n",
    "We have gone through the above website and pulled out a variety of different datasets that we think are particularly interesting. Some of the datasets are from external sources as well, but all are related to San Francisco. A high level overview of data folders is provided after the project requirements section.\n",
    "\n",
    "**There is a lot of different data. You are _NOT_ expected to explore all of it or include all of it in analyses.** The point of the project is to focus on aspects of San Francisco that are particularly interesting to you from a modeling point of view. \n",
    "\n",
    "**The uncompressed data is a large filesize.** Even the compressed data is pretty large. The data is compressed into a .7z format which has one of the smallest filesizes available. You will likely need a 3rd party app to extract it. \n",
    "\n",
    "### Recommended Utilities for .7z\n",
    "- For OSX [Keka](http://www.kekaosx.com/en/) or [The Unarchiver](http://wakaba.c3.cx/s/apps/unarchiver.html). \n",
    "- For Windows [7-zip](http://www.7-zip.org/) is the standard. \n",
    "- For Linux try the `p7zip` utility.  `sudo apt-get install p7zip`.\n",
    "\n",
    "---\n",
    "\n",
    "## Project requirements\n",
    "\n",
    "**You will be performing 4 different sections of analysis on the San Francisco data.**\n",
    "\n",
    "**Models must be regression. This means that your target variable needs to be numeric/continuous**\n",
    "\n",
    "Do not perform classification models – this will be the topic of week 4.\n"
   ]
  },
  {
   "cell_type": "markdown",
   "metadata": {},
   "source": [
    "<img src=\"http://imgur.com/l5NasQj.png\" style=\"float: left; margin: 25px 15px 0px 0px; height: 25px\">\n",
    "\n",
    "### 1. Choose a dataset or datasets of interest to you and perform EDA\n",
    "\n",
    "---\n",
    "\n",
    "1. Explain what the data is. This may include multiple csv files. Some of this data has hard to understand codes representing the variables. Nearly all data is pulled from https://data.sfgov.org/ so this is a very good resource for determining what the data is.\n",
    "- Clean the data.\n",
    "- Develop and state clearly a hypothesis about the data that you would want to test.\n",
    "- Create some initial visualizations on the portions of the data relevant to your hypothesis."
   ]
  },
  {
   "cell_type": "code",
   "execution_count": 1,
   "metadata": {
    "collapsed": false
   },
   "outputs": [
    {
     "data": {
      "text/html": [
       "<div>\n",
       "<table border=\"1\" class=\"dataframe\">\n",
       "  <thead>\n",
       "    <tr style=\"text-align: right;\">\n",
       "      <th></th>\n",
       "      <th>business_id</th>\n",
       "      <th>business_name</th>\n",
       "      <th>business_address</th>\n",
       "      <th>business_city</th>\n",
       "      <th>business_state</th>\n",
       "      <th>business_postal_code</th>\n",
       "      <th>business_latitude</th>\n",
       "      <th>business_longitude</th>\n",
       "      <th>business_location</th>\n",
       "      <th>business_phone_number</th>\n",
       "      <th>inspection_id</th>\n",
       "      <th>inspection_date</th>\n",
       "      <th>inspection_score</th>\n",
       "      <th>inspection_type</th>\n",
       "      <th>violation_id</th>\n",
       "      <th>violation_description</th>\n",
       "      <th>risk_category</th>\n",
       "    </tr>\n",
       "  </thead>\n",
       "  <tbody>\n",
       "    <tr>\n",
       "      <th>0</th>\n",
       "      <td>10</td>\n",
       "      <td>Tiramisu Kitchen</td>\n",
       "      <td>033 Belden Pl</td>\n",
       "      <td>San Francisco</td>\n",
       "      <td>CA</td>\n",
       "      <td>94104</td>\n",
       "      <td>37.791116</td>\n",
       "      <td>-122.403816</td>\n",
       "      <td>(37.791116, -122.403816)</td>\n",
       "      <td>NaN</td>\n",
       "      <td>10_20140114</td>\n",
       "      <td>01/14/2014 12:00:00 AM</td>\n",
       "      <td>92.0</td>\n",
       "      <td>Routine - Unscheduled</td>\n",
       "      <td>10_20140114_103119</td>\n",
       "      <td>Inadequate and inaccessible handwashing facili...</td>\n",
       "      <td>Moderate Risk</td>\n",
       "    </tr>\n",
       "    <tr>\n",
       "      <th>1</th>\n",
       "      <td>10</td>\n",
       "      <td>Tiramisu Kitchen</td>\n",
       "      <td>033 Belden Pl</td>\n",
       "      <td>San Francisco</td>\n",
       "      <td>CA</td>\n",
       "      <td>94104</td>\n",
       "      <td>37.791116</td>\n",
       "      <td>-122.403816</td>\n",
       "      <td>(37.791116, -122.403816)</td>\n",
       "      <td>NaN</td>\n",
       "      <td>10_20140114</td>\n",
       "      <td>01/14/2014 12:00:00 AM</td>\n",
       "      <td>92.0</td>\n",
       "      <td>Routine - Unscheduled</td>\n",
       "      <td>10_20140114_103145</td>\n",
       "      <td>Improper storage of equipment utensils or linens</td>\n",
       "      <td>Low Risk</td>\n",
       "    </tr>\n",
       "    <tr>\n",
       "      <th>2</th>\n",
       "      <td>10</td>\n",
       "      <td>Tiramisu Kitchen</td>\n",
       "      <td>033 Belden Pl</td>\n",
       "      <td>San Francisco</td>\n",
       "      <td>CA</td>\n",
       "      <td>94104</td>\n",
       "      <td>37.791116</td>\n",
       "      <td>-122.403816</td>\n",
       "      <td>(37.791116, -122.403816)</td>\n",
       "      <td>NaN</td>\n",
       "      <td>10_20140114</td>\n",
       "      <td>01/14/2014 12:00:00 AM</td>\n",
       "      <td>92.0</td>\n",
       "      <td>Routine - Unscheduled</td>\n",
       "      <td>10_20140114_103154</td>\n",
       "      <td>Unclean or degraded floors walls or ceilings</td>\n",
       "      <td>Low Risk</td>\n",
       "    </tr>\n",
       "    <tr>\n",
       "      <th>3</th>\n",
       "      <td>10</td>\n",
       "      <td>Tiramisu Kitchen</td>\n",
       "      <td>033 Belden Pl</td>\n",
       "      <td>San Francisco</td>\n",
       "      <td>CA</td>\n",
       "      <td>94104</td>\n",
       "      <td>37.791116</td>\n",
       "      <td>-122.403816</td>\n",
       "      <td>(37.791116, -122.403816)</td>\n",
       "      <td>NaN</td>\n",
       "      <td>10_20140729</td>\n",
       "      <td>07/29/2014 12:00:00 AM</td>\n",
       "      <td>94.0</td>\n",
       "      <td>Routine - Unscheduled</td>\n",
       "      <td>10_20140729_103144</td>\n",
       "      <td>Unapproved or unmaintained equipment or utensils</td>\n",
       "      <td>Low Risk</td>\n",
       "    </tr>\n",
       "    <tr>\n",
       "      <th>4</th>\n",
       "      <td>10</td>\n",
       "      <td>Tiramisu Kitchen</td>\n",
       "      <td>033 Belden Pl</td>\n",
       "      <td>San Francisco</td>\n",
       "      <td>CA</td>\n",
       "      <td>94104</td>\n",
       "      <td>37.791116</td>\n",
       "      <td>-122.403816</td>\n",
       "      <td>(37.791116, -122.403816)</td>\n",
       "      <td>NaN</td>\n",
       "      <td>10_20140729</td>\n",
       "      <td>07/29/2014 12:00:00 AM</td>\n",
       "      <td>94.0</td>\n",
       "      <td>Routine - Unscheduled</td>\n",
       "      <td>10_20140729_103129</td>\n",
       "      <td>Insufficient hot water or running water</td>\n",
       "      <td>Moderate Risk</td>\n",
       "    </tr>\n",
       "  </tbody>\n",
       "</table>\n",
       "</div>"
      ],
      "text/plain": [
       "   business_id     business_name business_address  business_city  \\\n",
       "0           10  Tiramisu Kitchen    033 Belden Pl  San Francisco   \n",
       "1           10  Tiramisu Kitchen    033 Belden Pl  San Francisco   \n",
       "2           10  Tiramisu Kitchen    033 Belden Pl  San Francisco   \n",
       "3           10  Tiramisu Kitchen    033 Belden Pl  San Francisco   \n",
       "4           10  Tiramisu Kitchen    033 Belden Pl  San Francisco   \n",
       "\n",
       "  business_state business_postal_code  business_latitude  business_longitude  \\\n",
       "0             CA                94104          37.791116         -122.403816   \n",
       "1             CA                94104          37.791116         -122.403816   \n",
       "2             CA                94104          37.791116         -122.403816   \n",
       "3             CA                94104          37.791116         -122.403816   \n",
       "4             CA                94104          37.791116         -122.403816   \n",
       "\n",
       "          business_location  business_phone_number inspection_id  \\\n",
       "0  (37.791116, -122.403816)                    NaN   10_20140114   \n",
       "1  (37.791116, -122.403816)                    NaN   10_20140114   \n",
       "2  (37.791116, -122.403816)                    NaN   10_20140114   \n",
       "3  (37.791116, -122.403816)                    NaN   10_20140729   \n",
       "4  (37.791116, -122.403816)                    NaN   10_20140729   \n",
       "\n",
       "          inspection_date  inspection_score        inspection_type  \\\n",
       "0  01/14/2014 12:00:00 AM              92.0  Routine - Unscheduled   \n",
       "1  01/14/2014 12:00:00 AM              92.0  Routine - Unscheduled   \n",
       "2  01/14/2014 12:00:00 AM              92.0  Routine - Unscheduled   \n",
       "3  07/29/2014 12:00:00 AM              94.0  Routine - Unscheduled   \n",
       "4  07/29/2014 12:00:00 AM              94.0  Routine - Unscheduled   \n",
       "\n",
       "         violation_id                              violation_description  \\\n",
       "0  10_20140114_103119  Inadequate and inaccessible handwashing facili...   \n",
       "1  10_20140114_103145   Improper storage of equipment utensils or linens   \n",
       "2  10_20140114_103154       Unclean or degraded floors walls or ceilings   \n",
       "3  10_20140729_103144   Unapproved or unmaintained equipment or utensils   \n",
       "4  10_20140729_103129            Insufficient hot water or running water   \n",
       "\n",
       "   risk_category  \n",
       "0  Moderate Risk  \n",
       "1       Low Risk  \n",
       "2       Low Risk  \n",
       "3       Low Risk  \n",
       "4  Moderate Risk  "
      ]
     },
     "execution_count": 1,
     "metadata": {},
     "output_type": "execute_result"
    }
   ],
   "source": [
    "import pandas as pd\n",
    "import datetime as dt\n",
    "from datetime import datetime\n",
    "import seaborn as sns\n",
    "import matplotlib.pyplot as plt\n",
    "from scipy import stats\n",
    "import numpy as np\n",
    "from sklearn.preprocessing import MinMaxScaler, StandardScaler\n",
    "from sklearn.linear_model import LinearRegression\n",
    "import patsy\n",
    "from sklearn.cross_validation import train_test_split, cross_val_score, cross_val_predict\n",
    "from sklearn import metrics\n",
    "\n",
    "%matplotlib inline\n",
    "\n",
    "#Food Inspection dataset.\n",
    "food = pd.read_csv('food_inspections_LIVES_standard.csv')\n",
    "food.head(5)\n",
    "\n",
    "#Busines_id unique value for the business\n",
    "#business_name is the name of the business\n",
    "#business_address is the address of the business\n",
    "#business_city is the city of the business\n",
    "#business_postal_code is the postal code of the business\n",
    "#business_latitude, longitude, location, is the latitude, longitude and combined\n",
    "#business phone number is the phone number\n",
    "#inspection id is the unique id for inspection\n",
    "#Inspection Score is the score of the inspeciton\n",
    "#Inspection type is the type of inspection\n",
    "#Violation id is the unique id value for the type of violation\n",
    "#Violation Description is the description of the violation.\n",
    "#Risk category is the risk of the violation"
   ]
  },
  {
   "cell_type": "code",
   "execution_count": 2,
   "metadata": {
    "collapsed": false
   },
   "outputs": [
    {
     "name": "stdout",
     "output_type": "stream",
     "text": [
      "<class 'pandas.core.frame.DataFrame'>\n",
      "RangeIndex: 53428 entries, 0 to 53427\n",
      "Data columns (total 17 columns):\n",
      "business_id              53428 non-null int64\n",
      "business_name            53428 non-null object\n",
      "business_address         53424 non-null object\n",
      "business_city            53428 non-null object\n",
      "business_state           53428 non-null object\n",
      "business_postal_code     52092 non-null object\n",
      "business_latitude        37743 non-null float64\n",
      "business_longitude       37743 non-null float64\n",
      "business_location        37743 non-null object\n",
      "business_phone_number    15406 non-null float64\n",
      "inspection_id            53428 non-null object\n",
      "inspection_date          53428 non-null object\n",
      "inspection_score         40909 non-null float64\n",
      "inspection_type          53428 non-null object\n",
      "violation_id             40643 non-null object\n",
      "violation_description    40642 non-null object\n",
      "risk_category            40642 non-null object\n",
      "dtypes: float64(4), int64(1), object(12)\n",
      "memory usage: 6.9+ MB\n",
      "None\n",
      "-------------------\n",
      "business_id                  0\n",
      "business_name                0\n",
      "business_address             4\n",
      "business_city                0\n",
      "business_state               0\n",
      "business_postal_code      1336\n",
      "business_latitude        15685\n",
      "business_longitude       15685\n",
      "business_location        15685\n",
      "business_phone_number    38022\n",
      "inspection_id                0\n",
      "inspection_date              0\n",
      "inspection_score         12519\n",
      "inspection_type              0\n",
      "violation_id             12785\n",
      "violation_description    12786\n",
      "risk_category            12786\n",
      "dtype: int64\n"
     ]
    }
   ],
   "source": [
    "print food.info() #Contains 4 float type, 1 int type, and 12 object type\n",
    "print '-------------------'\n",
    "\n",
    "print food.isnull().sum()\n",
    "\n",
    "#Clean the Data\n",
    "food.business_postal_code = pd.to_numeric(food.business_postal_code, errors = 'coerce')\n",
    "\n",
    "#Setting risk category to be a binary value where 0 is Low, 1 is Moderate, 2 is High.\n",
    "l = food['risk_category']\n",
    "food['risk_category'] = [0 if v == 'Low Risk' else 1 if v == 'Moderate Risk' else 2 if v == 'High Risk' else 3 for v in l]\n",
    "\n",
    "#Setting inspection date to datetime, and parsing the year and month out.\n",
    "food['inspection_date'] =  pd.to_datetime(food['inspection_date'], format='%m/%d/%Y %H:%M:%S %p')\n",
    "\n",
    "food['Year'] = food['inspection_date'].dt.year\n",
    "food['Month'] = food['inspection_date'].dt.month"
   ]
  },
  {
   "cell_type": "code",
   "execution_count": 3,
   "metadata": {
    "collapsed": false
   },
   "outputs": [
    {
     "data": {
      "text/html": [
       "<div>\n",
       "<table border=\"1\" class=\"dataframe\">\n",
       "  <thead>\n",
       "    <tr style=\"text-align: right;\">\n",
       "      <th></th>\n",
       "      <th>business_id</th>\n",
       "      <th>business_postal_code</th>\n",
       "      <th>business_latitude</th>\n",
       "      <th>business_longitude</th>\n",
       "      <th>business_phone_number</th>\n",
       "      <th>inspection_score</th>\n",
       "      <th>risk_category</th>\n",
       "      <th>Year</th>\n",
       "      <th>Month</th>\n",
       "    </tr>\n",
       "  </thead>\n",
       "  <tbody>\n",
       "    <tr>\n",
       "      <th>0</th>\n",
       "      <td>10</td>\n",
       "      <td>94104.0</td>\n",
       "      <td>37.791116</td>\n",
       "      <td>-122.403816</td>\n",
       "      <td>1.415542e+10</td>\n",
       "      <td>92.0</td>\n",
       "      <td>1</td>\n",
       "      <td>2014</td>\n",
       "      <td>1</td>\n",
       "    </tr>\n",
       "    <tr>\n",
       "      <th>1</th>\n",
       "      <td>10</td>\n",
       "      <td>94104.0</td>\n",
       "      <td>37.791116</td>\n",
       "      <td>-122.403816</td>\n",
       "      <td>1.415542e+10</td>\n",
       "      <td>92.0</td>\n",
       "      <td>0</td>\n",
       "      <td>2014</td>\n",
       "      <td>1</td>\n",
       "    </tr>\n",
       "    <tr>\n",
       "      <th>2</th>\n",
       "      <td>10</td>\n",
       "      <td>94104.0</td>\n",
       "      <td>37.791116</td>\n",
       "      <td>-122.403816</td>\n",
       "      <td>1.415542e+10</td>\n",
       "      <td>92.0</td>\n",
       "      <td>0</td>\n",
       "      <td>2014</td>\n",
       "      <td>1</td>\n",
       "    </tr>\n",
       "    <tr>\n",
       "      <th>3</th>\n",
       "      <td>10</td>\n",
       "      <td>94104.0</td>\n",
       "      <td>37.791116</td>\n",
       "      <td>-122.403816</td>\n",
       "      <td>1.415542e+10</td>\n",
       "      <td>94.0</td>\n",
       "      <td>0</td>\n",
       "      <td>2014</td>\n",
       "      <td>7</td>\n",
       "    </tr>\n",
       "    <tr>\n",
       "      <th>4</th>\n",
       "      <td>10</td>\n",
       "      <td>94104.0</td>\n",
       "      <td>37.791116</td>\n",
       "      <td>-122.403816</td>\n",
       "      <td>1.415542e+10</td>\n",
       "      <td>94.0</td>\n",
       "      <td>1</td>\n",
       "      <td>2014</td>\n",
       "      <td>7</td>\n",
       "    </tr>\n",
       "  </tbody>\n",
       "</table>\n",
       "</div>"
      ],
      "text/plain": [
       "   business_id  business_postal_code  business_latitude  business_longitude  \\\n",
       "0           10               94104.0          37.791116         -122.403816   \n",
       "1           10               94104.0          37.791116         -122.403816   \n",
       "2           10               94104.0          37.791116         -122.403816   \n",
       "3           10               94104.0          37.791116         -122.403816   \n",
       "4           10               94104.0          37.791116         -122.403816   \n",
       "\n",
       "   business_phone_number  inspection_score  risk_category  Year  Month  \n",
       "0           1.415542e+10              92.0              1  2014      1  \n",
       "1           1.415542e+10              92.0              0  2014      1  \n",
       "2           1.415542e+10              92.0              0  2014      1  \n",
       "3           1.415542e+10              94.0              0  2014      7  \n",
       "4           1.415542e+10              94.0              1  2014      7  "
      ]
     },
     "execution_count": 3,
     "metadata": {},
     "output_type": "execute_result"
    }
   ],
   "source": [
    "#Taking the numeric columns and setting it to be the df.\n",
    "food = food._get_numeric_data()\n",
    "\n",
    "#I decided to substitute the NA values with the mean that way there aren't\n",
    "#skewed data.\n",
    "food = food.apply(lambda x: x.fillna(x.mean()),axis=0)\n",
    "food.head()"
   ]
  },
  {
   "cell_type": "code",
   "execution_count": 4,
   "metadata": {
    "collapsed": false
   },
   "outputs": [
    {
     "data": {
      "text/plain": [
       "(51779, 9)"
      ]
     },
     "execution_count": 4,
     "metadata": {},
     "output_type": "execute_result"
    }
   ],
   "source": [
    "#Removing the outliers for #2 (+/-3 std from the mean.)\n",
    "food = food[(np.abs(stats.zscore(food)) < 3).all(axis=1)]\n",
    "food.shape"
   ]
  },
  {
   "cell_type": "code",
   "execution_count": 5,
   "metadata": {
    "collapsed": false
   },
   "outputs": [
    {
     "data": {
      "text/plain": [
       "<matplotlib.axes._subplots.AxesSubplot at 0x11a59b410>"
      ]
     },
     "execution_count": 5,
     "metadata": {},
     "output_type": "execute_result"
    },
    {
     "data": {
      "image/png": "[encoded data removed]",
      "text/plain": [
       "<matplotlib.figure.Figure at 0x103ed3f50>"
      ]
     },
     "metadata": {},
     "output_type": "display_data"
    }
   ],
   "source": [
    "#Hypothesis: As the Year Increases (2013 to 2016)the Inspection_Score increases.\n",
    "# 1 is the worst, and 100 is the best.\n",
    "sns.heatmap(food.corr())"
   ]
  },
  {
   "cell_type": "code",
   "execution_count": 6,
   "metadata": {
    "collapsed": false
   },
   "outputs": [
    {
     "data": {
      "text/html": [
       "<div>\n",
       "<table border=\"1\" class=\"dataframe\">\n",
       "  <thead>\n",
       "    <tr style=\"text-align: right;\">\n",
       "      <th></th>\n",
       "      <th>inspection_score</th>\n",
       "    </tr>\n",
       "    <tr>\n",
       "      <th>Year</th>\n",
       "      <th></th>\n",
       "    </tr>\n",
       "  </thead>\n",
       "  <tbody>\n",
       "    <tr>\n",
       "      <th>2013</th>\n",
       "      <td>86.911640</td>\n",
       "    </tr>\n",
       "    <tr>\n",
       "      <th>2014</th>\n",
       "      <td>86.985425</td>\n",
       "    </tr>\n",
       "    <tr>\n",
       "      <th>2015</th>\n",
       "      <td>86.549625</td>\n",
       "    </tr>\n",
       "    <tr>\n",
       "      <th>2016</th>\n",
       "      <td>85.384658</td>\n",
       "    </tr>\n",
       "  </tbody>\n",
       "</table>\n",
       "</div>"
      ],
      "text/plain": [
       "      inspection_score\n",
       "Year                  \n",
       "2013         86.911640\n",
       "2014         86.985425\n",
       "2015         86.549625\n",
       "2016         85.384658"
      ]
     },
     "execution_count": 6,
     "metadata": {},
     "output_type": "execute_result"
    }
   ],
   "source": [
    "food.groupby('Year')[['inspection_score']].mean()"
   ]
  },
  {
   "cell_type": "code",
   "execution_count": 7,
   "metadata": {
    "collapsed": false
   },
   "outputs": [
    {
     "data": {
      "text/plain": [
       "<matplotlib.axes._subplots.AxesSubplot at 0x1180888d0>"
      ]
     },
     "execution_count": 7,
     "metadata": {},
     "output_type": "execute_result"
    },
    {
     "data": {
      "image/png": "[encoded data removed]",
      "text/plain": [
       "<matplotlib.figure.Figure at 0x117a14350>"
      ]
     },
     "metadata": {},
     "output_type": "display_data"
    }
   ],
   "source": [
    "food.groupby('Year')['inspection_score'].mean().plot(kind = 'bar')"
   ]
  },
  {
   "cell_type": "code",
   "execution_count": 8,
   "metadata": {
    "collapsed": false
   },
   "outputs": [
    {
     "data": {
      "image/png": "[encoded data removed]",
      "text/plain": [
       "<matplotlib.figure.Figure at 0x117a1f450>"
      ]
     },
     "metadata": {},
     "output_type": "display_data"
    }
   ],
   "source": [
    "x, y = pd.Series(food['Year'], name=\"Year\"), pd.Series(food['inspection_score'], name=\"Inspection Score\")\n",
    "ax = sns.regplot(x=x, y=y, marker=\"+\")\n",
    "#There is actually a slight decrease in the inspection score as the Year increases.\n",
    "#There might be an issue with the restaraunts keeping there work place safe, hence we\n",
    "#can reject the hypothesis."
   ]
  },
  {
   "cell_type": "markdown",
   "metadata": {},
   "source": [
    "<img src=\"http://imgur.com/l5NasQj.png\" style=\"float: left; margin: 25px 15px 0px 0px; height: 25px\">\n",
    "\n",
    "### 2. Construct and evaluate a linear regression model on the data\n",
    "\n",
    "---\n",
    "\n",
    "1. State the variables that are predictors in your linear regression and the target variable.\n",
    "- Investigate and remove any outliers or other problems in your data. _This is a subjective process._\n",
    "- Construct a linear regression model.\n",
    "- Evaluate the model. How does the $R^2$ of the overall model compare to cross-validated $R^2$. What do the differences in $R^2$ mean?\n",
    "  - Use test / train split\n",
    "  - Use K-Folds\n",
    "  - Compare and explain your results with both\n",
    "- Visualize the evaluation metrics of your analysis in clear charts.\n",
    "- Summarize your results in the context of your hypothesis. Frame this as if you are presenting to non-technical readers.\n"
   ]
  },
  {
   "cell_type": "code",
   "execution_count": 9,
   "metadata": {
    "collapsed": false
   },
   "outputs": [
    {
     "data": {
      "text/html": [
       "<div>\n",
       "<table border=\"1\" class=\"dataframe\">\n",
       "  <thead>\n",
       "    <tr style=\"text-align: right;\">\n",
       "      <th></th>\n",
       "      <th>count</th>\n",
       "      <th>mean</th>\n",
       "      <th>std</th>\n",
       "      <th>min</th>\n",
       "      <th>25%</th>\n",
       "      <th>50%</th>\n",
       "      <th>75%</th>\n",
       "      <th>max</th>\n",
       "    </tr>\n",
       "  </thead>\n",
       "  <tbody>\n",
       "    <tr>\n",
       "      <th>business_id</th>\n",
       "      <td>51779.0</td>\n",
       "      <td>4.046256e+04</td>\n",
       "      <td>32553.767793</td>\n",
       "      <td>1.000000e+01</td>\n",
       "      <td>4.532000e+03</td>\n",
       "      <td>3.844200e+04</td>\n",
       "      <td>7.084900e+04</td>\n",
       "      <td>8.846100e+04</td>\n",
       "    </tr>\n",
       "    <tr>\n",
       "      <th>business_postal_code</th>\n",
       "      <td>51779.0</td>\n",
       "      <td>9.577628e+04</td>\n",
       "      <td>11024.788355</td>\n",
       "      <td>0.000000e+00</td>\n",
       "      <td>9.410800e+04</td>\n",
       "      <td>9.411200e+04</td>\n",
       "      <td>9.412200e+04</td>\n",
       "      <td>1.663719e+05</td>\n",
       "    </tr>\n",
       "    <tr>\n",
       "      <th>business_latitude</th>\n",
       "      <td>51779.0</td>\n",
       "      <td>3.774815e+01</td>\n",
       "      <td>0.044428</td>\n",
       "      <td>3.766882e+01</td>\n",
       "      <td>3.768539e+01</td>\n",
       "      <td>3.776343e+01</td>\n",
       "      <td>3.778653e+01</td>\n",
       "      <td>3.787594e+01</td>\n",
       "    </tr>\n",
       "    <tr>\n",
       "      <th>business_longitude</th>\n",
       "      <td>51779.0</td>\n",
       "      <td>-1.223453e+02</td>\n",
       "      <td>0.131328</td>\n",
       "      <td>-1.225109e+02</td>\n",
       "      <td>-1.224298e+02</td>\n",
       "      <td>-1.224087e+02</td>\n",
       "      <td>-1.221418e+02</td>\n",
       "      <td>-1.217040e+02</td>\n",
       "    </tr>\n",
       "    <tr>\n",
       "      <th>business_phone_number</th>\n",
       "      <td>51779.0</td>\n",
       "      <td>1.415547e+10</td>\n",
       "      <td>161008.917123</td>\n",
       "      <td>1.415359e+10</td>\n",
       "      <td>1.415542e+10</td>\n",
       "      <td>1.415542e+10</td>\n",
       "      <td>1.415542e+10</td>\n",
       "      <td>1.415726e+10</td>\n",
       "    </tr>\n",
       "    <tr>\n",
       "      <th>inspection_score</th>\n",
       "      <td>51779.0</td>\n",
       "      <td>8.649898e+01</td>\n",
       "      <td>7.647366</td>\n",
       "      <td>6.200000e+01</td>\n",
       "      <td>8.300000e+01</td>\n",
       "      <td>8.618363e+01</td>\n",
       "      <td>9.200000e+01</td>\n",
       "      <td>1.000000e+02</td>\n",
       "    </tr>\n",
       "    <tr>\n",
       "      <th>risk_category</th>\n",
       "      <td>51779.0</td>\n",
       "      <td>1.185094e+00</td>\n",
       "      <td>1.192377</td>\n",
       "      <td>0.000000e+00</td>\n",
       "      <td>0.000000e+00</td>\n",
       "      <td>1.000000e+00</td>\n",
       "      <td>2.000000e+00</td>\n",
       "      <td>3.000000e+00</td>\n",
       "    </tr>\n",
       "    <tr>\n",
       "      <th>Year</th>\n",
       "      <td>51779.0</td>\n",
       "      <td>2.014555e+03</td>\n",
       "      <td>1.005944</td>\n",
       "      <td>2.013000e+03</td>\n",
       "      <td>2.014000e+03</td>\n",
       "      <td>2.014000e+03</td>\n",
       "      <td>2.015000e+03</td>\n",
       "      <td>2.016000e+03</td>\n",
       "    </tr>\n",
       "    <tr>\n",
       "      <th>Month</th>\n",
       "      <td>51779.0</td>\n",
       "      <td>6.125843e+00</td>\n",
       "      <td>3.217957</td>\n",
       "      <td>1.000000e+00</td>\n",
       "      <td>3.000000e+00</td>\n",
       "      <td>6.000000e+00</td>\n",
       "      <td>9.000000e+00</td>\n",
       "      <td>1.200000e+01</td>\n",
       "    </tr>\n",
       "  </tbody>\n",
       "</table>\n",
       "</div>"
      ],
      "text/plain": [
       "                         count          mean            std           min  \\\n",
       "business_id            51779.0  4.046256e+04   32553.767793  1.000000e+01   \n",
       "business_postal_code   51779.0  9.577628e+04   11024.788355  0.000000e+00   \n",
       "business_latitude      51779.0  3.774815e+01       0.044428  3.766882e+01   \n",
       "business_longitude     51779.0 -1.223453e+02       0.131328 -1.225109e+02   \n",
       "business_phone_number  51779.0  1.415547e+10  161008.917123  1.415359e+10   \n",
       "inspection_score       51779.0  8.649898e+01       7.647366  6.200000e+01   \n",
       "risk_category          51779.0  1.185094e+00       1.192377  0.000000e+00   \n",
       "Year                   51779.0  2.014555e+03       1.005944  2.013000e+03   \n",
       "Month                  51779.0  6.125843e+00       3.217957  1.000000e+00   \n",
       "\n",
       "                                25%           50%           75%           max  \n",
       "business_id            4.532000e+03  3.844200e+04  7.084900e+04  8.846100e+04  \n",
       "business_postal_code   9.410800e+04  9.411200e+04  9.412200e+04  1.663719e+05  \n",
       "business_latitude      3.768539e+01  3.776343e+01  3.778653e+01  3.787594e+01  \n",
       "business_longitude    -1.224298e+02 -1.224087e+02 -1.221418e+02 -1.217040e+02  \n",
       "business_phone_number  1.415542e+10  1.415542e+10  1.415542e+10  1.415726e+10  \n",
       "inspection_score       8.300000e+01  8.618363e+01  9.200000e+01  1.000000e+02  \n",
       "risk_category          0.000000e+00  1.000000e+00  2.000000e+00  3.000000e+00  \n",
       "Year                   2.014000e+03  2.014000e+03  2.015000e+03  2.016000e+03  \n",
       "Month                  3.000000e+00  6.000000e+00  9.000000e+00  1.200000e+01  "
      ]
     },
     "execution_count": 9,
     "metadata": {},
     "output_type": "execute_result"
    }
   ],
   "source": [
    "food.describe().T"
   ]
  },
  {
   "cell_type": "code",
   "execution_count": 10,
   "metadata": {
    "collapsed": false
   },
   "outputs": [
    {
     "name": "stdout",
     "output_type": "stream",
     "text": [
      "R^2:  0.0142959394403\n"
     ]
    },
    {
     "data": {
      "image/png": "[encoded data removed]",
      "text/plain": [
       "<matplotlib.figure.Figure at 0x117b6b110>"
      ]
     },
     "metadata": {},
     "output_type": "display_data"
    }
   ],
   "source": [
    "#Predictors & Target Variables.\n",
    "\n",
    "#The predictor variables are business_latitude, longitude, Year, Month\n",
    "#My goal is to see if the location(latitude&longitude) and Date(Year&Month)\n",
    "#impact the inspection score.\n",
    "#The target variable is the inspection score.\n",
    "\n",
    "#Scale the Data and select the predictor variables.\n",
    "scaler      =  StandardScaler()\n",
    "columns     =  ['business_latitude','business_longitude', 'Year', 'Month']\n",
    "\n",
    "#Set the predictor and target variables.\n",
    "X = food[columns]\n",
    "y = food.inspection_score.values\n",
    "Xn = scaler.fit_transform(X)\n",
    "\n",
    "#Fit the model and score\n",
    "lm = LinearRegression()\n",
    "model = lm.fit(Xn, y)\n",
    "predictions  =  model.predict(Xn)\n",
    "score = model.score(Xn, y)\n",
    "\n",
    "print \"R^2: \", score\n",
    "\n",
    "plt.scatter(predictions, y, s=30, c='r', marker='+', zorder=10)\n",
    "plt.xlabel(\"Predicted Values from RM\")\n",
    "plt.ylabel(\"Actual Values MEDV\")\n",
    "\n",
    "plt.show()\n",
    "\n",
    "#The R2 is 0.014 which means the model doesn't explain the variability of the target variable\n",
    "#around the mean. To improve the R2 use cross validation and a test/train split."
   ]
  },
  {
   "cell_type": "code",
   "execution_count": 11,
   "metadata": {
    "collapsed": false
   },
   "outputs": [
    {
     "name": "stdout",
     "output_type": "stream",
     "text": [
      "(20711, 4) (20711,)\n",
      "(31068, 4) (31068,)\n",
      "(51779,)\n"
     ]
    }
   ],
   "source": [
    "#Outliers were previously removed.\n",
    "#Using the test/train test to calculate R2\n",
    "X_train, X_test, y_train, y_test = train_test_split(X, y, train_size=0.4)\n",
    "\n",
    "print X_train.shape, y_train.shape\n",
    "print X_test.shape, y_test.shape\n",
    "print predictions.shape"
   ]
  },
  {
   "cell_type": "code",
   "execution_count": 12,
   "metadata": {
    "collapsed": false
   },
   "outputs": [
    {
     "name": "stdout",
     "output_type": "stream",
     "text": [
      "Score: 0.0149875313251\n"
     ]
    },
    {
     "data": {
      "image/png": "[encoded data removed]",
      "text/plain": [
       "<matplotlib.figure.Figure at 0x117f63350>"
      ]
     },
     "metadata": {},
     "output_type": "display_data"
    }
   ],
   "source": [
    "model = lm.fit(X_train, y_train)\n",
    "predictions = lm.predict(X_test)\n",
    "\n",
    "plt.scatter(y_test, predictions)\n",
    "plt.xlabel(\"True Values\")\n",
    "plt.ylabel(\"Predictions\")\n",
    "\n",
    "print \"Score:\", model.score(X_test, y_test)\n",
    "#The R2 is slightly better than the previous R2 without the train/test. This means\n",
    "#the model is better in terms of explaining the variability of the predictor variables."
   ]
  },
  {
   "cell_type": "code",
   "execution_count": 13,
   "metadata": {
    "collapsed": false
   },
   "outputs": [
    {
     "name": "stdout",
     "output_type": "stream",
     "text": [
      "Cross-validated scores: [ 0.01706529  0.03132799  0.00706922 -0.00216417  0.01205589 -0.00619928\n",
      "  0.01608176  0.00870887  0.01197933 -0.00086528]\n",
      "Cross-Predicted Accuracy: 0.0130421413312\n"
     ]
    }
   ],
   "source": [
    "#Using k folds to calculate R2.\n",
    "scores = cross_val_score(lm, X, y, cv=10)\n",
    "\n",
    "predictions = cross_val_predict(lm, X, y, cv=10)\n",
    "print \"Cross-validated scores:\", scores\n",
    "\n",
    "accuracy = metrics.r2_score(y, predictions)\n",
    "print \"Cross-Predicted Accuracy:\", accuracy\n",
    "\n",
    "#The R2 is slightly worse than the test/train set.\n",
    "#In general the model used to map the variables Latitude, Longitude, Year, \n",
    "#and Month don't have much variability around the mean. By increasing the \n",
    "#year the scores decrease which is similar to the hypothesis we got in #1."
   ]
  },
  {
   "cell_type": "markdown",
   "metadata": {},
   "source": [
    "<img src=\"http://imgur.com/xDpSobf.png\" style=\"float: left; margin: 25px 15px 0px 0px; height: 25px\">\n",
    "\n",
    "### 2.2 Explain $R^2$ vs. mean squared error (MSE)\n",
    "\n",
    "---\n",
    "\n",
    "1. If you have negative $R^2$ values in cross-validation, what does this mean? \n",
    "2. Why can $R^2$ only be negative when the model is tested on new data?"
   ]
  },
  {
   "cell_type": "code",
   "execution_count": 14,
   "metadata": {
    "collapsed": true
   },
   "outputs": [],
   "source": [
    "#If you have negative  R2  values in cross-validation, what does this mean?\n",
    "#A negative R2 value means the chosen model is worse than the baseline model. The model doesn't\n",
    "#follow the data's trend thus it fits worse than the baseline.\n",
    "\n",
    "#Why can R2 be negative when the model is tested on new data?\n",
    "#Adjusted R2 can be negative when the model's new terms improves the model by less\n",
    "#than what is expected of it. A data that is already tested doesn't have the new\n",
    "#terms to calculate the adjusted R2."
   ]
  },
  {
   "cell_type": "markdown",
   "metadata": {},
   "source": [
    "<img src=\"http://imgur.com/l5NasQj.png\" style=\"float: left; margin: 25px 15px 0px 0px; height: 25px\">\n",
    "\n",
    "### 3. Combine multiple sources of data and evaluate a model with regularized regression\n",
    "\n",
    "---\n",
    "\n",
    "**I recommend having many predictors to see benefits from regularization methods, but it's up to you.**\n",
    "\n",
    "1. Use _NEW_ sources of data for this section. It should not be related to your analysis/hypothesis from section 1.\n",
    "- Like in part 1, you should state a hypothesis and perform data cleaning and EDA _only_ on the relevant portions of your data. Don't waste time!\n",
    "- Construct and evaluate different models with cross-validated $R^2$. Compare LinearRegression, Lasso, Ridge, and ElasticNet. Find the optimal hyperparameters (alpha, l1_ratio) using gridsearch.\n",
    "- Report on which model is best, and why that might be the case (hint: does your data have multicollinearity? Irrelevant variables? Both?)\n",
    "- Plot visuals that compare the performance of the four models.\n"
   ]
  },
  {
   "cell_type": "code",
   "execution_count": 15,
   "metadata": {
    "collapsed": true
   },
   "outputs": [],
   "source": [
    "from sklearn.linear_model import Ridge, Lasso, ElasticNet, LinearRegression, RidgeCV, LassoCV, ElasticNetCV"
   ]
  },
  {
   "cell_type": "code",
   "execution_count": 32,
   "metadata": {
    "collapsed": false
   },
   "outputs": [
    {
     "data": {
      "text/html": [
       "<div>\n",
       "<table border=\"1\" class=\"dataframe\">\n",
       "  <thead>\n",
       "    <tr style=\"text-align: right;\">\n",
       "      <th></th>\n",
       "      <th>business_id</th>\n",
       "      <th>score</th>\n",
       "      <th>violation_count</th>\n",
       "      <th>days_since_first_violation</th>\n",
       "      <th>latitude</th>\n",
       "      <th>longitude</th>\n",
       "      <th>polygon</th>\n",
       "      <th>business_count</th>\n",
       "      <th>200</th>\n",
       "      <th>200 feet</th>\n",
       "      <th>...</th>\n",
       "      <th>washed fruits</th>\n",
       "      <th>wastewater</th>\n",
       "      <th>wastewater contamination</th>\n",
       "      <th>wastewater disposal</th>\n",
       "      <th>water</th>\n",
       "      <th>water running</th>\n",
       "      <th>wiping</th>\n",
       "      <th>wiping cloths</th>\n",
       "      <th>worker</th>\n",
       "      <th>worker safety</th>\n",
       "    </tr>\n",
       "  </thead>\n",
       "  <tbody>\n",
       "    <tr>\n",
       "      <th>10</th>\n",
       "      <td>24.0</td>\n",
       "      <td>96.0</td>\n",
       "      <td>4.0</td>\n",
       "      <td>844.0</td>\n",
       "      <td>37.792888</td>\n",
       "      <td>-122.403135</td>\n",
       "      <td>10.0</td>\n",
       "      <td>112.0</td>\n",
       "      <td>0</td>\n",
       "      <td>0</td>\n",
       "      <td>...</td>\n",
       "      <td>0</td>\n",
       "      <td>0</td>\n",
       "      <td>0</td>\n",
       "      <td>0</td>\n",
       "      <td>0</td>\n",
       "      <td>0</td>\n",
       "      <td>0</td>\n",
       "      <td>0</td>\n",
       "      <td>0</td>\n",
       "      <td>0</td>\n",
       "    </tr>\n",
       "    <tr>\n",
       "      <th>16</th>\n",
       "      <td>77.0</td>\n",
       "      <td>100.0</td>\n",
       "      <td>1.0</td>\n",
       "      <td>0.0</td>\n",
       "      <td>37.792888</td>\n",
       "      <td>-122.403135</td>\n",
       "      <td>10.0</td>\n",
       "      <td>112.0</td>\n",
       "      <td>0</td>\n",
       "      <td>0</td>\n",
       "      <td>...</td>\n",
       "      <td>0</td>\n",
       "      <td>0</td>\n",
       "      <td>0</td>\n",
       "      <td>0</td>\n",
       "      <td>0</td>\n",
       "      <td>0</td>\n",
       "      <td>0</td>\n",
       "      <td>0</td>\n",
       "      <td>0</td>\n",
       "      <td>0</td>\n",
       "    </tr>\n",
       "    <tr>\n",
       "      <th>37</th>\n",
       "      <td>108.0</td>\n",
       "      <td>94.0</td>\n",
       "      <td>2.0</td>\n",
       "      <td>528.0</td>\n",
       "      <td>37.790868</td>\n",
       "      <td>-122.410854</td>\n",
       "      <td>10.0</td>\n",
       "      <td>112.0</td>\n",
       "      <td>0</td>\n",
       "      <td>0</td>\n",
       "      <td>...</td>\n",
       "      <td>0</td>\n",
       "      <td>0</td>\n",
       "      <td>0</td>\n",
       "      <td>0</td>\n",
       "      <td>0</td>\n",
       "      <td>0</td>\n",
       "      <td>0</td>\n",
       "      <td>0</td>\n",
       "      <td>0</td>\n",
       "      <td>0</td>\n",
       "    </tr>\n",
       "    <tr>\n",
       "      <th>38</th>\n",
       "      <td>121.0</td>\n",
       "      <td>87.0</td>\n",
       "      <td>1.0</td>\n",
       "      <td>0.0</td>\n",
       "      <td>37.790643</td>\n",
       "      <td>-122.404676</td>\n",
       "      <td>10.0</td>\n",
       "      <td>112.0</td>\n",
       "      <td>0</td>\n",
       "      <td>0</td>\n",
       "      <td>...</td>\n",
       "      <td>0</td>\n",
       "      <td>0</td>\n",
       "      <td>0</td>\n",
       "      <td>0</td>\n",
       "      <td>0</td>\n",
       "      <td>0</td>\n",
       "      <td>0</td>\n",
       "      <td>0</td>\n",
       "      <td>0</td>\n",
       "      <td>0</td>\n",
       "    </tr>\n",
       "    <tr>\n",
       "      <th>42</th>\n",
       "      <td>121.0</td>\n",
       "      <td>90.0</td>\n",
       "      <td>2.0</td>\n",
       "      <td>196.0</td>\n",
       "      <td>37.790643</td>\n",
       "      <td>-122.404676</td>\n",
       "      <td>10.0</td>\n",
       "      <td>112.0</td>\n",
       "      <td>0</td>\n",
       "      <td>0</td>\n",
       "      <td>...</td>\n",
       "      <td>0</td>\n",
       "      <td>0</td>\n",
       "      <td>0</td>\n",
       "      <td>0</td>\n",
       "      <td>0</td>\n",
       "      <td>0</td>\n",
       "      <td>0</td>\n",
       "      <td>0</td>\n",
       "      <td>0</td>\n",
       "      <td>0</td>\n",
       "    </tr>\n",
       "  </tbody>\n",
       "</table>\n",
       "<p>5 rows × 381 columns</p>\n",
       "</div>"
      ],
      "text/plain": [
       "    business_id  score  violation_count  days_since_first_violation  \\\n",
       "10         24.0   96.0              4.0                       844.0   \n",
       "16         77.0  100.0              1.0                         0.0   \n",
       "37        108.0   94.0              2.0                       528.0   \n",
       "38        121.0   87.0              1.0                         0.0   \n",
       "42        121.0   90.0              2.0                       196.0   \n",
       "\n",
       "     latitude   longitude  polygon  business_count  200  200 feet  \\\n",
       "10  37.792888 -122.403135     10.0           112.0    0         0   \n",
       "16  37.792888 -122.403135     10.0           112.0    0         0   \n",
       "37  37.790868 -122.410854     10.0           112.0    0         0   \n",
       "38  37.790643 -122.404676     10.0           112.0    0         0   \n",
       "42  37.790643 -122.404676     10.0           112.0    0         0   \n",
       "\n",
       "        ...        washed fruits  wastewater  wastewater contamination  \\\n",
       "10      ...                    0           0                         0   \n",
       "16      ...                    0           0                         0   \n",
       "37      ...                    0           0                         0   \n",
       "38      ...                    0           0                         0   \n",
       "42      ...                    0           0                         0   \n",
       "\n",
       "    wastewater disposal  water  water running  wiping  wiping cloths  worker  \\\n",
       "10                    0      0              0       0              0       0   \n",
       "16                    0      0              0       0              0       0   \n",
       "37                    0      0              0       0              0       0   \n",
       "38                    0      0              0       0              0       0   \n",
       "42                    0      0              0       0              0       0   \n",
       "\n",
       "    worker safety  \n",
       "10              0  \n",
       "16              0  \n",
       "37              0  \n",
       "38              0  \n",
       "42              0  \n",
       "\n",
       "[5 rows x 381 columns]"
      ]
     },
     "execution_count": 32,
     "metadata": {},
     "output_type": "execute_result"
    }
   ],
   "source": [
    "#I am using the yelp dataset since the food inspection dataset only has one csv file.\n",
    "yelp = pd.read_csv('violations_parsed_words.csv')\n",
    "yelp = yelp._get_numeric_data()\n",
    "yelp = yelp.apply(lambda x: x.fillna(x.mean()),axis=0)\n",
    "yelp = yelp[(np.abs(stats.zscore(yelp)) < 3).all(axis=1)]\n",
    "yelp.head()\n",
    "\n",
    "#Hypothesis: As the violation_count increases the days since first violation increases."
   ]
  },
  {
   "cell_type": "code",
   "execution_count": 17,
   "metadata": {
    "collapsed": false
   },
   "outputs": [
    {
     "data": {
      "text/plain": [
       "<matplotlib.axes._subplots.AxesSubplot at 0x117b76e10>"
      ]
     },
     "execution_count": 17,
     "metadata": {},
     "output_type": "execute_result"
    },
    {
     "data": {
      "image/png": "[encoded data removed]",
      "text/plain": [
       "<matplotlib.figure.Figure at 0x117a1f3d0>"
      ]
     },
     "metadata": {},
     "output_type": "display_data"
    }
   ],
   "source": [
    "sns.heatmap(yelp.iloc[:,:7].corr())"
   ]
  },
  {
   "cell_type": "code",
   "execution_count": 18,
   "metadata": {
    "collapsed": false
   },
   "outputs": [
    {
     "name": "stdout",
     "output_type": "stream",
     "text": [
      "0.833336266592\n"
     ]
    }
   ],
   "source": [
    "#Linear Model\n",
    "scaler      =  StandardScaler()\n",
    "columns     =  ['violation_count']\n",
    "\n",
    "#Set the predictor and target variables.\n",
    "X = yelp[columns]\n",
    "y = yelp['days_since_first_violation'].values\n",
    "Xn = scaler.fit_transform(X)\n",
    "\n",
    "\n",
    "lm = LinearRegression()\n",
    "\n",
    "linreg_scores = cross_val_score(lm, Xn, y, cv=10)\n",
    "\n",
    "print np.mean(linreg_scores)"
   ]
  },
  {
   "cell_type": "code",
   "execution_count": 19,
   "metadata": {
    "collapsed": false
   },
   "outputs": [
    {
     "data": {
      "text/plain": [
       "<matplotlib.collections.PathCollection at 0x117e9d1d0>"
      ]
     },
     "execution_count": 19,
     "metadata": {},
     "output_type": "execute_result"
    },
    {
     "data": {
      "image/png": "[encoded data removed]",
      "text/plain": [
       "<matplotlib.figure.Figure at 0x11998f590>"
      ]
     },
     "metadata": {},
     "output_type": "display_data"
    }
   ],
   "source": [
    "model = lm.fit(Xn, y)\n",
    "predictions  =  model.predict(Xn)\n",
    "plt.scatter(predictions, y, s=30, c='r', marker='+', zorder=10)"
   ]
  },
  {
   "cell_type": "code",
   "execution_count": 20,
   "metadata": {
    "collapsed": false
   },
   "outputs": [
    {
     "name": "stdout",
     "output_type": "stream",
     "text": [
      "0.83336728909\n"
     ]
    }
   ],
   "source": [
    "#Ridge\n",
    "ridge_alphas = np.logspace(0, 5, 200)\n",
    "\n",
    "optimal_ridge = RidgeCV(alphas=ridge_alphas, cv=10)\n",
    "optimal_ridge.fit(Xn, y)\n",
    "\n",
    "ridge = Ridge(alpha=optimal_ridge.alpha_)\n",
    "\n",
    "ridge_scores = cross_val_score(ridge, Xn, y, cv=10)\n",
    "\n",
    "print np.mean(ridge_scores)"
   ]
  },
  {
   "cell_type": "code",
   "execution_count": 21,
   "metadata": {
    "collapsed": false
   },
   "outputs": [
    {
     "name": "stdout",
     "output_type": "stream",
     "text": [
      "0.833357458392\n"
     ]
    }
   ],
   "source": [
    "#Lasso\n",
    "\n",
    "optimal_lasso = LassoCV(n_alphas=500, cv=10, verbose=0)\n",
    "optimal_lasso.fit(Xn, y)\n",
    "\n",
    "lasso = Lasso(alpha=optimal_lasso.alpha_)\n",
    "\n",
    "lasso_scores = cross_val_score(lasso, Xn, y, cv=10)\n",
    "\n",
    "print np.mean(lasso_scores)"
   ]
  },
  {
   "cell_type": "code",
   "execution_count": 22,
   "metadata": {
    "collapsed": false
   },
   "outputs": [
    {
     "name": "stdout",
     "output_type": "stream",
     "text": [
      "0.833364946953\n"
     ]
    }
   ],
   "source": [
    "#ElasticNet\n",
    "\n",
    "l1_ratios = np.linspace(0.01, 1.0, 50)\n",
    "\n",
    "optimal_enet = ElasticNetCV(l1_ratio=l1_ratios, n_alphas=300, cv=5,\n",
    "                            verbose=0)\n",
    "optimal_enet.fit(Xn, y)\n",
    "\n",
    "enet = ElasticNet(alpha=optimal_enet.alpha_, l1_ratio=optimal_enet.l1_ratio_)\n",
    "\n",
    "enet_scores = cross_val_score(enet, Xn, y, cv=10)\n",
    "\n",
    "print np.mean(enet_scores)\n",
    "\n",
    "#Ridge has the best model since it is able to manage the multicollinearity and get a \n",
    "#decent result. The dataset has some variables that have a high linear relationship.\n",
    "#In this case violation count and days since the first violation are highly \n",
    "#correlated."
   ]
  },
  {
   "cell_type": "code",
   "execution_count": 23,
   "metadata": {
    "collapsed": false
   },
   "outputs": [
    {
     "data": {
      "text/plain": [
       "Lasso(alpha=1.2845075862315847, copy_X=True, fit_intercept=True,\n",
       "   max_iter=1000, normalize=False, positive=False, precompute=False,\n",
       "   random_state=None, selection='cyclic', tol=0.0001, warm_start=False)"
      ]
     },
     "execution_count": 23,
     "metadata": {},
     "output_type": "execute_result"
    }
   ],
   "source": [
    "ridge.fit(Xn, y)\n",
    "enet.fit(Xn, y)\n",
    "lasso.fit(Xn, y)"
   ]
  },
  {
   "cell_type": "code",
   "execution_count": 24,
   "metadata": {
    "collapsed": true
   },
   "outputs": [],
   "source": [
    "ridge_resid = y - ridge.predict(Xn)\n",
    "lasso_resid = y - lasso.predict(Xn)\n",
    "enet_resid = y - enet.predict(Xn)"
   ]
  },
  {
   "cell_type": "code",
   "execution_count": 25,
   "metadata": {
    "collapsed": false
   },
   "outputs": [
    {
     "data": {
      "image/png": "[encoded data removed]",
      "text/plain": [
       "<matplotlib.figure.Figure at 0x1188d8e10>"
      ]
     },
     "metadata": {},
     "output_type": "display_data"
    }
   ],
   "source": [
    "fig, axarr = plt.subplots(1, 3, figsize=(18, 6))\n",
    "\n",
    "sns.distplot(ridge_resid, bins=50, hist=True, kde=False, \n",
    "             color='steelblue', ax=axarr[0], label='Ridge residuals')\n",
    "\n",
    "sns.distplot(ridge_resid, bins=50, hist=True, kde=False, \n",
    "             color='darkred', ax=axarr[1], label='Lasso residuals')\n",
    "\n",
    "sns.distplot(ridge_resid, bins=50, hist=True, kde=False, \n",
    "             color='darkgoldenrod', ax=axarr[2], label='ElasticNet residuals')\n",
    "\n",
    "plt.show()\n",
    "\n",
    "#Based on our model and plots we can say as the violation count increases the days since\n",
    "#the first violation increases."
   ]
  },
  {
   "cell_type": "markdown",
   "metadata": {},
   "source": [
    "<img src=\"http://imgur.com/l5NasQj.png\" style=\"float: left; margin: 25px 15px 0px 0px; height: 25px\">\n",
    "\n",
    "### 4. Conduct another, different analysis and report on it\n",
    "\n",
    "---\n",
    "\n",
    "1. Combining multiple sources of data (csv files) is required.\n",
    "- Perform EDA and cleaning on relevant data.\n",
    "- Construct and compare different regression models with cross-validation.\n",
    "- Plot descriptive visuals you think are useful for understanding the data.\n",
    "- Report on your findings.\n",
    "\n",
    "This section is just another analysis like the first sections, but is more open-ended in what models you decide to build and why. Don't feel obligated to try every out every regularized regression model (though it doesn't hurt). \n"
   ]
  },
  {
   "cell_type": "code",
   "execution_count": 26,
   "metadata": {
    "collapsed": false
   },
   "outputs": [
    {
     "data": {
      "text/html": [
       "<div>\n",
       "<table border=\"1\" class=\"dataframe\">\n",
       "  <thead>\n",
       "    <tr style=\"text-align: right;\">\n",
       "      <th></th>\n",
       "      <th>business_id</th>\n",
       "      <th>name</th>\n",
       "      <th>address</th>\n",
       "      <th>city</th>\n",
       "      <th>state</th>\n",
       "      <th>postal_code</th>\n",
       "      <th>latitude</th>\n",
       "      <th>longitude</th>\n",
       "      <th>phone_number</th>\n",
       "      <th>score</th>\n",
       "      <th>date</th>\n",
       "      <th>type</th>\n",
       "    </tr>\n",
       "  </thead>\n",
       "  <tbody>\n",
       "    <tr>\n",
       "      <th>0</th>\n",
       "      <td>10</td>\n",
       "      <td>TIRAMISU KITCHEN</td>\n",
       "      <td>033 BELDEN PL</td>\n",
       "      <td>San Francisco</td>\n",
       "      <td>CA</td>\n",
       "      <td>94104</td>\n",
       "      <td>37.791116</td>\n",
       "      <td>-122.403816</td>\n",
       "      <td>+14154217044</td>\n",
       "      <td>94.0</td>\n",
       "      <td>20140729.0</td>\n",
       "      <td>routine</td>\n",
       "    </tr>\n",
       "    <tr>\n",
       "      <th>1</th>\n",
       "      <td>10</td>\n",
       "      <td>TIRAMISU KITCHEN</td>\n",
       "      <td>033 BELDEN PL</td>\n",
       "      <td>San Francisco</td>\n",
       "      <td>CA</td>\n",
       "      <td>94104</td>\n",
       "      <td>37.791116</td>\n",
       "      <td>-122.403816</td>\n",
       "      <td>+14154217044</td>\n",
       "      <td>92.0</td>\n",
       "      <td>20140114.0</td>\n",
       "      <td>routine</td>\n",
       "    </tr>\n",
       "    <tr>\n",
       "      <th>2</th>\n",
       "      <td>19</td>\n",
       "      <td>NRGIZE LIFESTYLE CAFE</td>\n",
       "      <td>1200 VAN NESS AVE, 3RD FLOOR</td>\n",
       "      <td>San Francisco</td>\n",
       "      <td>CA</td>\n",
       "      <td>94109</td>\n",
       "      <td>37.786848</td>\n",
       "      <td>-122.421547</td>\n",
       "      <td>+14157763262</td>\n",
       "      <td>94.0</td>\n",
       "      <td>20141110.0</td>\n",
       "      <td>routine</td>\n",
       "    </tr>\n",
       "    <tr>\n",
       "      <th>3</th>\n",
       "      <td>19</td>\n",
       "      <td>NRGIZE LIFESTYLE CAFE</td>\n",
       "      <td>1200 VAN NESS AVE, 3RD FLOOR</td>\n",
       "      <td>San Francisco</td>\n",
       "      <td>CA</td>\n",
       "      <td>94109</td>\n",
       "      <td>37.786848</td>\n",
       "      <td>-122.421547</td>\n",
       "      <td>+14157763262</td>\n",
       "      <td>94.0</td>\n",
       "      <td>20140214.0</td>\n",
       "      <td>routine</td>\n",
       "    </tr>\n",
       "    <tr>\n",
       "      <th>4</th>\n",
       "      <td>19</td>\n",
       "      <td>NRGIZE LIFESTYLE CAFE</td>\n",
       "      <td>1200 VAN NESS AVE, 3RD FLOOR</td>\n",
       "      <td>San Francisco</td>\n",
       "      <td>CA</td>\n",
       "      <td>94109</td>\n",
       "      <td>37.786848</td>\n",
       "      <td>-122.421547</td>\n",
       "      <td>+14157763262</td>\n",
       "      <td>96.0</td>\n",
       "      <td>20130904.0</td>\n",
       "      <td>routine</td>\n",
       "    </tr>\n",
       "  </tbody>\n",
       "</table>\n",
       "</div>"
      ],
      "text/plain": [
       "   business_id                   name                       address  \\\n",
       "0           10       TIRAMISU KITCHEN                 033 BELDEN PL   \n",
       "1           10       TIRAMISU KITCHEN                 033 BELDEN PL   \n",
       "2           19  NRGIZE LIFESTYLE CAFE  1200 VAN NESS AVE, 3RD FLOOR   \n",
       "3           19  NRGIZE LIFESTYLE CAFE  1200 VAN NESS AVE, 3RD FLOOR   \n",
       "4           19  NRGIZE LIFESTYLE CAFE  1200 VAN NESS AVE, 3RD FLOOR   \n",
       "\n",
       "            city state postal_code   latitude   longitude  phone_number  \\\n",
       "0  San Francisco    CA       94104  37.791116 -122.403816  +14154217044   \n",
       "1  San Francisco    CA       94104  37.791116 -122.403816  +14154217044   \n",
       "2  San Francisco    CA       94109  37.786848 -122.421547  +14157763262   \n",
       "3  San Francisco    CA       94109  37.786848 -122.421547  +14157763262   \n",
       "4  San Francisco    CA       94109  37.786848 -122.421547  +14157763262   \n",
       "\n",
       "   score        date     type  \n",
       "0   94.0  20140729.0  routine  \n",
       "1   92.0  20140114.0  routine  \n",
       "2   94.0  20141110.0  routine  \n",
       "3   94.0  20140214.0  routine  \n",
       "4   96.0  20130904.0  routine  "
      ]
     },
     "execution_count": 26,
     "metadata": {},
     "output_type": "execute_result"
    }
   ],
   "source": [
    "business = pd.read_csv('businesses.csv')\n",
    "inspection = pd.read_csv('inspections.csv')\n",
    "park = pd.merge(business, inspection, on='business_id', how='left')\n",
    "park.head()"
   ]
  },
  {
   "cell_type": "code",
   "execution_count": 27,
   "metadata": {
    "collapsed": false
   },
   "outputs": [
    {
     "data": {
      "text/html": [
       "<div>\n",
       "<table border=\"1\" class=\"dataframe\">\n",
       "  <thead>\n",
       "    <tr style=\"text-align: right;\">\n",
       "      <th></th>\n",
       "      <th>business_id</th>\n",
       "      <th>postal_code</th>\n",
       "      <th>latitude</th>\n",
       "      <th>longitude</th>\n",
       "      <th>score</th>\n",
       "      <th>Year</th>\n",
       "    </tr>\n",
       "  </thead>\n",
       "  <tbody>\n",
       "    <tr>\n",
       "      <th>0</th>\n",
       "      <td>10</td>\n",
       "      <td>94104.0</td>\n",
       "      <td>37.791116</td>\n",
       "      <td>-122.403816</td>\n",
       "      <td>94.0</td>\n",
       "      <td>2014.0</td>\n",
       "    </tr>\n",
       "    <tr>\n",
       "      <th>1</th>\n",
       "      <td>10</td>\n",
       "      <td>94104.0</td>\n",
       "      <td>37.791116</td>\n",
       "      <td>-122.403816</td>\n",
       "      <td>92.0</td>\n",
       "      <td>2014.0</td>\n",
       "    </tr>\n",
       "    <tr>\n",
       "      <th>2</th>\n",
       "      <td>19</td>\n",
       "      <td>94109.0</td>\n",
       "      <td>37.786848</td>\n",
       "      <td>-122.421547</td>\n",
       "      <td>94.0</td>\n",
       "      <td>2014.0</td>\n",
       "    </tr>\n",
       "    <tr>\n",
       "      <th>3</th>\n",
       "      <td>19</td>\n",
       "      <td>94109.0</td>\n",
       "      <td>37.786848</td>\n",
       "      <td>-122.421547</td>\n",
       "      <td>94.0</td>\n",
       "      <td>2014.0</td>\n",
       "    </tr>\n",
       "    <tr>\n",
       "      <th>4</th>\n",
       "      <td>19</td>\n",
       "      <td>94109.0</td>\n",
       "      <td>37.786848</td>\n",
       "      <td>-122.421547</td>\n",
       "      <td>96.0</td>\n",
       "      <td>2013.0</td>\n",
       "    </tr>\n",
       "  </tbody>\n",
       "</table>\n",
       "</div>"
      ],
      "text/plain": [
       "   business_id  postal_code   latitude   longitude  score    Year\n",
       "0           10      94104.0  37.791116 -122.403816   94.0  2014.0\n",
       "1           10      94104.0  37.791116 -122.403816   92.0  2014.0\n",
       "2           19      94109.0  37.786848 -122.421547   94.0  2014.0\n",
       "3           19      94109.0  37.786848 -122.421547   94.0  2014.0\n",
       "4           19      94109.0  37.786848 -122.421547   96.0  2013.0"
      ]
     },
     "execution_count": 27,
     "metadata": {},
     "output_type": "execute_result"
    }
   ],
   "source": [
    "park.postal_code = pd.to_numeric(park.postal_code, errors = 'coerce')\n",
    "\n",
    "park['Year'] = park['date'].floordiv(10000)\n",
    "park = park._get_numeric_data()\n",
    "park = park.apply(lambda x: x.fillna(x.mean()),axis=0)\n",
    "park = park[(np.abs(stats.zscore(park)) < 3).all(axis=1)]\n",
    "park.drop('date', axis=1, inplace=True)\n",
    "park.head()"
   ]
  },
  {
   "cell_type": "code",
   "execution_count": 28,
   "metadata": {
    "collapsed": false
   },
   "outputs": [
    {
     "data": {
      "text/plain": [
       "<matplotlib.axes._subplots.AxesSubplot at 0x11a544610>"
      ]
     },
     "execution_count": 28,
     "metadata": {},
     "output_type": "execute_result"
    },
    {
     "data": {
      "image/png": "[encoded data removed]",
      "text/plain": [
       "<matplotlib.figure.Figure at 0x11a503690>"
      ]
     },
     "metadata": {},
     "output_type": "display_data"
    }
   ],
   "source": [
    "sns.heatmap(park.corr())"
   ]
  },
  {
   "cell_type": "code",
   "execution_count": 29,
   "metadata": {
    "collapsed": false
   },
   "outputs": [
    {
     "name": "stdout",
     "output_type": "stream",
     "text": [
      "Cross-Predicted Accuracy: -0.00725884907876\n"
     ]
    },
    {
     "data": {
      "image/png": "[encoded data removed]",
      "text/plain": [
       "<matplotlib.figure.Figure at 0x118980c50>"
      ]
     },
     "metadata": {},
     "output_type": "display_data"
    }
   ],
   "source": [
    "scaler      =  StandardScaler()\n",
    "columns     =  ['Year', 'postal_code']\n",
    "park[columns] =  scaler.fit_transform(park[columns])\n",
    "\n",
    "X = park[columns]\n",
    "y = park.score.values\n",
    "Xn = scaler.fit_transform(X)\n",
    "\n",
    "scores = cross_val_score(lm, Xn, y, cv=15)\n",
    "predictions = cross_val_predict(lm, Xn, y, cv=15)\n",
    "plt.scatter(y, predictions)\n",
    "\n",
    "accuracy = metrics.r2_score(y, predictions)\n",
    "print \"Cross-Predicted Accuracy:\", accuracy"
   ]
  },
  {
   "cell_type": "code",
   "execution_count": 30,
   "metadata": {
    "collapsed": false
   },
   "outputs": [
    {
     "name": "stdout",
     "output_type": "stream",
     "text": [
      "Cross-Predicted Accuracy: -0.0109900391711\n"
     ]
    },
    {
     "data": {
      "image/png": "[encoded data removed]",
      "text/plain": [
       "<matplotlib.figure.Figure at 0x117e694d0>"
      ]
     },
     "metadata": {},
     "output_type": "display_data"
    }
   ],
   "source": [
    "columns     =  ['longitude', 'business_id']\n",
    "park[columns] =  scaler.fit_transform(park[columns])\n",
    "\n",
    "X = park[columns]\n",
    "y = park.score.values\n",
    "Xn = scaler.fit_transform(X)\n",
    "\n",
    "scores = cross_val_score(lm, Xn, y, cv=15)\n",
    "predictions = cross_val_predict(lm, Xn, y, cv=15)\n",
    "plt.scatter(y, predictions)\n",
    "\n",
    "accuracy = metrics.r2_score(y, predictions)\n",
    "print \"Cross-Predicted Accuracy:\", accuracy"
   ]
  },
  {
   "cell_type": "code",
   "execution_count": 31,
   "metadata": {
    "collapsed": true
   },
   "outputs": [],
   "source": [
    "#Both these models have a negative R2 value. The chosen models don't follow the trend of the \n",
    "#data, and we can say it fits worse than the baseline model. The year and postal code\n",
    "#model fits better than the longitude and business_id thus we can say model 1's variables \n",
    "#slightly fits the model better."
   ]
  },
  {
   "cell_type": "markdown",
   "metadata": {},
   "source": [
    "<img src=\"http://imgur.com/xDpSobf.png\" style=\"float: left; margin: 25px 15px 0px 0px; height: 25px\">\n",
    "\n",
    "### 4.2 Ploting GridSearch with Lasso, Ridge, or Elasticnet\n",
    "---\n",
    "1. Using the gridsearch results, plot your score in relation to your parameters.\n",
    "1. Plot the effect on your coefficients given alpha.\n",
    "1. Plot any other parameter change to visualize the impact of any other hyperparameter.\n",
    "\n",
    "It's helpful to understand the impact of parameters used in Gridsearch, and that you are comfortable working with the data that is generated for reporting to explore the results visually."
   ]
  },
  {
   "cell_type": "code",
   "execution_count": null,
   "metadata": {
    "collapsed": true
   },
   "outputs": [],
   "source": []
  },
  {
   "cell_type": "markdown",
   "metadata": {},
   "source": [
    "<img src=\"http://imgur.com/GCAf1UX.png\" style=\"float: left; margin: 25px 15px 0px 0px; height: 25px\">\n",
    "\n",
    "## 5. Bias-variance tradeoff\n",
    "\n",
    "---\n",
    "\n",
    "1. Select San Francisco data of your choice and construct a regularized regression model (this can be data from an earlier analysis if you like). Ideally the model should actually improve across regularization strengths...\n",
    "- Gridsearch the regularization parameters to find the optimal.\n",
    "- Plot the regularization parameter against the cross-validated $R^2$.\n",
    "- Explain how regularization and regularization strength is related to the bias-variance tradeoff.\n"
   ]
  },
  {
   "cell_type": "code",
   "execution_count": null,
   "metadata": {
    "collapsed": true
   },
   "outputs": [],
   "source": []
  },
  {
   "cell_type": "markdown",
   "metadata": {},
   "source": [
    "<img src=\"http://imgur.com/xDpSobf.png\" style=\"float: left; margin: 25px 15px 0px 0px; height: 25px\">\n",
    "\n",
    "### 5.1 Calculate the approximated $\\text{bias}^2$ and variance across regularization strengths.\n",
    "\n",
    "---\n",
    "\n",
    "You can obviously use my code from the bias-variance lab to do this. \n",
    "\n",
    "Plot the bias and variance change _with_ the cross-validated $R^2$. \n",
    "\n",
    "You'll need to scale these values somehow to put them on the same chart (I recommend (MinMaxScaler)[http://scikit-learn.org/stable/modules/generated/sklearn.preprocessing.MinMaxScaler.html] to put $\\text{bias}^2$ and variance on the same scale as cross-validated $R^2$."
   ]
  },
  {
   "cell_type": "code",
   "execution_count": null,
   "metadata": {
    "collapsed": false
   },
   "outputs": [],
   "source": []
  },
  {
   "cell_type": "markdown",
   "metadata": {},
   "source": [
    "<img src=\"http://imgur.com/HNPKfE8.png\" style=\"float: left; margin: 25px 15px 0px 0px; height: 25px\">\n",
    "\n",
    "## 6. Custom regularized regression penalties\n",
    "\n",
    "---\n",
    "\n",
    "The $\\lambda1$ and $\\lambda2$ norm regularization penalties (Lasso and Ridge) are the most commonly used regularization penalties. They have a solid foundation in statistics and evidence of effectiveness. However, these are not the only possible penalties for regression – sometimes new, customized penalties give additional performance and predictive power to models depending on the context.\n",
    "\n",
    "For example, when I worked in neuroscience [we created an effective penalized regression dubbed \"GraphNet\"](http://arxiv.org/abs/1110.4139) that combined the Lasso and Ridge penalties like in Elastic net with a third penalty that rewarded clustering of coefficients according to physical distance in FMRI brain activation data.\n",
    "\n",
    "**Devise of and implement a penalized regression for San Francisco data.** What is your rationale – why would this be useful? How does it perform compared to the standard Ridge, Lasso, and Elastic Net penalties?"
   ]
  },
  {
   "cell_type": "code",
   "execution_count": null,
   "metadata": {
    "collapsed": true
   },
   "outputs": [],
   "source": []
  }
 ],
 "metadata": {
  "anaconda-cloud": {},
  "kernelspec": {
   "display_name": "Python [dsi]",
   "language": "python",
   "name": "Python [dsi]"
  },
  "language_info": {
   "codemirror_mode": {
    "name": "ipython",
    "version": 2
   },
   "file_extension": ".py",
   "mimetype": "text/x-python",
   "name": "python",
   "nbconvert_exporter": "python",
   "pygments_lexer": "ipython2",
   "version": "2.7.12"
  }
 },
 "nbformat": 4,
 "nbformat_minor": 0
}
