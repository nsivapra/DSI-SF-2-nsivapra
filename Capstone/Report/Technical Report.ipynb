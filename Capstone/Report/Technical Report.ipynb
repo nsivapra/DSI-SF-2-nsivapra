{
 "cells": [
  {
   "cell_type": "code",
   "execution_count": 1,
   "metadata": {
    "collapsed": true
   },
   "outputs": [],
   "source": [
    "import pandas as pd\n",
    "import numpy as np\n",
    "import seaborn as sns\n",
    "import matplotlib.pyplot as plt\n",
    "\n",
    "%matplotlib inline"
   ]
  },
  {
   "cell_type": "markdown",
   "metadata": {},
   "source": [
    "# Executive Summary"
   ]
  },
  {
   "cell_type": "markdown",
   "metadata": {},
   "source": [
    "# Identification of outliers"
   ]
  },
  {
   "cell_type": "code",
   "execution_count": 2,
   "metadata": {
    "collapsed": true
   },
   "outputs": [],
   "source": [
    "final_df = pd.read_csv('../Data/final_df.csv')"
   ]
  },
  {
   "cell_type": "code",
   "execution_count": 3,
   "metadata": {
    "collapsed": false
   },
   "outputs": [
    {
     "name": "stdout",
     "output_type": "stream",
     "text": [
      "<class 'pandas.core.frame.DataFrame'>\n",
      "RangeIndex: 98 entries, 0 to 97\n",
      "Data columns (total 19 columns):\n",
      "Country                   98 non-null object\n",
      "Key                       98 non-null object\n",
      "Continent                 98 non-null object\n",
      "Refugees_2010             98 non-null float64\n",
      "Refugees_2015             98 non-null float64\n",
      "Murder Rate               98 non-null float64\n",
      "Children_out_of_school    98 non-null float64\n",
      "Government                98 non-null object\n",
      "GDP($ in million)         98 non-null float64\n",
      "Immigrants                98 non-null int64\n",
      "Rain(ml)                  98 non-null float64\n",
      "Density(pop/mi)           98 non-null float64\n",
      "Population                98 non-null float64\n",
      "Area(mi)                  98 non-null float64\n",
      "Famine                    98 non-null float64\n",
      "Female                    98 non-null float64\n",
      "Male                      98 non-null float64\n",
      "Civil                     98 non-null float64\n",
      "Poverty                   98 non-null float64\n",
      "dtypes: float64(14), int64(1), object(4)\n",
      "memory usage: 14.6+ KB\n"
     ]
    }
   ],
   "source": [
    "final_df.info()"
   ]
  },
  {
   "cell_type": "code",
   "execution_count": 6,
   "metadata": {
    "collapsed": false
   },
   "outputs": [
    {
     "data": {
      "image/png": "[encoded data removed]",
      "text/plain": [
       "<matplotlib.figure.Figure at 0x11b179550>"
      ]
     },
     "metadata": {},
     "output_type": "display_data"
    }
   ],
   "source": [
    "#Refugees_2010, Refugees_2015, Murder Rate, Children_out_of_school, GDP($ in million), Immigrants\n",
    "#Rain(ml), Density(pop/mi), Population, Area(mi), Famine, Female, Male, Civil, Poverty\n",
    "fig = plt.figure(figsize=(12,6))\n",
    "ax = fig.gca()\n",
    "\n",
    "ref2010 = (final_df['Refugees_2010'] - np.mean(final_df['Refugees_2010']))/ np.std(final_df['Refugees_2010'])\n",
    "ref2015 = (final_df['Refugees_2015'] - np.mean(final_df['Refugees_2015']))/ np.std(final_df['Refugees_2015'])\n",
    "murder  = (final_df['Murder Rate'] - np.mean(final_df['Murder Rate']))/ np.std(final_df['Murder Rate'])\n",
    "child   = (final_df['Children_out_of_school'] - np.mean(final_df['Children_out_of_school'])) / np.std(final_df['Children_out_of_school'])\n",
    "GDP     = (final_df['GDP($ in million)'] - np.mean(final_df['GDP($ in million)'])) / np.std(final_df['GDP($ in million)'])\n",
    "immigrant = (final_df['Immigrants'] - np.mean(final_df['Immigrants']))/np.std(final_df['Immigrants'])\n",
    "rain    = (final_df['Rain(ml)'] - np.mean(final_df['Rain(ml)'])) / np.std(final_df['Rain(ml)'])\n",
    "density = (final_df['Density(pop/mi)'] - np.mean(final_df['Density(pop/mi)'])) / np.std(final_df['Density(pop/mi)'])\n",
    "pop     = (final_df['Population'] - np.mean(final_df['Population'])) / np.std(final_df['Population'])\n",
    "area    = (final_df['Area(mi)'] - np.mean(final_df['Area(mi)'])) / np.std(final_df['Area(mi)'])\n",
    "famine  = (final_df['Famine'] - np.mean(final_df['Famine'])) / np.std(final_df['Famine'])\n",
    "female  = (final_df['Female'] - np.mean(final_df['Female'])) / np.std(final_df['Female'])\n",
    "male    = (final_df['Male'] - np.mean(final_df['Male'])) / np.std(final_df['Male'])\n",
    "civil   = (final_df['Civil'] - np.mean(final_df['Civil'])) / np.std(final_df['Civil'])\n",
    "poverty = (final_df['Poverty'] - np.mean(final_df['Poverty'])) / np.std(final_df['Poverty'])\n",
    "\n",
    "ax = sns.boxplot(data=[ref2010, ref2015, murder, child, GDP, immigrant, rain, density, pop, area, famine, female, male, civil, poverty], \n",
    "                 orient='v', fliersize=5, linewidth=3, notch=True, saturation=0.5, ax=ax)\n",
    "\n",
    "ax.set_title('All variables boxplot\\n')\n",
    "plt.show()"
   ]
  },
  {
   "cell_type": "markdown",
   "metadata": {},
   "source": [
    "# Description of how you defined your variables"
   ]
  },
  {
   "cell_type": "code",
   "execution_count": 7,
   "metadata": {
    "collapsed": false
   },
   "outputs": [
    {
     "data": {
      "text/plain": [
       "Index([u'Country', u'Key', u'Continent', u'Refugees_2010', u'Refugees_2015',\n",
       "       u'Murder Rate', u'Children_out_of_school', u'Government',\n",
       "       u'GDP($ in million)', u'Immigrants', u'Rain(ml)', u'Density(pop/mi)',\n",
       "       u'Population', u'Area(mi)', u'Famine', u'Female', u'Male', u'Civil',\n",
       "       u'Poverty'],\n",
       "      dtype='object')"
      ]
     },
     "execution_count": 7,
     "metadata": {},
     "output_type": "execute_result"
    }
   ],
   "source": [
    "final_df.columns"
   ]
  },
  {
   "cell_type": "markdown",
   "metadata": {},
   "source": [
    "The Country column looks into the country of the world, and the spelling is based on the UNHCR Refugee source\n",
    "\n",
    "The Key column is a unique Key that is used in the folium mapping of the countries\n",
    "\n",
    "The Continent column looks into the Continent of the Country\n",
    "\n",
    "The Refugees_2010 is the number of Refugees in 2010 who find asylum in the mentioned country\n",
    "\n",
    "The Refugees_2015 is the number of Refugees in 2015 who find asylum in the mentioned country\n",
    "\n",
    "The Murder Rate is the number out of 1000 who were murdered in that country\n",
    "\n",
    "Children out of school is the number of primary students who weren't in school out of 1000\n",
    "\n",
    "Government is the type of government in the country\n",
    "\n",
    "GDP is the GDP in US dollars in million of the country\n",
    "\n",
    "Immigrants is the number of immigrants who find asylum in the country (could be for work, and other reasons)\n",
    "\n",
    "Rain(ml) is the rainfall in ml for a year\n",
    "\n",
    "Density(pop/mi) is the population density based on the population and area in mi^2 for the Country\n",
    "\n",
    "Population is the population of the country\n",
    "\n",
    "Area(mi) is the area of the country in mi\n",
    "\n",
    "Famine is a binary value that determines if there was a famine in the past 15 years\n",
    "\n",
    "Female is the percentage of female living in the country\n",
    "\n",
    "Male is the percentage of male living in the country\n",
    "\n",
    "Civil is a binary value that determines if there a civil war in the past 15 years\n",
    "\n",
    "Poverty is the percentage of population living under the poverty line"
   ]
  },
  {
   "cell_type": "markdown",
   "metadata": {},
   "source": [
    "# Discussion of model selection and implementation"
   ]
  },
  {
   "cell_type": "markdown",
   "metadata": {},
   "source": [
    "# Description of any data pipeline(s)"
   ]
  },
  {
   "cell_type": "markdown",
   "metadata": {},
   "source": [
    "# Visualizations & statistical analysis"
   ]
  },
  {
   "cell_type": "markdown",
   "metadata": {},
   "source": [
    "# Interpretation of findings & relation to goals/success metrics"
   ]
  },
  {
   "cell_type": "markdown",
   "metadata": {},
   "source": [
    "# Description of any source code used to conduct analysis"
   ]
  },
  {
   "cell_type": "markdown",
   "metadata": {},
   "source": [
    "# Stakeholder recommendations & next steps for model/peers"
   ]
  }
 ],
 "metadata": {
  "anaconda-cloud": {},
  "kernelspec": {
   "display_name": "Python [dsi]",
   "language": "python",
   "name": "Python [dsi]"
  },
  "language_info": {
   "codemirror_mode": {
    "name": "ipython",
    "version": 2
   },
   "file_extension": ".py",
   "mimetype": "text/x-python",
   "name": "python",
   "nbconvert_exporter": "python",
   "pygments_lexer": "ipython2",
   "version": "2.7.12"
  }
 },
 "nbformat": 4,
 "nbformat_minor": 0
}
