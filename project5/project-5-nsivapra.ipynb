{
 "cells": [
  {
   "cell_type": "markdown",
   "metadata": {},
   "source": [
    "<img src=\"http://imgur.com/1ZcRyrc.png\" style=\"float: left; margin: 15px; height: 80px\">\n",
    "\n",
    "# Project 4\n",
    "\n",
    "## Help Yelp\n",
    "\n",
    "---\n",
    "\n",
    "In this project you will be investigating a small version of the [Yelp challenge dataset](https://www.yelp.com/dataset_challenge). You'll practice using classification algorithms, cross-validation, gridsearching – all that good stuff.\n",
    "\n"
   ]
  },
  {
   "cell_type": "markdown",
   "metadata": {},
   "source": [
    "---\n",
    "\n",
    "### The data\n",
    "\n",
    "There are 5 individual .csv files that have the information, zipped into .7z format like with the SF data last project. The dataset is located in your datasets folder:\n",
    "\n",
    "    DSI-SF-2/datasets/yelp_arizona_data.7z\n",
    "\n",
    "The columns in each are:\n",
    "\n",
    "    businesses_small_parsed.csv\n",
    "        business_id: unique business identifier\n",
    "        name: name of the business\n",
    "        review_count: number of reviews per business\n",
    "        city: city business resides in\n",
    "        stars: average rating\n",
    "        categories: categories the business falls into (can be one or multiple)\n",
    "        latitude\n",
    "        longitude\n",
    "        neighborhoods: neighborhoods business belongs to\n",
    "        variable: \"property\" of the business (a tag)\n",
    "        value: True/False for the property\n",
    "        \n",
    "    reviews_small_nlp_parsed.csv\n",
    "        user_id: unique user identifier\n",
    "        review_id: unique review identifier\n",
    "        votes.cool: how many thought the review was \"cool\"\n",
    "        business_id: unique business id the review is for\n",
    "        votes.funny: how many thought the review was funny\n",
    "        stars: rating given\n",
    "        date: date of review\n",
    "        votes.useful: how many thought the review was useful\n",
    "        ... 100 columns of counts of most common 2 word phrases that appear in reviews in this review\n",
    "        \n",
    "    users_small_parsed.csv\n",
    "        yelping_since: signup date\n",
    "        compliments.plain: # of compliments \"plain\"\n",
    "        review_count: # of reviews:\n",
    "        compliments.cute: total # of compliments \"cute\"\n",
    "        compliments.writer: # of compliments \"writer\"\n",
    "        compliments.note: # of compliments \"note\" (not sure what this is)\n",
    "        compliments.hot: # of compliments \"hot\" (?)\n",
    "        compliments.cool: # of compliments \"cool\"\n",
    "        compliments.profile: # of compliments \"profile\"\n",
    "        average_stars: average rating\n",
    "        compliments.more: # of compliments \"more\"\n",
    "        elite: years considered \"elite\"\n",
    "        name: user's name\n",
    "        user_id: unique user id\n",
    "        votes.cool: # of votes \"cool\"\n",
    "        compliments.list: # of compliments \"list\"\n",
    "        votes.funny: # of compliments \"funny\"\n",
    "        compliments.photos: # of compliments \"photos\"\n",
    "        compliments.funny: # of compliments \"funny\"\n",
    "        votes.useful: # of votes \"useful\"\n",
    "       \n",
    "    checkins_small_parsed.csv\n",
    "        business_id: unique business identifier\n",
    "        variable: day-time identifier of checkins (0-0 is Sunday 0:00 - 1:00am,  for example)\n",
    "        value: # of checkins at that time\n",
    "    \n",
    "    tips_small_nlp_parsed.csv\n",
    "        user_id: unique user identifier\n",
    "        business_id: unique business identifier\n",
    "        likes: likes that the tip has\n",
    "        date: date of tip\n",
    "        ... 100 columns of counts of most common 2 word phrases that appear in tips in this tip\n",
    "\n",
    "The reviews and tips datasets in particular have parsed \"NLP\" columns with counts of 2-word phrases in that review or tip (a \"tip\", it seems, is some kind of smaller review).\n",
    "\n",
    "The user dataset has a lot of columns of counts of different compliments and votes. I'm not sure whether the compliments or votes are _by_ the user or _for_ the user.\n",
    "\n",
    "---\n",
    "\n",
    "If you look at the website, or the full data, you'll see I have removed pieces of the data and cut it down quite a bit. This is to simplify it for this project. Specifically, business are limited to be in these cities:\n",
    "\n",
    "    Phoenix\n",
    "    Surprise\n",
    "    Las Vegas\n",
    "    Waterloo\n",
    "\n",
    "Apparently there is a city called \"Surprise\" in Arizona. \n",
    "\n",
    "Businesses are also restricted to at least be in one of the following categories, because I thought the mix of them was funny:\n",
    "\n",
    "    Airports\n",
    "    Breakfast & Brunch\n",
    "    Bubble Tea\n",
    "    Burgers\n",
    "    Bars\n",
    "    Bakeries\n",
    "    Breweries\n",
    "    Cafes\n",
    "    Candy Stores\n",
    "    Comedy Clubs\n",
    "    Courthouses\n",
    "    Dance Clubs\n",
    "    Fast Food\n",
    "    Museums\n",
    "    Tattoo\n",
    "    Vape Shops\n",
    "    Yoga\n",
    "    \n",
    "---\n",
    "\n",
    "### Project requirements\n",
    "\n",
    "**You will be performing 4 different sections of analysis, like in the last project.**\n",
    "\n",
    "Remember that classification targets are categorical and regression targets are continuous variables."
   ]
  },
  {
   "cell_type": "code",
   "execution_count": 2,
   "metadata": {
    "collapsed": true
   },
   "outputs": [],
   "source": [
    "import pandas as pd\n",
    "import numpy as np\n",
    "import patsy\n",
    "from matplotlib import pyplot as plt\n",
    "from sklearn.linear_model import LogisticRegression, LinearRegression\n",
    "from sklearn.cross_validation import train_test_split\n",
    "from sklearn.neighbors import KNeighborsClassifier\n",
    "import seaborn as sns\n",
    "from sklearn.cross_validation import cross_val_score, StratifiedKFold\n",
    "from sklearn.grid_search import GridSearchCV\n",
    "\n",
    "% matplotlib inline"
   ]
  },
  {
   "cell_type": "markdown",
   "metadata": {},
   "source": [
    "<img src=\"http://imgur.com/l5NasQj.png\" style=\"float: left; margin: 25px 15px 0px 0px; height: 25px\">\n",
    "\n",
    "## 1. Constructing a \"profile\" for Las Vegas\n",
    "\n",
    "---\n",
    "\n",
    "Yelp is interested in building out what they are calling \"profiles\" for cities. They want you to start with just Las Vegas to see what a prototype of this would look like. Essentially, they want to know what makes Las Vegas distinct from the other four.\n",
    "\n",
    "Use the data you have to predict Las Vegas from the other variables you have. You should not be predicting the city from any kind of location data or other data perfectly associated with that city (or another city).\n",
    "\n",
    "You may use any classification algorithm you deem appropriate, or even multiple models. You should:\n",
    "\n",
    "1. Build at least one model predicting Las Vegas vs. the other cities.\n",
    "- Validate your model(s).\n",
    "- Interpret and visualize, in some way, the results.\n",
    "- Write up a \"profile\" for Las Vegas. This should be a writeup converting your findings from the model(s) into a human-readable description of the city."
   ]
  },
  {
   "cell_type": "code",
   "execution_count": 7,
   "metadata": {
    "collapsed": false
   },
   "outputs": [],
   "source": [
    "#Loading data from the arizona dataset\n",
    "business = pd.read_csv('/Users/nsivapra/Desktop/DSI-SF-2-nsivapra/yelp_arizona_data/businesses_small_parsed.csv')\n",
    "checkins = pd.read_csv('/Users/nsivapra/Desktop/DSI-SF-2-nsivapra/yelp_arizona_data/checkins_small_parsed.csv')\n",
    "reviews = pd.read_csv('/Users/nsivapra/Desktop/DSI-SF-2-nsivapra/yelp_arizona_data/reviews_small_nlp_parsed.csv')\n",
    "tips = pd.read_csv('/Users/nsivapra/Desktop/DSI-SF-2-nsivapra/yelp_arizona_data/tips_small_nlp_parsed.csv')\n",
    "users = pd.read_csv('/Users/nsivapra/Desktop/DSI-SF-2-nsivapra/yelp_arizona_data/users_small_parsed.csv')"
   ]
  },
  {
   "cell_type": "code",
   "execution_count": 8,
   "metadata": {
    "collapsed": false
   },
   "outputs": [
    {
     "data": {
      "text/html": [
       "<div>\n",
       "<table border=\"1\" class=\"dataframe\">\n",
       "  <thead>\n",
       "    <tr style=\"text-align: right;\">\n",
       "      <th></th>\n",
       "      <th>business_id</th>\n",
       "      <th>name</th>\n",
       "      <th>review_count</th>\n",
       "      <th>city</th>\n",
       "      <th>stars</th>\n",
       "      <th>categories</th>\n",
       "      <th>variable</th>\n",
       "      <th>value</th>\n",
       "    </tr>\n",
       "  </thead>\n",
       "  <tbody>\n",
       "    <tr>\n",
       "      <th>0</th>\n",
       "      <td>EmzaQR5hQlF0WIl24NxAZA</td>\n",
       "      <td>Sky Lounge</td>\n",
       "      <td>25</td>\n",
       "      <td>Phoenix</td>\n",
       "      <td>2.5</td>\n",
       "      <td>['American (New)', 'Nightlife', 'Dance Clubs',...</td>\n",
       "      <td>attributes.Ambience.divey</td>\n",
       "      <td>False</td>\n",
       "    </tr>\n",
       "    <tr>\n",
       "      <th>1</th>\n",
       "      <td>SiwN7f0N4bs4ZtPc4yPgiA</td>\n",
       "      <td>Palazzo</td>\n",
       "      <td>19</td>\n",
       "      <td>Phoenix</td>\n",
       "      <td>3.0</td>\n",
       "      <td>['Bars', 'Nightlife', 'Dance Clubs']</td>\n",
       "      <td>attributes.Ambience.divey</td>\n",
       "      <td>False</td>\n",
       "    </tr>\n",
       "  </tbody>\n",
       "</table>\n",
       "</div>"
      ],
      "text/plain": [
       "              business_id        name  review_count     city  stars  \\\n",
       "0  EmzaQR5hQlF0WIl24NxAZA  Sky Lounge            25  Phoenix    2.5   \n",
       "1  SiwN7f0N4bs4ZtPc4yPgiA     Palazzo            19  Phoenix    3.0   \n",
       "\n",
       "                                          categories  \\\n",
       "0  ['American (New)', 'Nightlife', 'Dance Clubs',...   \n",
       "1               ['Bars', 'Nightlife', 'Dance Clubs']   \n",
       "\n",
       "                    variable  value  \n",
       "0  attributes.Ambience.divey  False  \n",
       "1  attributes.Ambience.divey  False  "
      ]
     },
     "execution_count": 8,
     "metadata": {},
     "output_type": "execute_result"
    }
   ],
   "source": [
    "#Dropping the data columns related to the city(neighboorhoods, latitude, and longitude)\n",
    "business.drop(['neighborhoods', 'latitude', 'longitude'], axis=1, inplace=True)\n",
    "business.head(2)"
   ]
  },
  {
   "cell_type": "code",
   "execution_count": 9,
   "metadata": {
    "collapsed": false
   },
   "outputs": [
    {
     "name": "stdout",
     "output_type": "stream",
     "text": [
      "<class 'pandas.core.frame.DataFrame'>\n",
      "RangeIndex: 152832 entries, 0 to 152831\n",
      "Data columns (total 8 columns):\n",
      "business_id     152832 non-null object\n",
      "name            152832 non-null object\n",
      "review_count    152832 non-null int64\n",
      "city            152832 non-null object\n",
      "stars           152832 non-null float64\n",
      "categories      152832 non-null object\n",
      "variable        152832 non-null object\n",
      "value           152832 non-null object\n",
      "dtypes: float64(1), int64(1), object(6)\n",
      "memory usage: 9.3+ MB\n"
     ]
    }
   ],
   "source": [
    "#Simple EDA\n",
    "business.info()"
   ]
  },
  {
   "cell_type": "code",
   "execution_count": 10,
   "metadata": {
    "collapsed": true
   },
   "outputs": [],
   "source": [
    "#Taking the table and pivoting it to a wide format.\n",
    "#This is done by taking the variable as the column, and the index as business_id.\n",
    "\n",
    "def select_item_or_nan(x):\n",
    "    x = x.iloc[0]\n",
    "    if len(x) == 0:\n",
    "        return np.nan\n",
    "    else:\n",
    "        return x\n",
    "    \n",
    "business_wide = pd.pivot_table(business, columns=['variable'], values='value',\n",
    "                                     index=['business_id'], aggfunc=select_item_or_nan,\n",
    "                                     fill_value=0)"
   ]
  },
  {
   "cell_type": "code",
   "execution_count": 11,
   "metadata": {
    "collapsed": false
   },
   "outputs": [],
   "source": [
    "business_wide.head(2)\n",
    "\n",
    "#Remove the period and blank space in the column name replace with _\n",
    "business_wide.columns = [x.strip().replace(' ', '_') for x in business_wide.columns]\n",
    "business_wide.columns = [x.strip().replace('.', '_') for x in business_wide.columns]"
   ]
  },
  {
   "cell_type": "code",
   "execution_count": 12,
   "metadata": {
    "collapsed": false
   },
   "outputs": [],
   "source": [
    "business_wide = business_wide.reset_index() #Reset the indexes"
   ]
  },
  {
   "cell_type": "code",
   "execution_count": 13,
   "metadata": {
    "collapsed": true
   },
   "outputs": [],
   "source": [
    "#Merge the business table with the wide table on business id\n",
    "business_final = pd.merge(business, business_wide, on = 'business_id', how='left')"
   ]
  },
  {
   "cell_type": "code",
   "execution_count": 14,
   "metadata": {
    "collapsed": false
   },
   "outputs": [
    {
     "data": {
      "text/html": [
       "<div>\n",
       "<table border=\"1\" class=\"dataframe\">\n",
       "  <thead>\n",
       "    <tr style=\"text-align: right;\">\n",
       "      <th></th>\n",
       "      <th>business_id</th>\n",
       "      <th>name</th>\n",
       "      <th>review_count</th>\n",
       "      <th>city</th>\n",
       "      <th>stars</th>\n",
       "      <th>categories</th>\n",
       "      <th>variable</th>\n",
       "      <th>value</th>\n",
       "      <th>attributes_Accepts_Credit_Cards</th>\n",
       "      <th>attributes_Accepts_Insurance</th>\n",
       "      <th>...</th>\n",
       "      <th>hours_Saturday_open</th>\n",
       "      <th>hours_Sunday_close</th>\n",
       "      <th>hours_Sunday_open</th>\n",
       "      <th>hours_Thursday_close</th>\n",
       "      <th>hours_Thursday_open</th>\n",
       "      <th>hours_Tuesday_close</th>\n",
       "      <th>hours_Tuesday_open</th>\n",
       "      <th>hours_Wednesday_close</th>\n",
       "      <th>hours_Wednesday_open</th>\n",
       "      <th>open</th>\n",
       "    </tr>\n",
       "  </thead>\n",
       "  <tbody>\n",
       "    <tr>\n",
       "      <th>0</th>\n",
       "      <td>EmzaQR5hQlF0WIl24NxAZA</td>\n",
       "      <td>Sky Lounge</td>\n",
       "      <td>25</td>\n",
       "      <td>Phoenix</td>\n",
       "      <td>2.5</td>\n",
       "      <td>['American (New)', 'Nightlife', 'Dance Clubs',...</td>\n",
       "      <td>attributes.Ambience.divey</td>\n",
       "      <td>False</td>\n",
       "      <td>True</td>\n",
       "      <td>0</td>\n",
       "      <td>...</td>\n",
       "      <td>09:00</td>\n",
       "      <td>03:00</td>\n",
       "      <td>09:00</td>\n",
       "      <td>03:00</td>\n",
       "      <td>09:00</td>\n",
       "      <td>0</td>\n",
       "      <td>0</td>\n",
       "      <td>0</td>\n",
       "      <td>0</td>\n",
       "      <td>True</td>\n",
       "    </tr>\n",
       "    <tr>\n",
       "      <th>1</th>\n",
       "      <td>SiwN7f0N4bs4ZtPc4yPgiA</td>\n",
       "      <td>Palazzo</td>\n",
       "      <td>19</td>\n",
       "      <td>Phoenix</td>\n",
       "      <td>3.0</td>\n",
       "      <td>['Bars', 'Nightlife', 'Dance Clubs']</td>\n",
       "      <td>attributes.Ambience.divey</td>\n",
       "      <td>False</td>\n",
       "      <td>True</td>\n",
       "      <td>0</td>\n",
       "      <td>...</td>\n",
       "      <td>0</td>\n",
       "      <td>0</td>\n",
       "      <td>0</td>\n",
       "      <td>0</td>\n",
       "      <td>0</td>\n",
       "      <td>0</td>\n",
       "      <td>0</td>\n",
       "      <td>0</td>\n",
       "      <td>0</td>\n",
       "      <td>True</td>\n",
       "    </tr>\n",
       "  </tbody>\n",
       "</table>\n",
       "<p>2 rows × 86 columns</p>\n",
       "</div>"
      ],
      "text/plain": [
       "              business_id        name  review_count     city  stars  \\\n",
       "0  EmzaQR5hQlF0WIl24NxAZA  Sky Lounge            25  Phoenix    2.5   \n",
       "1  SiwN7f0N4bs4ZtPc4yPgiA     Palazzo            19  Phoenix    3.0   \n",
       "\n",
       "                                          categories  \\\n",
       "0  ['American (New)', 'Nightlife', 'Dance Clubs',...   \n",
       "1               ['Bars', 'Nightlife', 'Dance Clubs']   \n",
       "\n",
       "                    variable  value attributes_Accepts_Credit_Cards  \\\n",
       "0  attributes.Ambience.divey  False                            True   \n",
       "1  attributes.Ambience.divey  False                            True   \n",
       "\n",
       "  attributes_Accepts_Insurance  ...  hours_Saturday_open hours_Sunday_close  \\\n",
       "0                            0  ...                09:00              03:00   \n",
       "1                            0  ...                    0                  0   \n",
       "\n",
       "  hours_Sunday_open hours_Thursday_close hours_Thursday_open  \\\n",
       "0             09:00                03:00               09:00   \n",
       "1                 0                    0                   0   \n",
       "\n",
       "  hours_Tuesday_close hours_Tuesday_open hours_Wednesday_close  \\\n",
       "0                   0                  0                     0   \n",
       "1                   0                  0                     0   \n",
       "\n",
       "  hours_Wednesday_open  open  \n",
       "0                    0  True  \n",
       "1                    0  True  \n",
       "\n",
       "[2 rows x 86 columns]"
      ]
     },
     "execution_count": 14,
     "metadata": {},
     "output_type": "execute_result"
    }
   ],
   "source": [
    "business_final.head(2)"
   ]
  },
  {
   "cell_type": "code",
   "execution_count": 15,
   "metadata": {
    "collapsed": false
   },
   "outputs": [],
   "source": [
    "#I plan on looking at the variables I feel would work well with Las Vegas\n",
    "#Ex: alcohol, upscale.\n",
    "business_final['attributes_Alcohol']\n",
    "business_final['attributes_Alcohol'] = business_final['attributes_Alcohol'].map(lambda x: 0 if x == 'none' else 1)"
   ]
  },
  {
   "cell_type": "code",
   "execution_count": 16,
   "metadata": {
    "collapsed": false
   },
   "outputs": [],
   "source": [
    "business_final['attributes_Ambience_upscale'] = business_final['attributes_Ambience_upscale'].map(lambda x: 0 if x == 'False' else 1)"
   ]
  },
  {
   "cell_type": "code",
   "execution_count": 17,
   "metadata": {
    "collapsed": false
   },
   "outputs": [],
   "source": [
    "business_final['attributes_Accepts_Credit_Cards'] = business_final['attributes_Accepts_Credit_Cards'].map(lambda x: 0 if x == 'False' else 1)"
   ]
  },
  {
   "cell_type": "code",
   "execution_count": 18,
   "metadata": {
    "collapsed": true
   },
   "outputs": [],
   "source": [
    "#Creating binary values for the different cities will use them to design 4 models for each city..\n",
    "business_final['vegas'] = business_final['city'].map(lambda x: 1 if x == 'Las Vegas' else 0)\n",
    "business_final['water'] = business_final['city'].map(lambda x: 1 if x == 'Waterloo' else 0)\n",
    "business_final['phoe'] = business_final['city'].map(lambda x: 1 if x == 'Phoenix' else 0)\n",
    "business_final['surprise'] = business_final['city'].map(lambda x: 1 if x == 'Surprise' else 0)"
   ]
  },
  {
   "cell_type": "code",
   "execution_count": 19,
   "metadata": {
    "collapsed": false
   },
   "outputs": [
    {
     "data": {
      "text/html": [
       "<div>\n",
       "<table border=\"1\" class=\"dataframe\">\n",
       "  <thead>\n",
       "    <tr style=\"text-align: right;\">\n",
       "      <th></th>\n",
       "      <th>business_id</th>\n",
       "      <th>name</th>\n",
       "      <th>review_count</th>\n",
       "      <th>city</th>\n",
       "      <th>stars</th>\n",
       "      <th>categories</th>\n",
       "      <th>variable</th>\n",
       "      <th>value</th>\n",
       "      <th>attributes_Accepts_Credit_Cards</th>\n",
       "      <th>attributes_Accepts_Insurance</th>\n",
       "      <th>...</th>\n",
       "      <th>hours_Thursday_open</th>\n",
       "      <th>hours_Tuesday_close</th>\n",
       "      <th>hours_Tuesday_open</th>\n",
       "      <th>hours_Wednesday_close</th>\n",
       "      <th>hours_Wednesday_open</th>\n",
       "      <th>open</th>\n",
       "      <th>vegas</th>\n",
       "      <th>water</th>\n",
       "      <th>phoe</th>\n",
       "      <th>surprise</th>\n",
       "    </tr>\n",
       "  </thead>\n",
       "  <tbody>\n",
       "    <tr>\n",
       "      <th>0</th>\n",
       "      <td>EmzaQR5hQlF0WIl24NxAZA</td>\n",
       "      <td>Sky Lounge</td>\n",
       "      <td>25</td>\n",
       "      <td>Phoenix</td>\n",
       "      <td>2.5</td>\n",
       "      <td>['American (New)', 'Nightlife', 'Dance Clubs',...</td>\n",
       "      <td>attributes.Ambience.divey</td>\n",
       "      <td>False</td>\n",
       "      <td>1</td>\n",
       "      <td>0</td>\n",
       "      <td>...</td>\n",
       "      <td>09:00</td>\n",
       "      <td>0</td>\n",
       "      <td>0</td>\n",
       "      <td>0</td>\n",
       "      <td>0</td>\n",
       "      <td>True</td>\n",
       "      <td>0</td>\n",
       "      <td>0</td>\n",
       "      <td>1</td>\n",
       "      <td>0</td>\n",
       "    </tr>\n",
       "    <tr>\n",
       "      <th>1</th>\n",
       "      <td>SiwN7f0N4bs4ZtPc4yPgiA</td>\n",
       "      <td>Palazzo</td>\n",
       "      <td>19</td>\n",
       "      <td>Phoenix</td>\n",
       "      <td>3.0</td>\n",
       "      <td>['Bars', 'Nightlife', 'Dance Clubs']</td>\n",
       "      <td>attributes.Ambience.divey</td>\n",
       "      <td>False</td>\n",
       "      <td>1</td>\n",
       "      <td>0</td>\n",
       "      <td>...</td>\n",
       "      <td>0</td>\n",
       "      <td>0</td>\n",
       "      <td>0</td>\n",
       "      <td>0</td>\n",
       "      <td>0</td>\n",
       "      <td>True</td>\n",
       "      <td>0</td>\n",
       "      <td>0</td>\n",
       "      <td>1</td>\n",
       "      <td>0</td>\n",
       "    </tr>\n",
       "  </tbody>\n",
       "</table>\n",
       "<p>2 rows × 90 columns</p>\n",
       "</div>"
      ],
      "text/plain": [
       "              business_id        name  review_count     city  stars  \\\n",
       "0  EmzaQR5hQlF0WIl24NxAZA  Sky Lounge            25  Phoenix    2.5   \n",
       "1  SiwN7f0N4bs4ZtPc4yPgiA     Palazzo            19  Phoenix    3.0   \n",
       "\n",
       "                                          categories  \\\n",
       "0  ['American (New)', 'Nightlife', 'Dance Clubs',...   \n",
       "1               ['Bars', 'Nightlife', 'Dance Clubs']   \n",
       "\n",
       "                    variable  value  attributes_Accepts_Credit_Cards  \\\n",
       "0  attributes.Ambience.divey  False                                1   \n",
       "1  attributes.Ambience.divey  False                                1   \n",
       "\n",
       "  attributes_Accepts_Insurance   ...    hours_Thursday_open  \\\n",
       "0                            0   ...                  09:00   \n",
       "1                            0   ...                      0   \n",
       "\n",
       "   hours_Tuesday_close hours_Tuesday_open hours_Wednesday_close  \\\n",
       "0                    0                  0                     0   \n",
       "1                    0                  0                     0   \n",
       "\n",
       "  hours_Wednesday_open  open vegas water phoe surprise  \n",
       "0                    0  True     0     0    1        0  \n",
       "1                    0  True     0     0    1        0  \n",
       "\n",
       "[2 rows x 90 columns]"
      ]
     },
     "execution_count": 19,
     "metadata": {},
     "output_type": "execute_result"
    }
   ],
   "source": [
    "business_final.head(2)"
   ]
  },
  {
   "cell_type": "code",
   "execution_count": 20,
   "metadata": {
    "collapsed": false
   },
   "outputs": [
    {
     "data": {
      "text/plain": [
       "<matplotlib.axes._subplots.AxesSubplot at 0x116fcd950>"
      ]
     },
     "execution_count": 20,
     "metadata": {},
     "output_type": "execute_result"
    },
    {
     "data": {
      "image/png": "[encoded data removed]",
      "text/plain": [
       "<matplotlib.figure.Figure at 0x116fd9c50>"
      ]
     },
     "metadata": {},
     "output_type": "display_data"
    }
   ],
   "source": [
    "sns.heatmap(business_final.corr())"
   ]
  },
  {
   "cell_type": "code",
   "execution_count": 21,
   "metadata": {
    "collapsed": false
   },
   "outputs": [],
   "source": [
    "#Im setting the predictor variables to be the Alcohol, Ambience_upscale, and Accepts_Credit_Cards\n",
    "X = business_final[['attributes_Alcohol', 'attributes_Ambience_upscale', 'attributes_Accepts_Credit_Cards']]\n",
    "y = business_final['vegas'].values\n",
    "y2 = business_final['water'].values\n",
    "y3 = business_final['phoe'].values\n",
    "y4 = business_final['surprise'].values"
   ]
  },
  {
   "cell_type": "code",
   "execution_count": 22,
   "metadata": {
    "collapsed": false
   },
   "outputs": [],
   "source": [
    "#Train/Test split by 60:40\n",
    "X_veg_train, X_veg_test, y_veg_train, y_veg_test = train_test_split(X, y, test_size=0.4)\n",
    "X_wat_train, X_wat_test, y_wat_train, y_wat_test = train_test_split(X, y2, test_size=0.4)\n",
    "X_pho_train, X_pho_test, y_pho_train, y_pho_test = train_test_split(X, y3, test_size=0.4)\n",
    "X_sur_train, X_sur_test, y_sur_train, y_sur_test = train_test_split(X, y4, test_size=0.4)"
   ]
  },
  {
   "cell_type": "code",
   "execution_count": 23,
   "metadata": {
    "collapsed": false
   },
   "outputs": [
    {
     "name": "stdout",
     "output_type": "stream",
     "text": [
      "Fitting 10 folds for each of 8 candidates, totalling 80 fits\n"
     ]
    },
    {
     "name": "stderr",
     "output_type": "stream",
     "text": [
      "[Parallel(n_jobs=1)]: Done  49 tasks       | elapsed:   13.0s\n",
      "[Parallel(n_jobs=1)]: Done  80 out of  80 | elapsed:   24.9s finished\n"
     ]
    },
    {
     "name": "stdout",
     "output_type": "stream",
     "text": [
      "Fitting 10 folds for each of 8 candidates, totalling 80 fits\n"
     ]
    },
    {
     "name": "stderr",
     "output_type": "stream",
     "text": [
      "[Parallel(n_jobs=1)]: Done  49 tasks       | elapsed:   14.4s\n",
      "[Parallel(n_jobs=1)]: Done  80 out of  80 | elapsed:   24.1s finished\n"
     ]
    },
    {
     "name": "stdout",
     "output_type": "stream",
     "text": [
      "Fitting 10 folds for each of 8 candidates, totalling 80 fits\n"
     ]
    },
    {
     "name": "stderr",
     "output_type": "stream",
     "text": [
      "[Parallel(n_jobs=1)]: Done  49 tasks       | elapsed:   14.4s\n",
      "[Parallel(n_jobs=1)]: Done  80 out of  80 | elapsed:   30.5s finished\n"
     ]
    },
    {
     "name": "stdout",
     "output_type": "stream",
     "text": [
      "Fitting 10 folds for each of 8 candidates, totalling 80 fits\n"
     ]
    },
    {
     "name": "stderr",
     "output_type": "stream",
     "text": [
      "[Parallel(n_jobs=1)]: Done  49 tasks       | elapsed:  1.6min\n",
      "[Parallel(n_jobs=1)]: Done  80 out of  80 | elapsed:  4.0min finished\n"
     ]
    },
    {
     "data": {
      "text/plain": [
       "GridSearchCV(cv=10, error_score='raise',\n",
       "       estimator=LogisticRegression(C=1.0, class_weight=None, dual=False, fit_intercept=True,\n",
       "          intercept_scaling=1, max_iter=100, multi_class='ovr', n_jobs=1,\n",
       "          penalty='l2', random_state=None, solver='liblinear', tol=0.0001,\n",
       "          verbose=0, warm_start=False),\n",
       "       fit_params={}, iid=True, n_jobs=1,\n",
       "       param_grid={'penalty': ['l2', 'l1'], 'C': [1, 2, 3, 4], 'solver': ['liblinear']},\n",
       "       pre_dispatch='2*n_jobs', refit=True, scoring=None, verbose=1)"
      ]
     },
     "execution_count": 23,
     "metadata": {},
     "output_type": "execute_result"
    }
   ],
   "source": [
    "lr_params = {\n",
    "    'solver':['liblinear'],\n",
    "    'penalty':['l2','l1'],\n",
    "    'C':range(1, 5, 1)\n",
    "}\n",
    "\n",
    "veg_gs = GridSearchCV(LogisticRegression(), lr_params, cv=10, verbose=1)\n",
    "wat_gs = GridSearchCV(LogisticRegression(), lr_params, cv=10, verbose=1)\n",
    "pho_gs = GridSearchCV(LogisticRegression(), lr_params, cv=10, verbose=1)\n",
    "sur_gs = GridSearchCV(LogisticRegression(), lr_params, cv=10, verbose=1)\n",
    "\n",
    "veg_gs.fit(X_veg_train, y_veg_train)\n",
    "wat_gs.fit(X_wat_train, y_wat_train)\n",
    "pho_gs.fit(X_pho_train, y_pho_train)\n",
    "sur_gs.fit(X_sur_train, y_sur_train)"
   ]
  },
  {
   "cell_type": "code",
   "execution_count": 24,
   "metadata": {
    "collapsed": false
   },
   "outputs": [
    {
     "name": "stdout",
     "output_type": "stream",
     "text": [
      "Params and Score for Vegas\n",
      "{'penalty': 'l2', 'C': 1, 'solver': 'liblinear'}\n",
      "0.614368749932 0.614368749932\n",
      "\n",
      "Params and Score for Waterloo\n",
      "{'penalty': 'l2', 'C': 1, 'solver': 'liblinear'}\n",
      "0.981995441608 0.981995441608\n",
      "\n",
      "Params and Score for Phoenix\n",
      "{'penalty': 'l2', 'C': 1, 'solver': 'liblinear'}\n",
      "0.651272096751 0.651272096751\n",
      "\n",
      "Params and Score for Surprise\n",
      "{'penalty': 'l2', 'C': 1, 'solver': 'liblinear'}\n",
      "0.980392370691 0.980392370691\n"
     ]
    }
   ],
   "source": [
    "#Taking the score and the ideal parameters for each city.\n",
    "veg_lr = veg_gs.best_estimator_\n",
    "print \"Params and Score for Vegas\"\n",
    "print veg_gs.best_params_\n",
    "print veg_gs.best_score_, np.abs(0.5 - np.mean(y_veg_train)) + 0.5\n",
    "print \"\"\n",
    "print \"Params and Score for Waterloo\"\n",
    "wat_lr = wat_gs.best_estimator_\n",
    "print wat_gs.best_params_\n",
    "print wat_gs.best_score_, np.abs(0.5 - np.mean(y_wat_train)) + 0.5\n",
    "print \"\"\n",
    "print \"Params and Score for Phoenix\"\n",
    "pho_lr = pho_gs.best_estimator_\n",
    "print pho_gs.best_params_\n",
    "print pho_gs.best_score_, np.abs(0.5 - np.mean(y_pho_train)) + 0.5\n",
    "print \"\"\n",
    "print \"Params and Score for Surprise\"\n",
    "sur_lr = sur_gs.best_estimator_\n",
    "print sur_gs.best_params_\n",
    "print sur_gs.best_score_, np.abs(0.5 - np.mean(y_sur_train)) + 0.5"
   ]
  },
  {
   "cell_type": "code",
   "execution_count": null,
   "metadata": {
    "collapsed": true
   },
   "outputs": [],
   "source": [
    "#Based on the score values of 0.61 for Vegas, 0.982 for Waterloo, 0.65 for Phoenix, and 0.980 for Surprise\n",
    "#We can say the models fit the data well. Both Waterloo and Surprise have the best models, while Vegas and\n",
    "#and Phoenix have moderate models."
   ]
  },
  {
   "cell_type": "code",
   "execution_count": 25,
   "metadata": {
    "collapsed": true
   },
   "outputs": [],
   "source": [
    "from sklearn.metrics import roc_curve, roc_auc_score, auc\n",
    "#Function to plot the ROC will call the function for each city.\n",
    "def plot_roc(mod, X, y, varname):\n",
    "    mod.fit(X, y)\n",
    "    y_pp = mod.predict_proba(X)[:, 1]\n",
    "    fpr_, tpr_, _ = roc_curve(y, y_pp)\n",
    "    auc_ = auc(fpr_, tpr_)\n",
    "    acc_ = np.abs(0.5 - np.mean(y)) + 0.5\n",
    "    \n",
    "    fig, axr = plt.subplots(figsize=(8,7))\n",
    "\n",
    "    axr.plot(fpr_, tpr_, label='ROC (area = %0.2f)' % auc_,\n",
    "             color='darkred', linewidth=4,\n",
    "             alpha=0.7)\n",
    "    axr.plot([0, 1], [0, 1], color='grey', ls='dashed',\n",
    "             alpha=0.9, linewidth=4, label='baseline accuracy = %0.2f' % acc_)\n",
    "\n",
    "    axr.set_xlim([-0.05, 1.05])\n",
    "    axr.set_ylim([0.0, 1.05])\n",
    "    axr.set_xlabel('false positive rate', fontsize=16)\n",
    "    axr.set_ylabel('true positive rate', fontsize=16)\n",
    "    axr.set_title(varname+' vs. not ROC curve\\n', fontsize=20)\n",
    "\n",
    "    axr.legend(loc=\"lower right\", fontsize=12)\n",
    "\n",
    "    plt.show()"
   ]
  },
  {
   "cell_type": "code",
   "execution_count": 26,
   "metadata": {
    "collapsed": false
   },
   "outputs": [
    {
     "data": {
      "image/png": "[encoded data removed]",
      "text/plain": [
       "<matplotlib.figure.Figure at 0x1175b42d0>"
      ]
     },
     "metadata": {},
     "output_type": "display_data"
    }
   ],
   "source": [
    "#Plotting ROC curve for Las Vegas\n",
    "plot_roc(veg_lr, X_veg_test, y_veg_test, 'Las Vegas')"
   ]
  },
  {
   "cell_type": "code",
   "execution_count": null,
   "metadata": {
    "collapsed": true
   },
   "outputs": [],
   "source": [
    "#The Vegas ROC has a ROC (AUC) of 0.54 which shows the model is average.\n",
    "#The average accuracy of getting Vegas is 0.61\n",
    "\n",
    "#The results are surprising considering Vegas is bar and ambience filled location. \n",
    "#There is a chance that most locations in Vegas don't take credit card."
   ]
  },
  {
   "cell_type": "code",
   "execution_count": 27,
   "metadata": {
    "collapsed": false
   },
   "outputs": [
    {
     "data": {
      "image/png": "[encoded data removed]",
      "text/plain": [
       "<matplotlib.figure.Figure at 0x1172f4450>"
      ]
     },
     "metadata": {},
     "output_type": "display_data"
    }
   ],
   "source": [
    "#Plotting ROC curve for Waterloo\n",
    "plot_roc(wat_lr, X_wat_test, y_wat_test, 'Waterloo')"
   ]
  },
  {
   "cell_type": "code",
   "execution_count": null,
   "metadata": {
    "collapsed": true
   },
   "outputs": [],
   "source": [
    "#The ROC and baseline accuracy is slightly better than Vegas"
   ]
  },
  {
   "cell_type": "code",
   "execution_count": 28,
   "metadata": {
    "collapsed": false
   },
   "outputs": [
    {
     "data": {
      "image/png": "[encoded data removed]",
      "text/plain": [
       "<matplotlib.figure.Figure at 0x120785610>"
      ]
     },
     "metadata": {},
     "output_type": "display_data"
    }
   ],
   "source": [
    "#Plotting ROC curve for Phoenix\n",
    "plot_roc(pho_lr, X_pho_test, y_pho_test, 'Phoenix')"
   ]
  },
  {
   "cell_type": "code",
   "execution_count": 29,
   "metadata": {
    "collapsed": false
   },
   "outputs": [
    {
     "data": {
      "image/png": "[encoded data removed]",
      "text/plain": [
       "<matplotlib.figure.Figure at 0x1194d0290>"
      ]
     },
     "metadata": {},
     "output_type": "display_data"
    }
   ],
   "source": [
    "#Plotting ROC curve for Surprise\n",
    "plot_roc(sur_lr, X_sur_test, y_sur_test, 'Surprise')"
   ]
  },
  {
   "cell_type": "code",
   "execution_count": 30,
   "metadata": {
    "collapsed": false
   },
   "outputs": [
    {
     "data": {
      "text/plain": [
       "<matplotlib.axes._subplots.AxesSubplot at 0x1175aac90>"
      ]
     },
     "execution_count": 30,
     "metadata": {},
     "output_type": "execute_result"
    },
    {
     "data": {
      "image/png": "[encoded data removed]",
      "text/plain": [
       "<matplotlib.figure.Figure at 0x10a0ec5d0>"
      ]
     },
     "metadata": {},
     "output_type": "display_data"
    }
   ],
   "source": [
    "business_final.groupby('city')[['attributes_Alcohol', 'attributes_Ambience_upscale', 'attributes_Accepts_Credit_Cards']].mean().plot(kind = 'barh')"
   ]
  },
  {
   "cell_type": "code",
   "execution_count": 31,
   "metadata": {
    "collapsed": false
   },
   "outputs": [
    {
     "data": {
      "text/html": [
       "<div>\n",
       "<table border=\"1\" class=\"dataframe\">\n",
       "  <thead>\n",
       "    <tr style=\"text-align: right;\">\n",
       "      <th></th>\n",
       "      <th>review_count</th>\n",
       "      <th>stars</th>\n",
       "      <th>attributes_Accepts_Credit_Cards</th>\n",
       "      <th>attributes_Alcohol</th>\n",
       "      <th>attributes_Ambience_upscale</th>\n",
       "      <th>vegas</th>\n",
       "      <th>water</th>\n",
       "      <th>phoe</th>\n",
       "      <th>surprise</th>\n",
       "    </tr>\n",
       "  </thead>\n",
       "  <tbody>\n",
       "    <tr>\n",
       "      <th>review_count</th>\n",
       "      <td>1.000000</td>\n",
       "      <td>0.153375</td>\n",
       "      <td>0.019736</td>\n",
       "      <td>0.138445</td>\n",
       "      <td>-0.114046</td>\n",
       "      <td>0.096229</td>\n",
       "      <td>-0.050366</td>\n",
       "      <td>-0.073418</td>\n",
       "      <td>-0.037326</td>\n",
       "    </tr>\n",
       "    <tr>\n",
       "      <th>stars</th>\n",
       "      <td>0.153375</td>\n",
       "      <td>1.000000</td>\n",
       "      <td>-0.064408</td>\n",
       "      <td>0.213839</td>\n",
       "      <td>0.121785</td>\n",
       "      <td>0.004952</td>\n",
       "      <td>0.008593</td>\n",
       "      <td>0.016666</td>\n",
       "      <td>-0.083235</td>\n",
       "    </tr>\n",
       "    <tr>\n",
       "      <th>attributes_Accepts_Credit_Cards</th>\n",
       "      <td>0.019736</td>\n",
       "      <td>-0.064408</td>\n",
       "      <td>1.000000</td>\n",
       "      <td>-0.030269</td>\n",
       "      <td>-0.043352</td>\n",
       "      <td>0.002229</td>\n",
       "      <td>-0.026684</td>\n",
       "      <td>0.000191</td>\n",
       "      <td>0.017212</td>\n",
       "    </tr>\n",
       "    <tr>\n",
       "      <th>attributes_Alcohol</th>\n",
       "      <td>0.138445</td>\n",
       "      <td>0.213839</td>\n",
       "      <td>-0.030269</td>\n",
       "      <td>1.000000</td>\n",
       "      <td>0.213210</td>\n",
       "      <td>0.073443</td>\n",
       "      <td>-0.013024</td>\n",
       "      <td>-0.065626</td>\n",
       "      <td>-0.019904</td>\n",
       "    </tr>\n",
       "    <tr>\n",
       "      <th>attributes_Ambience_upscale</th>\n",
       "      <td>-0.114046</td>\n",
       "      <td>0.121785</td>\n",
       "      <td>-0.043352</td>\n",
       "      <td>0.213210</td>\n",
       "      <td>1.000000</td>\n",
       "      <td>0.014770</td>\n",
       "      <td>-0.027564</td>\n",
       "      <td>-0.008522</td>\n",
       "      <td>0.003919</td>\n",
       "    </tr>\n",
       "    <tr>\n",
       "      <th>vegas</th>\n",
       "      <td>0.096229</td>\n",
       "      <td>0.004952</td>\n",
       "      <td>0.002229</td>\n",
       "      <td>0.073443</td>\n",
       "      <td>0.014770</td>\n",
       "      <td>1.000000</td>\n",
       "      <td>-0.171021</td>\n",
       "      <td>-0.922394</td>\n",
       "      <td>-0.177622</td>\n",
       "    </tr>\n",
       "    <tr>\n",
       "      <th>water</th>\n",
       "      <td>-0.050366</td>\n",
       "      <td>0.008593</td>\n",
       "      <td>-0.026684</td>\n",
       "      <td>-0.013024</td>\n",
       "      <td>-0.027564</td>\n",
       "      <td>-0.171021</td>\n",
       "      <td>1.000000</td>\n",
       "      <td>-0.099228</td>\n",
       "      <td>-0.019108</td>\n",
       "    </tr>\n",
       "    <tr>\n",
       "      <th>phoe</th>\n",
       "      <td>-0.073418</td>\n",
       "      <td>0.016666</td>\n",
       "      <td>0.000191</td>\n",
       "      <td>-0.065626</td>\n",
       "      <td>-0.008522</td>\n",
       "      <td>-0.922394</td>\n",
       "      <td>-0.099228</td>\n",
       "      <td>1.000000</td>\n",
       "      <td>-0.103058</td>\n",
       "    </tr>\n",
       "    <tr>\n",
       "      <th>surprise</th>\n",
       "      <td>-0.037326</td>\n",
       "      <td>-0.083235</td>\n",
       "      <td>0.017212</td>\n",
       "      <td>-0.019904</td>\n",
       "      <td>0.003919</td>\n",
       "      <td>-0.177622</td>\n",
       "      <td>-0.019108</td>\n",
       "      <td>-0.103058</td>\n",
       "      <td>1.000000</td>\n",
       "    </tr>\n",
       "  </tbody>\n",
       "</table>\n",
       "</div>"
      ],
      "text/plain": [
       "                                 review_count     stars  \\\n",
       "review_count                         1.000000  0.153375   \n",
       "stars                                0.153375  1.000000   \n",
       "attributes_Accepts_Credit_Cards      0.019736 -0.064408   \n",
       "attributes_Alcohol                   0.138445  0.213839   \n",
       "attributes_Ambience_upscale         -0.114046  0.121785   \n",
       "vegas                                0.096229  0.004952   \n",
       "water                               -0.050366  0.008593   \n",
       "phoe                                -0.073418  0.016666   \n",
       "surprise                            -0.037326 -0.083235   \n",
       "\n",
       "                                 attributes_Accepts_Credit_Cards  \\\n",
       "review_count                                            0.019736   \n",
       "stars                                                  -0.064408   \n",
       "attributes_Accepts_Credit_Cards                         1.000000   \n",
       "attributes_Alcohol                                     -0.030269   \n",
       "attributes_Ambience_upscale                            -0.043352   \n",
       "vegas                                                   0.002229   \n",
       "water                                                  -0.026684   \n",
       "phoe                                                    0.000191   \n",
       "surprise                                                0.017212   \n",
       "\n",
       "                                 attributes_Alcohol  \\\n",
       "review_count                               0.138445   \n",
       "stars                                      0.213839   \n",
       "attributes_Accepts_Credit_Cards           -0.030269   \n",
       "attributes_Alcohol                         1.000000   \n",
       "attributes_Ambience_upscale                0.213210   \n",
       "vegas                                      0.073443   \n",
       "water                                     -0.013024   \n",
       "phoe                                      -0.065626   \n",
       "surprise                                  -0.019904   \n",
       "\n",
       "                                 attributes_Ambience_upscale     vegas  \\\n",
       "review_count                                       -0.114046  0.096229   \n",
       "stars                                               0.121785  0.004952   \n",
       "attributes_Accepts_Credit_Cards                    -0.043352  0.002229   \n",
       "attributes_Alcohol                                  0.213210  0.073443   \n",
       "attributes_Ambience_upscale                         1.000000  0.014770   \n",
       "vegas                                               0.014770  1.000000   \n",
       "water                                              -0.027564 -0.171021   \n",
       "phoe                                               -0.008522 -0.922394   \n",
       "surprise                                            0.003919 -0.177622   \n",
       "\n",
       "                                    water      phoe  surprise  \n",
       "review_count                    -0.050366 -0.073418 -0.037326  \n",
       "stars                            0.008593  0.016666 -0.083235  \n",
       "attributes_Accepts_Credit_Cards -0.026684  0.000191  0.017212  \n",
       "attributes_Alcohol              -0.013024 -0.065626 -0.019904  \n",
       "attributes_Ambience_upscale     -0.027564 -0.008522  0.003919  \n",
       "vegas                           -0.171021 -0.922394 -0.177622  \n",
       "water                            1.000000 -0.099228 -0.019108  \n",
       "phoe                            -0.099228  1.000000 -0.103058  \n",
       "surprise                        -0.019108 -0.103058  1.000000  "
      ]
     },
     "execution_count": 31,
     "metadata": {},
     "output_type": "execute_result"
    }
   ],
   "source": [
    "business_final.corr().T"
   ]
  },
  {
   "cell_type": "code",
   "execution_count": null,
   "metadata": {
    "collapsed": true
   },
   "outputs": [],
   "source": [
    "#Based on our model we can say, Alcohol, Ambience, and Credit Cards don't affect the city (Las Vegas) as \n",
    "#much as we would have expected. Surprisingly Waterloo is affeceted the most by these conditions. There are\n",
    "#probably other conditions that might affect the city. "
   ]
  },
  {
   "cell_type": "markdown",
   "metadata": {},
   "source": [
    "<img src=\"http://imgur.com/l5NasQj.png\" style=\"float: left; margin: 25px 15px 0px 0px; height: 25px\">\n",
    "\n",
    "## 2. Different categories of ratings\n",
    "\n",
    "---\n",
    "\n",
    "Yelp is finally ready to admit that their rating system sucks. No one cares about the ratings, they just use the site to find out what's nearby. The ratings are simply too unreliable for people. \n",
    "\n",
    "Yelp hypothesizes that this is, in fact, because different people tend to give their ratings based on different things. They believe that perhaps some people always base their ratings on quality of food, others on service, and perhaps other categories as well. \n",
    "\n",
    "1. Do some users tend to talk about service more than others in reviews/tips? Divide up the tips/reviews into more \"service-focused\" ones and those less concerned with service.\n",
    "2. Create two new ratings for businesses: ratings from just the service-focused reviews and ratings from the non-service reviews.\n",
    "3. Construct a regression model for each of the two ratings. They should use the same predictor variables (of your choice). \n",
    "4. Validate the performance of the models.\n",
    "5. Do the models coefficients differ at all? What does this tell you about the hypothesis that there are in fact two different kinds of ratings?"
   ]
  },
  {
   "cell_type": "code",
   "execution_count": 32,
   "metadata": {
    "collapsed": false
   },
   "outputs": [],
   "source": [
    "tips_group = tips.groupby(['user_id']).mean()\n",
    "#I plan on merging the tips dataframe with the service dataframe on user_id."
   ]
  },
  {
   "cell_type": "code",
   "execution_count": 33,
   "metadata": {
    "collapsed": true
   },
   "outputs": [],
   "source": [
    "tips_group = tips_group.reset_index()"
   ]
  },
  {
   "cell_type": "code",
   "execution_count": 34,
   "metadata": {
    "collapsed": false
   },
   "outputs": [
    {
     "data": {
      "text/html": [
       "<div>\n",
       "<table border=\"1\" class=\"dataframe\">\n",
       "  <thead>\n",
       "    <tr style=\"text-align: right;\">\n",
       "      <th></th>\n",
       "      <th>user_id</th>\n",
       "      <th>likes</th>\n",
       "      <th>24 hours</th>\n",
       "      <th>amazing food</th>\n",
       "      <th>animal style</th>\n",
       "      <th>awesome food</th>\n",
       "      <th>awesome place</th>\n",
       "      <th>awesome service</th>\n",
       "      <th>beef hash</th>\n",
       "      <th>beer selection</th>\n",
       "      <th>...</th>\n",
       "      <th>service good</th>\n",
       "      <th>service great</th>\n",
       "      <th>slow service</th>\n",
       "      <th>staff friendly</th>\n",
       "      <th>staff great</th>\n",
       "      <th>steak eggs</th>\n",
       "      <th>super friendly</th>\n",
       "      <th>sweet potato</th>\n",
       "      <th>velvet pancakes</th>\n",
       "      <th>worth wait</th>\n",
       "    </tr>\n",
       "  </thead>\n",
       "  <tbody>\n",
       "    <tr>\n",
       "      <th>0</th>\n",
       "      <td>--2QZsyXGz1OhiD4-0FQLQ</td>\n",
       "      <td>0.0</td>\n",
       "      <td>0.0</td>\n",
       "      <td>0.0</td>\n",
       "      <td>0.0</td>\n",
       "      <td>0.0</td>\n",
       "      <td>0.0</td>\n",
       "      <td>0.0</td>\n",
       "      <td>0.0</td>\n",
       "      <td>0.0</td>\n",
       "      <td>...</td>\n",
       "      <td>0.0</td>\n",
       "      <td>0.0</td>\n",
       "      <td>0.0</td>\n",
       "      <td>0.0</td>\n",
       "      <td>0.0</td>\n",
       "      <td>0.0</td>\n",
       "      <td>0.0</td>\n",
       "      <td>0.0</td>\n",
       "      <td>0.0</td>\n",
       "      <td>0.0</td>\n",
       "    </tr>\n",
       "    <tr>\n",
       "      <th>1</th>\n",
       "      <td>--4fX3LBeXoE88gDTK6TKQ</td>\n",
       "      <td>0.0</td>\n",
       "      <td>0.0</td>\n",
       "      <td>0.0</td>\n",
       "      <td>0.0</td>\n",
       "      <td>0.0</td>\n",
       "      <td>0.0</td>\n",
       "      <td>0.0</td>\n",
       "      <td>0.0</td>\n",
       "      <td>0.0</td>\n",
       "      <td>...</td>\n",
       "      <td>0.0</td>\n",
       "      <td>0.0</td>\n",
       "      <td>0.0</td>\n",
       "      <td>0.0</td>\n",
       "      <td>0.0</td>\n",
       "      <td>0.0</td>\n",
       "      <td>0.0</td>\n",
       "      <td>0.0</td>\n",
       "      <td>0.0</td>\n",
       "      <td>0.0</td>\n",
       "    </tr>\n",
       "  </tbody>\n",
       "</table>\n",
       "<p>2 rows × 102 columns</p>\n",
       "</div>"
      ],
      "text/plain": [
       "                  user_id  likes  24 hours  amazing food  animal style  \\\n",
       "0  --2QZsyXGz1OhiD4-0FQLQ    0.0       0.0           0.0           0.0   \n",
       "1  --4fX3LBeXoE88gDTK6TKQ    0.0       0.0           0.0           0.0   \n",
       "\n",
       "   awesome food  awesome place  awesome service  beef hash  beer selection  \\\n",
       "0           0.0            0.0              0.0        0.0             0.0   \n",
       "1           0.0            0.0              0.0        0.0             0.0   \n",
       "\n",
       "      ...      service good  service great  slow service  staff friendly  \\\n",
       "0     ...               0.0            0.0           0.0             0.0   \n",
       "1     ...               0.0            0.0           0.0             0.0   \n",
       "\n",
       "   staff great  steak eggs  super friendly  sweet potato  velvet pancakes  \\\n",
       "0          0.0         0.0             0.0           0.0              0.0   \n",
       "1          0.0         0.0             0.0           0.0              0.0   \n",
       "\n",
       "   worth wait  \n",
       "0         0.0  \n",
       "1         0.0  \n",
       "\n",
       "[2 rows x 102 columns]"
      ]
     },
     "execution_count": 34,
     "metadata": {},
     "output_type": "execute_result"
    }
   ],
   "source": [
    "tips_group.head(2)"
   ]
  },
  {
   "cell_type": "code",
   "execution_count": 35,
   "metadata": {
    "collapsed": false
   },
   "outputs": [],
   "source": [
    "reviews_group = reviews.groupby(['user_id']).mean()"
   ]
  },
  {
   "cell_type": "code",
   "execution_count": 36,
   "metadata": {
    "collapsed": true
   },
   "outputs": [],
   "source": [
    "reviews_group = reviews_group.reset_index()"
   ]
  },
  {
   "cell_type": "code",
   "execution_count": 37,
   "metadata": {
    "collapsed": false
   },
   "outputs": [
    {
     "data": {
      "text/html": [
       "<div>\n",
       "<table border=\"1\" class=\"dataframe\">\n",
       "  <thead>\n",
       "    <tr style=\"text-align: right;\">\n",
       "      <th></th>\n",
       "      <th>user_id</th>\n",
       "      <th>votes.cool</th>\n",
       "      <th>votes.funny</th>\n",
       "      <th>stars</th>\n",
       "      <th>votes.useful</th>\n",
       "      <th>10 minutes</th>\n",
       "      <th>15 minutes</th>\n",
       "      <th>20 minutes</th>\n",
       "      <th>30 minutes</th>\n",
       "      <th>bar food</th>\n",
       "      <th>...</th>\n",
       "      <th>service great</th>\n",
       "      <th>staff friendly</th>\n",
       "      <th>super friendly</th>\n",
       "      <th>sweet potato</th>\n",
       "      <th>tasted like</th>\n",
       "      <th>time vegas</th>\n",
       "      <th>try place</th>\n",
       "      <th>ve seen</th>\n",
       "      <th>ve tried</th>\n",
       "      <th>wait staff</th>\n",
       "    </tr>\n",
       "  </thead>\n",
       "  <tbody>\n",
       "    <tr>\n",
       "      <th>0</th>\n",
       "      <td>--0HEXd4W6bJI8k7E0RxTA</td>\n",
       "      <td>1.0</td>\n",
       "      <td>0.0</td>\n",
       "      <td>5.0</td>\n",
       "      <td>1.0</td>\n",
       "      <td>0.0</td>\n",
       "      <td>0.0</td>\n",
       "      <td>0.0</td>\n",
       "      <td>0.0</td>\n",
       "      <td>0.0</td>\n",
       "      <td>...</td>\n",
       "      <td>0.0</td>\n",
       "      <td>0.0</td>\n",
       "      <td>0.0</td>\n",
       "      <td>0.0</td>\n",
       "      <td>0.0</td>\n",
       "      <td>0.0</td>\n",
       "      <td>0.0</td>\n",
       "      <td>0.0</td>\n",
       "      <td>0.0</td>\n",
       "      <td>0.0</td>\n",
       "    </tr>\n",
       "    <tr>\n",
       "      <th>1</th>\n",
       "      <td>--2QZsyXGz1OhiD4-0FQLQ</td>\n",
       "      <td>0.0</td>\n",
       "      <td>0.0</td>\n",
       "      <td>5.0</td>\n",
       "      <td>0.0</td>\n",
       "      <td>0.0</td>\n",
       "      <td>0.0</td>\n",
       "      <td>0.0</td>\n",
       "      <td>0.0</td>\n",
       "      <td>0.0</td>\n",
       "      <td>...</td>\n",
       "      <td>0.0</td>\n",
       "      <td>0.0</td>\n",
       "      <td>0.0</td>\n",
       "      <td>0.0</td>\n",
       "      <td>0.0</td>\n",
       "      <td>0.0</td>\n",
       "      <td>0.0</td>\n",
       "      <td>0.0</td>\n",
       "      <td>0.0</td>\n",
       "      <td>0.0</td>\n",
       "    </tr>\n",
       "  </tbody>\n",
       "</table>\n",
       "<p>2 rows × 105 columns</p>\n",
       "</div>"
      ],
      "text/plain": [
       "                  user_id  votes.cool  votes.funny  stars  votes.useful  \\\n",
       "0  --0HEXd4W6bJI8k7E0RxTA         1.0          0.0    5.0           1.0   \n",
       "1  --2QZsyXGz1OhiD4-0FQLQ         0.0          0.0    5.0           0.0   \n",
       "\n",
       "   10 minutes  15 minutes  20 minutes  30 minutes  bar food     ...      \\\n",
       "0         0.0         0.0         0.0         0.0       0.0     ...       \n",
       "1         0.0         0.0         0.0         0.0       0.0     ...       \n",
       "\n",
       "   service great  staff friendly  super friendly  sweet potato  tasted like  \\\n",
       "0            0.0             0.0             0.0           0.0          0.0   \n",
       "1            0.0             0.0             0.0           0.0          0.0   \n",
       "\n",
       "   time vegas  try place  ve seen  ve tried  wait staff  \n",
       "0         0.0        0.0      0.0       0.0         0.0  \n",
       "1         0.0        0.0      0.0       0.0         0.0  \n",
       "\n",
       "[2 rows x 105 columns]"
      ]
     },
     "execution_count": 37,
     "metadata": {},
     "output_type": "execute_result"
    }
   ],
   "source": [
    "reviews_group.head(2)"
   ]
  },
  {
   "cell_type": "code",
   "execution_count": 38,
   "metadata": {
    "collapsed": false
   },
   "outputs": [],
   "source": [
    "service = pd.merge(reviews_group, tips_group, on = 'user_id', how = 'left')\n",
    "#Merge the tables together."
   ]
  },
  {
   "cell_type": "code",
   "execution_count": 39,
   "metadata": {
    "collapsed": true
   },
   "outputs": [],
   "source": [
    "service_df = service.filter(regex = 'service|staff|friendly|stars|elite')\n",
    "#I used the filter by regex to return the columns and values in the column based on the character."
   ]
  },
  {
   "cell_type": "code",
   "execution_count": 40,
   "metadata": {
    "collapsed": false
   },
   "outputs": [
    {
     "name": "stderr",
     "output_type": "stream",
     "text": [
      "/anaconda/envs/dsi/lib/python2.7/site-packages/ipykernel/__main__.py:1: FutureWarning: using '-' to provide set differences with Indexes is deprecated, use .difference()\n",
      "  if __name__ == '__main__':\n"
     ]
    }
   ],
   "source": [
    "column = service.columns - service_df.columns\n",
    "#Find the difference between the dataframe columns"
   ]
  },
  {
   "cell_type": "code",
   "execution_count": 41,
   "metadata": {
    "collapsed": true
   },
   "outputs": [],
   "source": [
    "nonservice_df = service[column]"
   ]
  },
  {
   "cell_type": "code",
   "execution_count": 42,
   "metadata": {
    "collapsed": true
   },
   "outputs": [],
   "source": [
    "service_df = service_df.fillna(0)\n",
    "nonservice_df = nonservice_df.fillna(0)"
   ]
  },
  {
   "cell_type": "code",
   "execution_count": 43,
   "metadata": {
    "collapsed": false
   },
   "outputs": [],
   "source": [
    "nonservice_df['stars'] = service_df['stars']"
   ]
  },
  {
   "cell_type": "code",
   "execution_count": 44,
   "metadata": {
    "collapsed": true
   },
   "outputs": [],
   "source": [
    "nonservice_df.columns = [x.strip().replace(' ', '_') for x in nonservice_df.columns]\n",
    "nonservice_df.columns = [x.strip().replace('.', '_') for x in nonservice_df.columns]\n",
    "service_df.columns = [x.strip().replace(' ', '_') for x in service_df.columns]"
   ]
  },
  {
   "cell_type": "code",
   "execution_count": 45,
   "metadata": {
    "collapsed": false
   },
   "outputs": [
    {
     "data": {
      "text/plain": [
       "((144206, 174), (144206, 33))"
      ]
     },
     "execution_count": 45,
     "metadata": {},
     "output_type": "execute_result"
    }
   ],
   "source": [
    "nonservice_df.shape, service_df.shape"
   ]
  },
  {
   "cell_type": "code",
   "execution_count": 46,
   "metadata": {
    "collapsed": true
   },
   "outputs": [],
   "source": [
    "dup = nonservice_df.filter(regex = '_y')\n",
    "nonservice_df.drop(dup, axis=1, inplace=True)\n",
    "dup2 = service_df.filter(regex = '_y')\n",
    "service_df.drop(dup2, axis = 1, inplace=True)\n",
    "#Removing the duplicated columns, that arise from merging the tables."
   ]
  },
  {
   "cell_type": "code",
   "execution_count": 47,
   "metadata": {
    "collapsed": false
   },
   "outputs": [
    {
     "data": {
      "text/html": [
       "<div>\n",
       "<table border=\"1\" class=\"dataframe\">\n",
       "  <thead>\n",
       "    <tr style=\"text-align: right;\">\n",
       "      <th></th>\n",
       "      <th>10_minutes</th>\n",
       "      <th>15_minutes</th>\n",
       "      <th>20_minutes</th>\n",
       "      <th>24_hours</th>\n",
       "      <th>30_minutes</th>\n",
       "      <th>amazing_food</th>\n",
       "      <th>animal_style</th>\n",
       "      <th>awesome_food</th>\n",
       "      <th>awesome_place</th>\n",
       "      <th>bar_food</th>\n",
       "      <th>...</th>\n",
       "      <th>try_place</th>\n",
       "      <th>user_id</th>\n",
       "      <th>ve_seen</th>\n",
       "      <th>ve_tried</th>\n",
       "      <th>velvet_pancakes</th>\n",
       "      <th>votes_cool</th>\n",
       "      <th>votes_funny</th>\n",
       "      <th>votes_useful</th>\n",
       "      <th>worth_wait</th>\n",
       "      <th>stars</th>\n",
       "    </tr>\n",
       "  </thead>\n",
       "  <tbody>\n",
       "    <tr>\n",
       "      <th>0</th>\n",
       "      <td>0.0</td>\n",
       "      <td>0.0</td>\n",
       "      <td>0.0</td>\n",
       "      <td>0.0</td>\n",
       "      <td>0.0</td>\n",
       "      <td>0.0</td>\n",
       "      <td>0.0</td>\n",
       "      <td>0.0</td>\n",
       "      <td>0.0</td>\n",
       "      <td>0.0</td>\n",
       "      <td>...</td>\n",
       "      <td>0.0</td>\n",
       "      <td>--0HEXd4W6bJI8k7E0RxTA</td>\n",
       "      <td>0.0</td>\n",
       "      <td>0.0</td>\n",
       "      <td>0.0</td>\n",
       "      <td>1.0</td>\n",
       "      <td>0.0</td>\n",
       "      <td>1.0</td>\n",
       "      <td>0.0</td>\n",
       "      <td>5.0</td>\n",
       "    </tr>\n",
       "    <tr>\n",
       "      <th>1</th>\n",
       "      <td>0.0</td>\n",
       "      <td>0.0</td>\n",
       "      <td>0.0</td>\n",
       "      <td>0.0</td>\n",
       "      <td>0.0</td>\n",
       "      <td>0.0</td>\n",
       "      <td>0.0</td>\n",
       "      <td>0.0</td>\n",
       "      <td>0.0</td>\n",
       "      <td>0.0</td>\n",
       "      <td>...</td>\n",
       "      <td>0.0</td>\n",
       "      <td>--2QZsyXGz1OhiD4-0FQLQ</td>\n",
       "      <td>0.0</td>\n",
       "      <td>0.0</td>\n",
       "      <td>0.0</td>\n",
       "      <td>0.0</td>\n",
       "      <td>0.0</td>\n",
       "      <td>0.0</td>\n",
       "      <td>0.0</td>\n",
       "      <td>5.0</td>\n",
       "    </tr>\n",
       "  </tbody>\n",
       "</table>\n",
       "<p>2 rows × 140 columns</p>\n",
       "</div>"
      ],
      "text/plain": [
       "   10_minutes  15_minutes  20_minutes  24_hours  30_minutes  amazing_food  \\\n",
       "0         0.0         0.0         0.0       0.0         0.0           0.0   \n",
       "1         0.0         0.0         0.0       0.0         0.0           0.0   \n",
       "\n",
       "   animal_style  awesome_food  awesome_place  bar_food  ...    try_place  \\\n",
       "0           0.0           0.0            0.0       0.0  ...          0.0   \n",
       "1           0.0           0.0            0.0       0.0  ...          0.0   \n",
       "\n",
       "                  user_id  ve_seen  ve_tried  velvet_pancakes  votes_cool  \\\n",
       "0  --0HEXd4W6bJI8k7E0RxTA      0.0       0.0              0.0         1.0   \n",
       "1  --2QZsyXGz1OhiD4-0FQLQ      0.0       0.0              0.0         0.0   \n",
       "\n",
       "   votes_funny  votes_useful  worth_wait  stars  \n",
       "0          0.0           1.0         0.0    5.0  \n",
       "1          0.0           0.0         0.0    5.0  \n",
       "\n",
       "[2 rows x 140 columns]"
      ]
     },
     "execution_count": 47,
     "metadata": {},
     "output_type": "execute_result"
    }
   ],
   "source": [
    "nonservice_df.head(2)"
   ]
  },
  {
   "cell_type": "code",
   "execution_count": 48,
   "metadata": {
    "collapsed": false
   },
   "outputs": [
    {
     "data": {
      "text/html": [
       "<div>\n",
       "<table border=\"1\" class=\"dataframe\">\n",
       "  <thead>\n",
       "    <tr style=\"text-align: right;\">\n",
       "      <th></th>\n",
       "      <th>stars</th>\n",
       "      <th>bottle_service_x</th>\n",
       "      <th>customer_service_x</th>\n",
       "      <th>food_service_x</th>\n",
       "      <th>friendly_staff_x</th>\n",
       "      <th>good_service_x</th>\n",
       "      <th>great_service_x</th>\n",
       "      <th>service_excellent</th>\n",
       "      <th>service_food_x</th>\n",
       "      <th>service_friendly</th>\n",
       "      <th>...</th>\n",
       "      <th>staff_friendly_x</th>\n",
       "      <th>super_friendly_x</th>\n",
       "      <th>wait_staff</th>\n",
       "      <th>awesome_service</th>\n",
       "      <th>excellent_service</th>\n",
       "      <th>fast_service</th>\n",
       "      <th>friendly_service</th>\n",
       "      <th>great_staff</th>\n",
       "      <th>slow_service</th>\n",
       "      <th>staff_great</th>\n",
       "    </tr>\n",
       "  </thead>\n",
       "  <tbody>\n",
       "    <tr>\n",
       "      <th>0</th>\n",
       "      <td>5.0</td>\n",
       "      <td>0.0</td>\n",
       "      <td>0.0</td>\n",
       "      <td>0.0</td>\n",
       "      <td>0.0</td>\n",
       "      <td>0.0</td>\n",
       "      <td>0.0</td>\n",
       "      <td>0.0</td>\n",
       "      <td>0.0</td>\n",
       "      <td>0.0</td>\n",
       "      <td>...</td>\n",
       "      <td>0.0</td>\n",
       "      <td>0.0</td>\n",
       "      <td>0.0</td>\n",
       "      <td>0.0</td>\n",
       "      <td>0.0</td>\n",
       "      <td>0.0</td>\n",
       "      <td>0.0</td>\n",
       "      <td>0.0</td>\n",
       "      <td>0.0</td>\n",
       "      <td>0.0</td>\n",
       "    </tr>\n",
       "    <tr>\n",
       "      <th>1</th>\n",
       "      <td>5.0</td>\n",
       "      <td>0.0</td>\n",
       "      <td>0.0</td>\n",
       "      <td>0.0</td>\n",
       "      <td>0.0</td>\n",
       "      <td>0.0</td>\n",
       "      <td>0.0</td>\n",
       "      <td>1.0</td>\n",
       "      <td>0.0</td>\n",
       "      <td>0.0</td>\n",
       "      <td>...</td>\n",
       "      <td>0.0</td>\n",
       "      <td>0.0</td>\n",
       "      <td>0.0</td>\n",
       "      <td>0.0</td>\n",
       "      <td>0.0</td>\n",
       "      <td>0.0</td>\n",
       "      <td>0.0</td>\n",
       "      <td>0.0</td>\n",
       "      <td>0.0</td>\n",
       "      <td>0.0</td>\n",
       "    </tr>\n",
       "  </tbody>\n",
       "</table>\n",
       "<p>2 rows × 22 columns</p>\n",
       "</div>"
      ],
      "text/plain": [
       "   stars  bottle_service_x  customer_service_x  food_service_x  \\\n",
       "0    5.0               0.0                 0.0             0.0   \n",
       "1    5.0               0.0                 0.0             0.0   \n",
       "\n",
       "   friendly_staff_x  good_service_x  great_service_x  service_excellent  \\\n",
       "0               0.0             0.0              0.0                0.0   \n",
       "1               0.0             0.0              0.0                1.0   \n",
       "\n",
       "   service_food_x  service_friendly     ...       staff_friendly_x  \\\n",
       "0             0.0               0.0     ...                    0.0   \n",
       "1             0.0               0.0     ...                    0.0   \n",
       "\n",
       "   super_friendly_x  wait_staff  awesome_service  excellent_service  \\\n",
       "0               0.0         0.0              0.0                0.0   \n",
       "1               0.0         0.0              0.0                0.0   \n",
       "\n",
       "   fast_service  friendly_service  great_staff  slow_service  staff_great  \n",
       "0           0.0               0.0          0.0           0.0          0.0  \n",
       "1           0.0               0.0          0.0           0.0          0.0  \n",
       "\n",
       "[2 rows x 22 columns]"
      ]
     },
     "execution_count": 48,
     "metadata": {},
     "output_type": "execute_result"
    }
   ],
   "source": [
    "service_df.head(2)"
   ]
  },
  {
   "cell_type": "code",
   "execution_count": 49,
   "metadata": {
    "collapsed": false
   },
   "outputs": [],
   "source": [
    "X = nonservice_df[['friday_night', 'recommend_place']]\n",
    "y = nonservice_df['stars'].values\n",
    "X2 = service_df[['service_good_x', 'service_friendly']]\n",
    "y2 = service_df['stars'].values\n",
    "#Use a continuous variable in this case average stars"
   ]
  },
  {
   "cell_type": "code",
   "execution_count": 50,
   "metadata": {
    "collapsed": false
   },
   "outputs": [
    {
     "name": "stdout",
     "output_type": "stream",
     "text": [
      "(86523, 2) (57683, 2) (86523,) (57683,)\n",
      "(86523, 2) (57683, 2) (86523,) (57683,)\n"
     ]
    }
   ],
   "source": [
    "X_nser_train, X_nser_test, y_nser_train, y_nser_test = train_test_split(X, y,test_size=0.4)\n",
    "X_ser_train, X_ser_test, y_ser_train, y_ser_test = train_test_split(X2, y2,test_size=0.4)\n",
    "\n",
    "print X_nser_train.shape, X_nser_test.shape, y_nser_train.shape, y_nser_test.shape\n",
    "print X_ser_train.shape, X_ser_test.shape, y_ser_train.shape, y_ser_test.shape"
   ]
  },
  {
   "cell_type": "code",
   "execution_count": 51,
   "metadata": {
    "collapsed": false
   },
   "outputs": [
    {
     "name": "stdout",
     "output_type": "stream",
     "text": [
      "Mean of predictions for Nonservice & Service\n",
      "3.75062961863\n",
      "3.74617045351\n",
      "\n",
      "Score for Nonservice & Service\n",
      "0.000260822824375\n",
      "0.000637845602973\n",
      "\n",
      "Coefficient for Nonservice & Service\n",
      "[-0.10308448  0.43139115]\n",
      "[-0.10308448  0.43139115]\n",
      "\n",
      "Intercept\n",
      "3.74502839051\n"
     ]
    }
   ],
   "source": [
    "lm = LinearRegression() #Using linear regression since y is a continous value.\n",
    "\n",
    "model_nser = lm.fit(X, y)\n",
    "model_ser = lm.fit(X2,y2)\n",
    "predictions_nser = lm.predict(X)\n",
    "predictions_ser = lm.predict(X2)\n",
    "\n",
    "print \"Mean of predictions for Nonservice & Service\"\n",
    "print predictions_nser.mean()\n",
    "print predictions_ser.mean()\n",
    "print \"\"\n",
    "print \"Score for Nonservice & Service\"\n",
    "print model_nser.score(X, y)\n",
    "print model_ser.score(X2, y2)\n",
    "print \"\"\n",
    "print \"Coefficient for Nonservice & Service\"\n",
    "print model_nser.coef_\n",
    "print model_ser.coef_\n",
    "print \"\"\n",
    "print \"Intercept\"\n",
    "print lm.intercept_"
   ]
  },
  {
   "cell_type": "code",
   "execution_count": 52,
   "metadata": {
    "collapsed": false
   },
   "outputs": [
    {
     "data": {
      "text/plain": [
       "<matplotlib.collections.PathCollection at 0x119943f90>"
      ]
     },
     "execution_count": 52,
     "metadata": {},
     "output_type": "execute_result"
    },
    {
     "data": {
      "image/png": "[encoded data removed]",
      "text/plain": [
       "<matplotlib.figure.Figure at 0x11958bdd0>"
      ]
     },
     "metadata": {},
     "output_type": "display_data"
    }
   ],
   "source": [
    "fig = plt.figure(figsize=(6,6))\n",
    "plt.scatter(predictions_nser, y, s=100, c='r', marker='+')"
   ]
  },
  {
   "cell_type": "code",
   "execution_count": 53,
   "metadata": {
    "collapsed": false
   },
   "outputs": [
    {
     "data": {
      "text/plain": [
       "<matplotlib.collections.PathCollection at 0x11a30ad50>"
      ]
     },
     "execution_count": 53,
     "metadata": {},
     "output_type": "execute_result"
    },
    {
     "data": {
      "image/png": "[encoded data removed]",
      "text/plain": [
       "<matplotlib.figure.Figure at 0x11958b4d0>"
      ]
     },
     "metadata": {},
     "output_type": "display_data"
    }
   ],
   "source": [
    "plt.scatter(predictions_ser, y2, s=100, c='b', marker='+')"
   ]
  },
  {
   "cell_type": "code",
   "execution_count": null,
   "metadata": {
    "collapsed": true
   },
   "outputs": [],
   "source": [
    "#The coefficients and visualization for the service and nonservice models are similar. \n",
    "#We can reject the hypothesis that there is two different kinds of ratings."
   ]
  },
  {
   "cell_type": "markdown",
   "metadata": {},
   "source": [
    "<img src=\"http://imgur.com/l5NasQj.png\" style=\"float: left; margin: 25px 15px 0px 0px; height: 25px\">\n",
    "\n",
    "## 3. Identifying \"elite\" users\n",
    "\n",
    "---\n",
    "\n",
    "Yelp, though having their own formula for determining whether a user is elite or not, is interested in delving deeper into what differentiates an elite user from a normal user at a broader level.\n",
    "\n",
    "Use a classification model to predict whether a user is elite or not. Note that users can be elite in some years and not in others.\n",
    "\n",
    "1. What things predict well whether a user is elite or not?\n",
    "- Validate the model.\n",
    "- If you were to remove the \"counts\" metrics for users (reviews, votes, compliments), what distinguishes an elite user, if anything? Validate the model and compare it to the one with the count variables.\n",
    "- Think of a way to visually represent your results in a compelling way.\n",
    "- Give a brief write-up of your findings.\n"
   ]
  },
  {
   "cell_type": "code",
   "execution_count": null,
   "metadata": {
    "collapsed": true
   },
   "outputs": [],
   "source": [
    "#The popularity of the user, as in the votes, compliments and contribution affect whether the user\n",
    "#is elite or not. There are multiple users that elite in one or some years."
   ]
  },
  {
   "cell_type": "code",
   "execution_count": 55,
   "metadata": {
    "collapsed": false
   },
   "outputs": [],
   "source": [
    "users = pd.read_csv('/Users/nsivapra/Desktop/DSI-SF-2-nsivapra/yelp_arizona_data/users_small_parsed.csv')"
   ]
  },
  {
   "cell_type": "code",
   "execution_count": 56,
   "metadata": {
    "collapsed": false
   },
   "outputs": [],
   "source": [
    "users_info = users.groupby('user_id')[['yelping_since', 'elite']].max()"
   ]
  },
  {
   "cell_type": "code",
   "execution_count": 57,
   "metadata": {
    "collapsed": false
   },
   "outputs": [],
   "source": [
    "users_info = users_info.reset_index()"
   ]
  },
  {
   "cell_type": "code",
   "execution_count": 58,
   "metadata": {
    "collapsed": false
   },
   "outputs": [],
   "source": [
    "users_info['year'] = users_info['yelping_since'].str[:4]\n",
    "#Going to look into an empty list and set to 0 for elite else 1"
   ]
  },
  {
   "cell_type": "code",
   "execution_count": 59,
   "metadata": {
    "collapsed": false
   },
   "outputs": [],
   "source": [
    "users_info['elite'] = users_info['elite'].map(lambda x: 0 if x == '[]' else 1)"
   ]
  },
  {
   "cell_type": "code",
   "execution_count": 60,
   "metadata": {
    "collapsed": false
   },
   "outputs": [],
   "source": [
    "users.drop(['yelping_since', 'elite'], axis=1, inplace=True)"
   ]
  },
  {
   "cell_type": "code",
   "execution_count": 61,
   "metadata": {
    "collapsed": true
   },
   "outputs": [],
   "source": [
    "elite_df = pd.merge(users, users_info, on = 'user_id', how = 'left')"
   ]
  },
  {
   "cell_type": "code",
   "execution_count": 62,
   "metadata": {
    "collapsed": false
   },
   "outputs": [],
   "source": [
    "elite_df = elite_df.fillna(0)"
   ]
  },
  {
   "cell_type": "code",
   "execution_count": 63,
   "metadata": {
    "collapsed": true
   },
   "outputs": [],
   "source": [
    "elite_comp = elite_df.filter(regex = 'review|vote|complimen|elite')\n",
    "#Take the count type of dataframe."
   ]
  },
  {
   "cell_type": "code",
   "execution_count": 64,
   "metadata": {
    "collapsed": false
   },
   "outputs": [
    {
     "data": {
      "text/html": [
       "<div>\n",
       "<table border=\"1\" class=\"dataframe\">\n",
       "  <thead>\n",
       "    <tr style=\"text-align: right;\">\n",
       "      <th></th>\n",
       "      <th>compliments.plain</th>\n",
       "      <th>review_count</th>\n",
       "      <th>compliments.cute</th>\n",
       "      <th>compliments.writer</th>\n",
       "      <th>compliments.note</th>\n",
       "      <th>compliments.hot</th>\n",
       "      <th>compliments.cool</th>\n",
       "      <th>compliments.profile</th>\n",
       "      <th>compliments.more</th>\n",
       "      <th>votes.cool</th>\n",
       "      <th>compliments.list</th>\n",
       "      <th>votes.funny</th>\n",
       "      <th>compliments.photos</th>\n",
       "      <th>compliments.funny</th>\n",
       "      <th>votes.useful</th>\n",
       "      <th>elite</th>\n",
       "    </tr>\n",
       "  </thead>\n",
       "  <tbody>\n",
       "    <tr>\n",
       "      <th>0</th>\n",
       "      <td>959.0</td>\n",
       "      <td>1274</td>\n",
       "      <td>206.0</td>\n",
       "      <td>327.0</td>\n",
       "      <td>611.0</td>\n",
       "      <td>1094.0</td>\n",
       "      <td>1642.0</td>\n",
       "      <td>116.0</td>\n",
       "      <td>134.0</td>\n",
       "      <td>11093</td>\n",
       "      <td>38.0</td>\n",
       "      <td>7681</td>\n",
       "      <td>330.0</td>\n",
       "      <td>580.0</td>\n",
       "      <td>14199</td>\n",
       "      <td>1</td>\n",
       "    </tr>\n",
       "    <tr>\n",
       "      <th>1</th>\n",
       "      <td>89.0</td>\n",
       "      <td>442</td>\n",
       "      <td>23.0</td>\n",
       "      <td>24.0</td>\n",
       "      <td>83.0</td>\n",
       "      <td>101.0</td>\n",
       "      <td>145.0</td>\n",
       "      <td>9.0</td>\n",
       "      <td>19.0</td>\n",
       "      <td>732</td>\n",
       "      <td>4.0</td>\n",
       "      <td>908</td>\n",
       "      <td>24.0</td>\n",
       "      <td>120.0</td>\n",
       "      <td>1483</td>\n",
       "      <td>1</td>\n",
       "    </tr>\n",
       "  </tbody>\n",
       "</table>\n",
       "</div>"
      ],
      "text/plain": [
       "   compliments.plain  review_count  compliments.cute  compliments.writer  \\\n",
       "0              959.0          1274             206.0               327.0   \n",
       "1               89.0           442              23.0                24.0   \n",
       "\n",
       "   compliments.note  compliments.hot  compliments.cool  compliments.profile  \\\n",
       "0             611.0           1094.0            1642.0                116.0   \n",
       "1              83.0            101.0             145.0                  9.0   \n",
       "\n",
       "   compliments.more  votes.cool  compliments.list  votes.funny  \\\n",
       "0             134.0       11093              38.0         7681   \n",
       "1              19.0         732               4.0          908   \n",
       "\n",
       "   compliments.photos  compliments.funny  votes.useful  elite  \n",
       "0               330.0              580.0         14199      1  \n",
       "1                24.0              120.0          1483      1  "
      ]
     },
     "execution_count": 64,
     "metadata": {},
     "output_type": "execute_result"
    }
   ],
   "source": [
    "elite_comp.head(2)"
   ]
  },
  {
   "cell_type": "code",
   "execution_count": 65,
   "metadata": {
    "collapsed": false
   },
   "outputs": [
    {
     "name": "stderr",
     "output_type": "stream",
     "text": [
      "/anaconda/envs/dsi/lib/python2.7/site-packages/ipykernel/__main__.py:1: FutureWarning: using '-' to provide set differences with Indexes is deprecated, use .difference()\n",
      "  if __name__ == '__main__':\n"
     ]
    }
   ],
   "source": [
    "column = elite_df.columns - elite_comp.columns"
   ]
  },
  {
   "cell_type": "code",
   "execution_count": 66,
   "metadata": {
    "collapsed": false
   },
   "outputs": [],
   "source": [
    "elite_ncomp = elite_df[column]"
   ]
  },
  {
   "cell_type": "code",
   "execution_count": 67,
   "metadata": {
    "collapsed": false
   },
   "outputs": [
    {
     "name": "stderr",
     "output_type": "stream",
     "text": [
      "/anaconda/envs/dsi/lib/python2.7/site-packages/ipykernel/__main__.py:1: SettingWithCopyWarning: \n",
      "A value is trying to be set on a copy of a slice from a DataFrame.\n",
      "Try using .loc[row_indexer,col_indexer] = value instead\n",
      "\n",
      "See the caveats in the documentation: http://pandas.pydata.org/pandas-docs/stable/indexing.html#indexing-view-versus-copy\n",
      "  if __name__ == '__main__':\n"
     ]
    }
   ],
   "source": [
    "elite_ncomp['elite'] = elite_comp['elite']"
   ]
  },
  {
   "cell_type": "code",
   "execution_count": 68,
   "metadata": {
    "collapsed": true
   },
   "outputs": [],
   "source": [
    "elite_comp.columns = [x.strip().replace('.', '_') for x in elite_comp.columns]"
   ]
  },
  {
   "cell_type": "code",
   "execution_count": 69,
   "metadata": {
    "collapsed": false
   },
   "outputs": [
    {
     "data": {
      "text/html": [
       "<div>\n",
       "<table border=\"1\" class=\"dataframe\">\n",
       "  <thead>\n",
       "    <tr style=\"text-align: right;\">\n",
       "      <th></th>\n",
       "      <th>average_stars</th>\n",
       "      <th>fans</th>\n",
       "      <th>name</th>\n",
       "      <th>user_id</th>\n",
       "      <th>year</th>\n",
       "      <th>yelping_since</th>\n",
       "      <th>elite</th>\n",
       "    </tr>\n",
       "  </thead>\n",
       "  <tbody>\n",
       "    <tr>\n",
       "      <th>0</th>\n",
       "      <td>3.66</td>\n",
       "      <td>1179</td>\n",
       "      <td>Jeremy</td>\n",
       "      <td>rpOyqD_893cqmDAtJLbdog</td>\n",
       "      <td>2004</td>\n",
       "      <td>2004-10</td>\n",
       "      <td>1</td>\n",
       "    </tr>\n",
       "    <tr>\n",
       "      <th>1</th>\n",
       "      <td>3.60</td>\n",
       "      <td>100</td>\n",
       "      <td>Michael</td>\n",
       "      <td>4U9kSBLuBDU391x6bxU-YA</td>\n",
       "      <td>2004</td>\n",
       "      <td>2004-10</td>\n",
       "      <td>1</td>\n",
       "    </tr>\n",
       "  </tbody>\n",
       "</table>\n",
       "</div>"
      ],
      "text/plain": [
       "   average_stars  fans     name                 user_id  year yelping_since  \\\n",
       "0           3.66  1179   Jeremy  rpOyqD_893cqmDAtJLbdog  2004       2004-10   \n",
       "1           3.60   100  Michael  4U9kSBLuBDU391x6bxU-YA  2004       2004-10   \n",
       "\n",
       "   elite  \n",
       "0      1  \n",
       "1      1  "
      ]
     },
     "execution_count": 69,
     "metadata": {},
     "output_type": "execute_result"
    }
   ],
   "source": [
    "elite_ncomp.head(2)"
   ]
  },
  {
   "cell_type": "code",
   "execution_count": 70,
   "metadata": {
    "collapsed": false
   },
   "outputs": [
    {
     "data": {
      "text/html": [
       "<div>\n",
       "<table border=\"1\" class=\"dataframe\">\n",
       "  <thead>\n",
       "    <tr style=\"text-align: right;\">\n",
       "      <th></th>\n",
       "      <th>compliments_plain</th>\n",
       "      <th>review_count</th>\n",
       "      <th>compliments_cute</th>\n",
       "      <th>compliments_writer</th>\n",
       "      <th>compliments_note</th>\n",
       "      <th>compliments_hot</th>\n",
       "      <th>compliments_cool</th>\n",
       "      <th>compliments_profile</th>\n",
       "      <th>compliments_more</th>\n",
       "      <th>votes_cool</th>\n",
       "      <th>compliments_list</th>\n",
       "      <th>votes_funny</th>\n",
       "      <th>compliments_photos</th>\n",
       "      <th>compliments_funny</th>\n",
       "      <th>votes_useful</th>\n",
       "      <th>elite</th>\n",
       "    </tr>\n",
       "  </thead>\n",
       "  <tbody>\n",
       "    <tr>\n",
       "      <th>0</th>\n",
       "      <td>959.0</td>\n",
       "      <td>1274</td>\n",
       "      <td>206.0</td>\n",
       "      <td>327.0</td>\n",
       "      <td>611.0</td>\n",
       "      <td>1094.0</td>\n",
       "      <td>1642.0</td>\n",
       "      <td>116.0</td>\n",
       "      <td>134.0</td>\n",
       "      <td>11093</td>\n",
       "      <td>38.0</td>\n",
       "      <td>7681</td>\n",
       "      <td>330.0</td>\n",
       "      <td>580.0</td>\n",
       "      <td>14199</td>\n",
       "      <td>1</td>\n",
       "    </tr>\n",
       "    <tr>\n",
       "      <th>1</th>\n",
       "      <td>89.0</td>\n",
       "      <td>442</td>\n",
       "      <td>23.0</td>\n",
       "      <td>24.0</td>\n",
       "      <td>83.0</td>\n",
       "      <td>101.0</td>\n",
       "      <td>145.0</td>\n",
       "      <td>9.0</td>\n",
       "      <td>19.0</td>\n",
       "      <td>732</td>\n",
       "      <td>4.0</td>\n",
       "      <td>908</td>\n",
       "      <td>24.0</td>\n",
       "      <td>120.0</td>\n",
       "      <td>1483</td>\n",
       "      <td>1</td>\n",
       "    </tr>\n",
       "  </tbody>\n",
       "</table>\n",
       "</div>"
      ],
      "text/plain": [
       "   compliments_plain  review_count  compliments_cute  compliments_writer  \\\n",
       "0              959.0          1274             206.0               327.0   \n",
       "1               89.0           442              23.0                24.0   \n",
       "\n",
       "   compliments_note  compliments_hot  compliments_cool  compliments_profile  \\\n",
       "0             611.0           1094.0            1642.0                116.0   \n",
       "1              83.0            101.0             145.0                  9.0   \n",
       "\n",
       "   compliments_more  votes_cool  compliments_list  votes_funny  \\\n",
       "0             134.0       11093              38.0         7681   \n",
       "1              19.0         732               4.0          908   \n",
       "\n",
       "   compliments_photos  compliments_funny  votes_useful  elite  \n",
       "0               330.0              580.0         14199      1  \n",
       "1                24.0              120.0          1483      1  "
      ]
     },
     "execution_count": 70,
     "metadata": {},
     "output_type": "execute_result"
    }
   ],
   "source": [
    "elite_comp.head(2)"
   ]
  },
  {
   "cell_type": "code",
   "execution_count": 71,
   "metadata": {
    "collapsed": true
   },
   "outputs": [],
   "source": [
    "X = elite_comp[['compliments_plain', 'votes_useful', 'compliments_cool']]\n",
    "y = elite_comp['elite'].values\n",
    "X2 = elite_ncomp[['average_stars', 'fans']]\n",
    "y2 = elite_ncomp['elite'].values"
   ]
  },
  {
   "cell_type": "code",
   "execution_count": null,
   "metadata": {
    "collapsed": true
   },
   "outputs": [],
   "source": [
    "#For the non compliment dataframe I'm going to look into the number of fans, and average stars received.\n",
    "#Realistically the higher the average_stars and fans the stronger the model should be."
   ]
  },
  {
   "cell_type": "code",
   "execution_count": 72,
   "metadata": {
    "collapsed": false
   },
   "outputs": [
    {
     "name": "stdout",
     "output_type": "stream",
     "text": [
      "(86523, 3) (57683, 3) (86523,) (57683,)\n",
      "(86523, 2) (57683, 2) (86523,) (57683,)\n"
     ]
    }
   ],
   "source": [
    "X_ncomp_train, X_ncomp_test, y_ncomp_train, y_ncomp_test = train_test_split(X, y,test_size=0.4)\n",
    "X_comp_train, X_comp_test, y_comp_train, y_comp_test = train_test_split(X2, y2,test_size=0.4)\n",
    "\n",
    "print X_ncomp_train.shape, X_ncomp_test.shape, y_ncomp_train.shape, y_ncomp_test.shape\n",
    "print X_comp_train.shape, X_comp_test.shape, y_comp_train.shape, y_comp_test.shape"
   ]
  },
  {
   "cell_type": "code",
   "execution_count": 73,
   "metadata": {
    "collapsed": false
   },
   "outputs": [
    {
     "name": "stdout",
     "output_type": "stream",
     "text": [
      "Fitting 10 folds for each of 8 candidates, totalling 80 fits\n"
     ]
    },
    {
     "name": "stderr",
     "output_type": "stream",
     "text": [
      "[Parallel(n_jobs=1)]: Done  49 tasks       | elapsed:   29.3s\n",
      "[Parallel(n_jobs=1)]: Done  80 out of  80 | elapsed:   44.8s finished\n"
     ]
    },
    {
     "name": "stdout",
     "output_type": "stream",
     "text": [
      "Fitting 10 folds for each of 8 candidates, totalling 80 fits\n"
     ]
    },
    {
     "name": "stderr",
     "output_type": "stream",
     "text": [
      "[Parallel(n_jobs=1)]: Done  49 tasks       | elapsed:   11.9s\n",
      "[Parallel(n_jobs=1)]: Done  80 out of  80 | elapsed:   20.4s finished\n"
     ]
    },
    {
     "data": {
      "text/plain": [
       "GridSearchCV(cv=10, error_score='raise',\n",
       "       estimator=LogisticRegression(C=1.0, class_weight=None, dual=False, fit_intercept=True,\n",
       "          intercept_scaling=1, max_iter=100, multi_class='ovr', n_jobs=1,\n",
       "          penalty='l2', random_state=None, solver='liblinear', tol=0.0001,\n",
       "          verbose=0, warm_start=False),\n",
       "       fit_params={}, iid=True, n_jobs=1,\n",
       "       param_grid={'penalty': ['l2', 'l1'], 'C': [1, 2, 3, 4], 'solver': ['liblinear']},\n",
       "       pre_dispatch='2*n_jobs', refit=True, scoring=None, verbose=1)"
      ]
     },
     "execution_count": 73,
     "metadata": {},
     "output_type": "execute_result"
    }
   ],
   "source": [
    "lr_params = {\n",
    "    'solver':['liblinear'],\n",
    "    'penalty':['l2','l1'],\n",
    "    'C':range(1, 5, 1)\n",
    "}\n",
    "\n",
    "ncomp_gs = GridSearchCV(LogisticRegression(), lr_params, cv=10, verbose=1)\n",
    "comp_gs = GridSearchCV(LogisticRegression(), lr_params, cv=10, verbose=1)\n",
    "\n",
    "\n",
    "ncomp_gs.fit(X_ncomp_train, y_ncomp_train)\n",
    "comp_gs.fit(X_comp_train, y_comp_train)"
   ]
  },
  {
   "cell_type": "code",
   "execution_count": 74,
   "metadata": {
    "collapsed": false
   },
   "outputs": [
    {
     "name": "stdout",
     "output_type": "stream",
     "text": [
      "Params and Score for Non Count Variables\n",
      "{'penalty': 'l1', 'C': 3, 'solver': 'liblinear'}\n",
      "0.941495324943 0.885186597783\n",
      "\n",
      "Params and Score for Count Variables\n",
      "{'penalty': 'l2', 'C': 1, 'solver': 'liblinear'}\n",
      "0.935670284202 0.883406724224\n"
     ]
    }
   ],
   "source": [
    "ncomp_lr = ncomp_gs.best_estimator_\n",
    "print \"Params and Score for Non Count Variables\"\n",
    "print ncomp_gs.best_params_\n",
    "print ncomp_gs.best_score_, np.abs(0.5 - np.mean(y_ncomp_train)) + 0.5\n",
    "print \"\"\n",
    "print \"Params and Score for Count Variables\"\n",
    "comp_lr = comp_gs.best_estimator_\n",
    "print comp_gs.best_params_\n",
    "print comp_gs.best_score_, np.abs(0.5 - np.mean(y_comp_train)) + 0.5"
   ]
  },
  {
   "cell_type": "code",
   "execution_count": 75,
   "metadata": {
    "collapsed": false
   },
   "outputs": [
    {
     "data": {
      "text/plain": [
       "<matplotlib.axes._subplots.AxesSubplot at 0x1194be910>"
      ]
     },
     "execution_count": 75,
     "metadata": {},
     "output_type": "execute_result"
    },
    {
     "data": {
      "image/png": "[encoded data removed]",
      "text/plain": [
       "<matplotlib.figure.Figure at 0x118df1410>"
      ]
     },
     "metadata": {},
     "output_type": "display_data"
    }
   ],
   "source": [
    "sns.heatmap(elite_comp.corr())"
   ]
  },
  {
   "cell_type": "code",
   "execution_count": 76,
   "metadata": {
    "collapsed": false
   },
   "outputs": [
    {
     "data": {
      "text/plain": [
       "<matplotlib.axes._subplots.AxesSubplot at 0x119427350>"
      ]
     },
     "execution_count": 76,
     "metadata": {},
     "output_type": "execute_result"
    },
    {
     "data": {
      "image/png": "[encoded data removed]",
      "text/plain": [
       "<matplotlib.figure.Figure at 0x119bb8790>"
      ]
     },
     "metadata": {},
     "output_type": "display_data"
    }
   ],
   "source": [
    "sns.heatmap(elite_ncomp.corr())"
   ]
  },
  {
   "cell_type": "code",
   "execution_count": 77,
   "metadata": {
    "collapsed": false
   },
   "outputs": [
    {
     "data": {
      "image/png": "[encoded data removed]",
      "text/plain": [
       "<matplotlib.figure.Figure at 0x119592fd0>"
      ]
     },
     "metadata": {},
     "output_type": "display_data"
    }
   ],
   "source": [
    "plot_roc(comp_lr, X_comp_test, y_comp_test, 'Compliments')"
   ]
  },
  {
   "cell_type": "code",
   "execution_count": 78,
   "metadata": {
    "collapsed": true
   },
   "outputs": [],
   "source": [
    "model_comp = lm.fit(X, y)\n",
    "predictions_comp = lm.predict(X)"
   ]
  },
  {
   "cell_type": "code",
   "execution_count": 79,
   "metadata": {
    "collapsed": false
   },
   "outputs": [
    {
     "data": {
      "text/plain": [
       "<matplotlib.collections.PathCollection at 0x127e11e10>"
      ]
     },
     "execution_count": 79,
     "metadata": {},
     "output_type": "execute_result"
    },
    {
     "data": {
      "image/png": "[encoded data removed]",
      "text/plain": [
       "<matplotlib.figure.Figure at 0x1236fa790>"
      ]
     },
     "metadata": {},
     "output_type": "display_data"
    }
   ],
   "source": [
    "fig = plt.figure(figsize=(6,6))\n",
    "plt.scatter(predictions_comp, y, s=100, c='r', marker='+')"
   ]
  },
  {
   "cell_type": "code",
   "execution_count": 80,
   "metadata": {
    "collapsed": false
   },
   "outputs": [
    {
     "data": {
      "image/png": "[encoded data removed]",
      "text/plain": [
       "<matplotlib.figure.Figure at 0x103ed3f10>"
      ]
     },
     "metadata": {},
     "output_type": "display_data"
    }
   ],
   "source": [
    "plot_roc(ncomp_lr, X_ncomp_test, y_ncomp_test, 'Non Compliments')"
   ]
  },
  {
   "cell_type": "code",
   "execution_count": 81,
   "metadata": {
    "collapsed": true
   },
   "outputs": [],
   "source": [
    "model_ncomp = lm.fit(X2,y2)\n",
    "predictions_ncomp= lm.predict(X2)"
   ]
  },
  {
   "cell_type": "code",
   "execution_count": 82,
   "metadata": {
    "collapsed": false
   },
   "outputs": [
    {
     "data": {
      "text/plain": [
       "<matplotlib.collections.PathCollection at 0x129dd82d0>"
      ]
     },
     "execution_count": 82,
     "metadata": {},
     "output_type": "execute_result"
    },
    {
     "data": {
      "image/png": "[encoded data removed]",
      "text/plain": [
       "<matplotlib.figure.Figure at 0x129dcee50>"
      ]
     },
     "metadata": {},
     "output_type": "display_data"
    }
   ],
   "source": [
    "fig = plt.figure(figsize=(6,6))\n",
    "plt.scatter(predictions_ncomp, y2, s=100, c='b', marker='+')"
   ]
  },
  {
   "cell_type": "code",
   "execution_count": null,
   "metadata": {
    "collapsed": true
   },
   "outputs": [],
   "source": [
    "#There isn't much difference between the count metric and non count metrics.\n",
    "#Based on the area the value is very similar and accurate."
   ]
  },
  {
   "cell_type": "markdown",
   "metadata": {},
   "source": [
    "<img src=\"http://imgur.com/GCAf1UX.png\" style=\"float: left; margin: 25px 15px 0px 0px; height: 25px\">\n",
    "\n",
    "## 4. Find something interesting on your own\n",
    "\n",
    "---\n",
    "\n",
    "You want to impress your superiors at Yelp by doing some investigation into the data on your own. You want to do classification, but you're not sure on what.\n",
    "\n",
    "1. Create a hypothesis or hypotheses about the data based on whatever you are interested in, as long as it is predicting a category of some kind (classification).\n",
    "2. Explore the data visually (ideally related to this hypothesis).\n",
    "3. Build one or more classification models to predict your target variable. **Your modeling should include gridsearching to find optimal model parameters.**\n",
    "4. Evaluate the performance of your model. Explain why your model may have chosen those specific parameters during the gridsearch process.\n",
    "5. Write up what the model tells you. Does it validate or invalidate your hypothesis? Write this up as if for a non-technical audience."
   ]
  },
  {
   "cell_type": "code",
   "execution_count": 83,
   "metadata": {
    "collapsed": false
   },
   "outputs": [
    {
     "data": {
      "text/html": [
       "<div>\n",
       "<table border=\"1\" class=\"dataframe\">\n",
       "  <thead>\n",
       "    <tr style=\"text-align: right;\">\n",
       "      <th></th>\n",
       "      <th>compliments.plain</th>\n",
       "      <th>review_count</th>\n",
       "      <th>compliments.cute</th>\n",
       "      <th>compliments.writer</th>\n",
       "      <th>fans</th>\n",
       "      <th>compliments.note</th>\n",
       "      <th>compliments.hot</th>\n",
       "      <th>compliments.cool</th>\n",
       "      <th>compliments.profile</th>\n",
       "      <th>average_stars</th>\n",
       "      <th>compliments.more</th>\n",
       "      <th>name</th>\n",
       "      <th>user_id</th>\n",
       "      <th>votes.cool</th>\n",
       "      <th>compliments.list</th>\n",
       "      <th>votes.funny</th>\n",
       "      <th>compliments.photos</th>\n",
       "      <th>compliments.funny</th>\n",
       "      <th>votes.useful</th>\n",
       "    </tr>\n",
       "  </thead>\n",
       "  <tbody>\n",
       "    <tr>\n",
       "      <th>0</th>\n",
       "      <td>959.0</td>\n",
       "      <td>1274</td>\n",
       "      <td>206.0</td>\n",
       "      <td>327.0</td>\n",
       "      <td>1179</td>\n",
       "      <td>611.0</td>\n",
       "      <td>1094.0</td>\n",
       "      <td>1642.0</td>\n",
       "      <td>116.0</td>\n",
       "      <td>3.66</td>\n",
       "      <td>134.0</td>\n",
       "      <td>Jeremy</td>\n",
       "      <td>rpOyqD_893cqmDAtJLbdog</td>\n",
       "      <td>11093</td>\n",
       "      <td>38.0</td>\n",
       "      <td>7681</td>\n",
       "      <td>330.0</td>\n",
       "      <td>580.0</td>\n",
       "      <td>14199</td>\n",
       "    </tr>\n",
       "    <tr>\n",
       "      <th>1</th>\n",
       "      <td>89.0</td>\n",
       "      <td>442</td>\n",
       "      <td>23.0</td>\n",
       "      <td>24.0</td>\n",
       "      <td>100</td>\n",
       "      <td>83.0</td>\n",
       "      <td>101.0</td>\n",
       "      <td>145.0</td>\n",
       "      <td>9.0</td>\n",
       "      <td>3.60</td>\n",
       "      <td>19.0</td>\n",
       "      <td>Michael</td>\n",
       "      <td>4U9kSBLuBDU391x6bxU-YA</td>\n",
       "      <td>732</td>\n",
       "      <td>4.0</td>\n",
       "      <td>908</td>\n",
       "      <td>24.0</td>\n",
       "      <td>120.0</td>\n",
       "      <td>1483</td>\n",
       "    </tr>\n",
       "  </tbody>\n",
       "</table>\n",
       "</div>"
      ],
      "text/plain": [
       "   compliments.plain  review_count  compliments.cute  compliments.writer  \\\n",
       "0              959.0          1274             206.0               327.0   \n",
       "1               89.0           442              23.0                24.0   \n",
       "\n",
       "   fans  compliments.note  compliments.hot  compliments.cool  \\\n",
       "0  1179             611.0           1094.0            1642.0   \n",
       "1   100              83.0            101.0             145.0   \n",
       "\n",
       "   compliments.profile  average_stars  compliments.more     name  \\\n",
       "0                116.0           3.66             134.0   Jeremy   \n",
       "1                  9.0           3.60              19.0  Michael   \n",
       "\n",
       "                  user_id  votes.cool  compliments.list  votes.funny  \\\n",
       "0  rpOyqD_893cqmDAtJLbdog       11093              38.0         7681   \n",
       "1  4U9kSBLuBDU391x6bxU-YA         732               4.0          908   \n",
       "\n",
       "   compliments.photos  compliments.funny  votes.useful  \n",
       "0               330.0              580.0         14199  \n",
       "1                24.0              120.0          1483  "
      ]
     },
     "execution_count": 83,
     "metadata": {},
     "output_type": "execute_result"
    }
   ],
   "source": [
    "users.head(2)"
   ]
  },
  {
   "cell_type": "code",
   "execution_count": 84,
   "metadata": {
    "collapsed": false
   },
   "outputs": [
    {
     "data": {
      "text/plain": [
       "<matplotlib.axes._subplots.AxesSubplot at 0x127e34d50>"
      ]
     },
     "execution_count": 84,
     "metadata": {},
     "output_type": "execute_result"
    },
    {
     "data": {
      "image/png": "[encoded data removed]",
      "text/plain": [
       "<matplotlib.figure.Figure at 0x12bed08d0>"
      ]
     },
     "metadata": {},
     "output_type": "display_data"
    }
   ],
   "source": [
    "#There is a high relationship between the type of contribution(compliment, vote) and the stars.\n",
    "sns.heatmap(users.corr())"
   ]
  },
  {
   "cell_type": "code",
   "execution_count": 85,
   "metadata": {
    "collapsed": true
   },
   "outputs": [],
   "source": [
    "users['round_stars'] = users['average_stars'].round()"
   ]
  },
  {
   "cell_type": "code",
   "execution_count": 86,
   "metadata": {
    "collapsed": false
   },
   "outputs": [
    {
     "data": {
      "text/plain": [
       "<matplotlib.axes._subplots.AxesSubplot at 0x1254f9650>"
      ]
     },
     "execution_count": 86,
     "metadata": {},
     "output_type": "execute_result"
    },
    {
     "data": {
      "image/png": "[encoded data removed]",
      "text/plain": [
       "<matplotlib.figure.Figure at 0x127e2de90>"
      ]
     },
     "metadata": {},
     "output_type": "display_data"
    }
   ],
   "source": [
    "users.groupby('round_stars')['compliments.plain'].mean().plot(kind = 'barh')"
   ]
  },
  {
   "cell_type": "code",
   "execution_count": 87,
   "metadata": {
    "collapsed": true
   },
   "outputs": [],
   "source": [
    "users['star'] = users['round_stars'].map(lambda x: 1 if x > 2 else 0)"
   ]
  },
  {
   "cell_type": "code",
   "execution_count": 88,
   "metadata": {
    "collapsed": true
   },
   "outputs": [],
   "source": [
    "users.columns = [x.strip().replace('.', '_') for x in users.columns]"
   ]
  },
  {
   "cell_type": "code",
   "execution_count": 89,
   "metadata": {
    "collapsed": true
   },
   "outputs": [],
   "source": [
    "users = users.fillna(0)"
   ]
  },
  {
   "cell_type": "code",
   "execution_count": 90,
   "metadata": {
    "collapsed": false
   },
   "outputs": [],
   "source": [
    "X = users[['compliments_plain', 'compliments_cute', 'compliments_writer', 'compliments_note', 'compliments_hot', 'compliments_cool', 'compliments_profile', 'compliments_more', 'compliments_list', 'compliments_photos', 'compliments_funny']].head(1000)\n",
    "X2 = users[['votes_cool','votes_funny', 'votes_useful']].head(1000)\n",
    "y = users['star'].head(1000).values"
   ]
  },
  {
   "cell_type": "code",
   "execution_count": 91,
   "metadata": {
    "collapsed": false
   },
   "outputs": [
    {
     "data": {
      "text/plain": [
       "(144206, 21)"
      ]
     },
     "execution_count": 91,
     "metadata": {},
     "output_type": "execute_result"
    }
   ],
   "source": [
    "users.shape"
   ]
  },
  {
   "cell_type": "code",
   "execution_count": 92,
   "metadata": {
    "collapsed": false
   },
   "outputs": [],
   "source": [
    "X_comp_train, X_comp_test, y_comp_train, y_comp_test = train_test_split(X, y,test_size=0.4)\n",
    "X_vote_train, X_vote_test, y_vote_train, y_vote_test = train_test_split(X2, y,test_size=0.4)"
   ]
  },
  {
   "cell_type": "code",
   "execution_count": 93,
   "metadata": {
    "collapsed": false
   },
   "outputs": [
    {
     "name": "stdout",
     "output_type": "stream",
     "text": [
      "Fitting 10 folds for each of 8 candidates, totalling 80 fits\n"
     ]
    },
    {
     "name": "stderr",
     "output_type": "stream",
     "text": [
      "[Parallel(n_jobs=1)]: Done  49 tasks       | elapsed:    2.6s\n",
      "[Parallel(n_jobs=1)]: Done  80 out of  80 | elapsed:    7.4s finished\n"
     ]
    },
    {
     "name": "stdout",
     "output_type": "stream",
     "text": [
      "Fitting 10 folds for each of 8 candidates, totalling 80 fits\n"
     ]
    },
    {
     "name": "stderr",
     "output_type": "stream",
     "text": [
      "[Parallel(n_jobs=1)]: Done  49 tasks       | elapsed:    0.5s\n",
      "[Parallel(n_jobs=1)]: Done  80 out of  80 | elapsed:    1.1s finished\n"
     ]
    },
    {
     "data": {
      "text/plain": [
       "GridSearchCV(cv=10, error_score='raise',\n",
       "       estimator=LogisticRegression(C=1.0, class_weight=None, dual=False, fit_intercept=True,\n",
       "          intercept_scaling=1, max_iter=100, multi_class='ovr', n_jobs=1,\n",
       "          penalty='l2', random_state=None, solver='liblinear', tol=0.0001,\n",
       "          verbose=0, warm_start=False),\n",
       "       fit_params={}, iid=True, n_jobs=1,\n",
       "       param_grid={'penalty': ['l2', 'l1'], 'C': [1, 2, 3, 4], 'solver': ['liblinear']},\n",
       "       pre_dispatch='2*n_jobs', refit=True, scoring=None, verbose=1)"
      ]
     },
     "execution_count": 93,
     "metadata": {},
     "output_type": "execute_result"
    }
   ],
   "source": [
    "lr_params = {\n",
    "    'solver':['liblinear'],\n",
    "    'penalty':['l2','l1'],\n",
    "    'C':range(1, 5, 1)\n",
    "}\n",
    "\n",
    "comp_gs = GridSearchCV(LogisticRegression(), lr_params, cv=10, verbose=1)\n",
    "vote_gs = GridSearchCV(LogisticRegression(), lr_params, cv=10, verbose=1)\n",
    "\n",
    "comp_gs.fit(X_comp_train, y_comp_train)\n",
    "vote_gs.fit(X_vote_train, y_vote_train)"
   ]
  },
  {
   "cell_type": "code",
   "execution_count": 94,
   "metadata": {
    "collapsed": false
   },
   "outputs": [
    {
     "name": "stdout",
     "output_type": "stream",
     "text": [
      "{'penalty': 'l2', 'C': 1, 'solver': 'liblinear'}\n",
      "0.941666666667 0.941666666667\n",
      "{'penalty': 'l2', 'C': 1, 'solver': 'liblinear'}\n",
      "0.933333333333 0.933333333333\n"
     ]
    }
   ],
   "source": [
    "comp_lr = comp_gs.best_estimator_\n",
    "print comp_gs.best_params_\n",
    "print comp_gs.best_score_, np.abs(0.5 - np.mean(y_comp_train)) + 0.5\n",
    "\n",
    "vote_lr = vote_gs.best_estimator_\n",
    "print vote_gs.best_params_\n",
    "print vote_gs.best_score_, np.abs(0.5 - np.mean(y_vote_train)) + 0.5"
   ]
  },
  {
   "cell_type": "code",
   "execution_count": 95,
   "metadata": {
    "collapsed": false
   },
   "outputs": [
    {
     "data": {
      "image/png": "[encoded data removed]",
      "text/plain": [
       "<matplotlib.figure.Figure at 0x129073f90>"
      ]
     },
     "metadata": {},
     "output_type": "display_data"
    }
   ],
   "source": [
    "plot_roc(comp_lr, X_comp_test, y_comp_test, 'Compliment')"
   ]
  },
  {
   "cell_type": "code",
   "execution_count": 96,
   "metadata": {
    "collapsed": false
   },
   "outputs": [
    {
     "data": {
      "image/png": "[encoded data removed]",
      "text/plain": [
       "<matplotlib.figure.Figure at 0x119ba5f10>"
      ]
     },
     "metadata": {},
     "output_type": "display_data"
    }
   ],
   "source": [
    "plot_roc(vote_lr, X_vote_test, y_vote_test, 'Vote')"
   ]
  },
  {
   "cell_type": "code",
   "execution_count": null,
   "metadata": {
    "collapsed": true
   },
   "outputs": [],
   "source": [
    "#There isn't much difference between the type of contribution and the stars.\n",
    "#There is an extremely minor advantage for votes vs compliments."
   ]
  },
  {
   "cell_type": "markdown",
   "metadata": {},
   "source": [
    "<img src=\"http://imgur.com/GCAf1UX.png\" style=\"float: left; margin: 25px 15px 0px 0px; height: 25px\">\n",
    "\n",
    "## 5. ROC and Precision-recall\n",
    "\n",
    "---\n",
    "\n",
    "Some categories have fewer overall businesses than others. Choose two categories of businesses to predict, one that makes your proportion of target classes as even as possible, and another that has very few businesses and thus makes the target varible imbalanced.\n",
    "\n",
    "1. Create two classification models predicting these categories. Optimize the models and choose variables as you see fit.\n",
    "- Make confusion matrices for your models. Describe the confusion matrices and explain what they tell you about your models' performance.\n",
    "- Make ROC curves for both models. What do the ROC curves describe and what do they tell you about your model?\n",
    "- Make Precision-Recall curves for the models. What do they describe? How do they compare to the ROC curves?\n",
    "- Explain when Precision-Recall may be preferable to ROC. Is that the case in either of your models?"
   ]
  },
  {
   "cell_type": "code",
   "execution_count": 97,
   "metadata": {
    "collapsed": false
   },
   "outputs": [
    {
     "data": {
      "text/plain": [
       "0         ['American (New)', 'Nightlife', 'Dance Clubs',...\n",
       "1                      ['Bars', 'Nightlife', 'Dance Clubs']\n",
       "2            ['Cafes', 'Mexican', 'Tex-Mex', 'Restaurants']\n",
       "3         ['Fast Food', 'Mexican', 'Tex-Mex', 'Restauran...\n",
       "4         ['Bars', 'Restaurants', 'American (Traditional...\n",
       "5                     ['Breakfast & Brunch', 'Restaurants']\n",
       "6         ['Nightlife', 'Bars', 'American (New)', 'Sport...\n",
       "7         ['Bars', 'American (Traditional)', 'Sports Bar...\n",
       "8         ['Breakfast & Brunch', 'Delis', 'Sandwiches', ...\n",
       "9                              ['Nightlife', 'Dance Clubs']\n",
       "10        ['Arts & Entertainment', 'Music Venues', 'Burg...\n",
       "11                  ['Burgers', 'Fast Food', 'Restaurants']\n",
       "12                                 ['Cafes', 'Restaurants']\n",
       "13        ['Delis', 'Fast Food', 'Sandwiches', 'Restaura...\n",
       "14        ['Wine Bars', 'Bars', 'American (New)', 'Night...\n",
       "15        ['Bars', 'Music Venues', 'Arts & Entertainment...\n",
       "16                                    ['Bars', 'Nightlife']\n",
       "17               ['Fast Food', 'Sandwiches', 'Restaurants']\n",
       "18         ['Bars', 'Gay Bars', 'Nightlife', 'Dance Clubs']\n",
       "19        ['Burgers', 'American (Traditional)', 'Fast Fo...\n",
       "20        ['Nightlife', 'Bars', 'American (Traditional)'...\n",
       "21         ['Bars', 'Gay Bars', 'Nightlife', 'Dance Clubs']\n",
       "22        ['Bakeries', 'Food', 'American (Traditional)',...\n",
       "23                             ['Fast Food', 'Restaurants']\n",
       "24                         ['Bars', 'Nightlife', 'Lounges']\n",
       "25        ['American (Traditional)', 'Fast Food', 'Resta...\n",
       "26                               ['Burgers', 'Restaurants']\n",
       "27                             ['Fast Food', 'Restaurants']\n",
       "28           ['Bars', 'Pool Halls', 'Nightlife', 'Karaoke']\n",
       "29                             ['Fast Food', 'Restaurants']\n",
       "                                ...                        \n",
       "152802                             ['Cafes', 'Restaurants']\n",
       "152803    ['Pubs', 'Bars', 'American (New)', 'Nightlife'...\n",
       "152804    ['Bars', 'Restaurants', 'American (Traditional...\n",
       "152805    ['Bars', 'Southern', 'Cocktail Bars', 'Nightli...\n",
       "152806    ['Champagne Bars', 'Bars', 'Cocktail Bars', 'N...\n",
       "152807    ['Food', 'Donuts', 'Coffee & Tea', 'Breakfast ...\n",
       "152808                                ['Bars', 'Nightlife']\n",
       "152809    ['Food', 'Fast Food', 'Mexican', 'Food Trucks'...\n",
       "152810                             ['Cafes', 'Restaurants']\n",
       "152811    ['Wine Bars', 'Bars', 'Restaurants', 'Nightlif...\n",
       "152812                ['Breakfast & Brunch', 'Restaurants']\n",
       "152813    ['Breakfast & Brunch', 'Sandwiches', 'Salad', ...\n",
       "152814    ['Food', 'Coffee & Tea', 'Bars', 'Beer Bar', '...\n",
       "152815    ['Breakfast & Brunch', 'American (Traditional)...\n",
       "152816    ['Bars', 'American (New)', 'Restaurants', 'Spo...\n",
       "152817                     ['Bars', 'Nightlife', 'Lounges']\n",
       "152818                ['Fast Food', 'Pizza', 'Restaurants']\n",
       "152819                         ['Nightlife', 'Dance Clubs']\n",
       "152820    ['Food', 'Burgers', 'American (Traditional)', ...\n",
       "152821      ['Bars', 'Mexican', 'Nightlife', 'Restaurants']\n",
       "152822    ['Bars', 'American (New)', 'Restaurants', 'Spo...\n",
       "152823    ['Breakfast & Brunch', 'American (Traditional)...\n",
       "152824    ['Bars', 'Restaurants', 'Wine Bars', 'Nightlif...\n",
       "152825    ['Food', 'Bakeries', 'Coffee & Tea', 'Cafes', ...\n",
       "152826    ['Bars', 'American (Traditional)', 'Sports Bar...\n",
       "152827      ['Nightlife', 'Seafood', 'Bars', 'Restaurants']\n",
       "152828    ['American (Traditional)', 'Fast Food', 'Chick...\n",
       "152829    ['Bars', 'American (Traditional)', 'Southern',...\n",
       "152830    ['Tapas/Small Plates', 'Bars', 'Nightlife', 'W...\n",
       "152831                           ['Burgers', 'Restaurants']\n",
       "Name: categories, dtype: object"
      ]
     },
     "execution_count": 97,
     "metadata": {},
     "output_type": "execute_result"
    }
   ],
   "source": [
    "business['categories']"
   ]
  },
  {
   "cell_type": "code",
   "execution_count": 98,
   "metadata": {
    "collapsed": true
   },
   "outputs": [],
   "source": [
    "i = 0\n",
    "donut = []\n",
    "while i < len(business['categories']):\n",
    "    test = business['categories'][i]\n",
    "    if (\"Nightlife\" or \"Dance Clubs\" or \"Bars\" or \"Restaurants\")in test:\n",
    "        donut.append(1)\n",
    "    else:\n",
    "        donut.append(0)\n",
    "    i += 1\n",
    "business['night'] = donut"
   ]
  },
  {
   "cell_type": "code",
   "execution_count": 99,
   "metadata": {
    "collapsed": true
   },
   "outputs": [],
   "source": [
    "i = 0\n",
    "donut = []\n",
    "while i < len(business['categories']):\n",
    "    test = business['categories'][i]\n",
    "    if (\"Salad\" or \"Donut\" or \"Seafood\" or \"Southern\")in test:\n",
    "        donut.append(1)\n",
    "    else:\n",
    "        donut.append(0)\n",
    "    i += 1\n",
    "business['salad'] = donut"
   ]
  },
  {
   "cell_type": "code",
   "execution_count": 103,
   "metadata": {
    "collapsed": false
   },
   "outputs": [
    {
     "data": {
      "text/plain": [
       "((1000, 2), (1000,), (1000,))"
      ]
     },
     "execution_count": 103,
     "metadata": {},
     "output_type": "execute_result"
    }
   ],
   "source": [
    "X = business.head(1000)[['review_count', 'stars']]\n",
    "y = business['salad'].head(1000).values\n",
    "y2 = business['night'].head(1000).values\n",
    "X.shape, y.shape, y2.shape"
   ]
  },
  {
   "cell_type": "code",
   "execution_count": 104,
   "metadata": {
    "collapsed": true
   },
   "outputs": [],
   "source": [
    "X_sal_train, X_sal_test, y_sal_train, y_sal_test =  train_test_split(X, y, test_size=0.4)\n",
    "X_nig_train, X_nig_test, y_nig_train, y_nig_test =  train_test_split(X, y2, test_size=0.4)"
   ]
  },
  {
   "cell_type": "code",
   "execution_count": 105,
   "metadata": {
    "collapsed": false
   },
   "outputs": [
    {
     "name": "stdout",
     "output_type": "stream",
     "text": [
      "Fitting 10 folds for each of 100 candidates, totalling 1000 fits\n"
     ]
    },
    {
     "name": "stderr",
     "output_type": "stream",
     "text": [
      "[Parallel(n_jobs=1)]: Done  49 tasks       | elapsed:    0.3s\n",
      "[Parallel(n_jobs=1)]: Done 199 tasks       | elapsed:    1.1s\n",
      "[Parallel(n_jobs=1)]: Done 449 tasks       | elapsed:    2.4s\n",
      "[Parallel(n_jobs=1)]: Done 799 tasks       | elapsed:    4.1s\n",
      "[Parallel(n_jobs=1)]: Done 1000 out of 1000 | elapsed:    5.1s finished\n",
      "//anaconda/envs/dsi/lib/python2.7/site-packages/sklearn/cross_validation.py:516: Warning: The least populated class in y has only 4 members, which is too few. The minimum number of labels for any class cannot be less than n_folds=10.\n",
      "  % (min_labels, self.n_folds)), Warning)\n"
     ]
    },
    {
     "name": "stdout",
     "output_type": "stream",
     "text": [
      "Fitting 10 folds for each of 100 candidates, totalling 1000 fits\n"
     ]
    },
    {
     "name": "stderr",
     "output_type": "stream",
     "text": [
      "[Parallel(n_jobs=1)]: Done  49 tasks       | elapsed:    0.2s\n",
      "[Parallel(n_jobs=1)]: Done 199 tasks       | elapsed:    1.0s\n",
      "[Parallel(n_jobs=1)]: Done 449 tasks       | elapsed:    2.3s\n",
      "[Parallel(n_jobs=1)]: Done 799 tasks       | elapsed:    4.0s\n",
      "[Parallel(n_jobs=1)]: Done 1000 out of 1000 | elapsed:    5.0s finished\n"
     ]
    },
    {
     "data": {
      "text/plain": [
       "GridSearchCV(cv=10, error_score='raise',\n",
       "       estimator=LogisticRegression(C=1.0, class_weight=None, dual=False, fit_intercept=True,\n",
       "          intercept_scaling=1, max_iter=100, multi_class='ovr', n_jobs=1,\n",
       "          penalty='l2', random_state=None, solver='liblinear', tol=0.0001,\n",
       "          verbose=0, warm_start=False),\n",
       "       fit_params={}, iid=True, n_jobs=1,\n",
       "       param_grid={'penalty': ['l2', 'l1'], 'C': array([  1.00000e-04,   2.04083e+01,   4.08164e+01,   6.12246e+01,\n",
       "         8.16327e+01,   1.02041e+02,   1.22449e+02,   1.42857e+02,\n",
       "         1.63265e+02,   1.83674e+02,   2.04082e+02,   2.24490e+02,\n",
       "         2.44898e+02,   2.65306e+02,   2.85714e+02,   3.0...7e+02,   9.38776e+02,   9.59184e+02,\n",
       "         9.79592e+02,   1.00000e+03]), 'solver': ['liblinear']},\n",
       "       pre_dispatch='2*n_jobs', refit=True, scoring=None, verbose=1)"
      ]
     },
     "execution_count": 105,
     "metadata": {},
     "output_type": "execute_result"
    }
   ],
   "source": [
    "lr_params = {\n",
    "    'solver':['liblinear'],\n",
    "    'penalty':['l2','l1'],\n",
    "    'C':np.linspace(0.0001,1000.,50)\n",
    "}\n",
    "\n",
    "sal_gs = GridSearchCV(LogisticRegression(), lr_params, cv=10, verbose=1)\n",
    "nig_gs = GridSearchCV(LogisticRegression(), lr_params, cv=10, verbose=1)\n",
    "\n",
    "nig_gs.fit(X_nig_train, y_nig_train)\n",
    "sal_gs.fit(X_sal_train, y_sal_train)"
   ]
  },
  {
   "cell_type": "code",
   "execution_count": 106,
   "metadata": {
    "collapsed": false
   },
   "outputs": [
    {
     "name": "stdout",
     "output_type": "stream",
     "text": [
      "{'penalty': 'l2', 'C': 20.408261224489795, 'solver': 'liblinear'}\n",
      "0.665 0.605\n",
      "{'penalty': 'l2', 'C': 0.0001, 'solver': 'liblinear'}\n",
      "0.993333333333 0.993333333333\n"
     ]
    }
   ],
   "source": [
    "nig_lr = nig_gs.best_estimator_\n",
    "print nig_gs.best_params_\n",
    "print nig_gs.best_score_, np.abs(0.5 - np.mean(y_nig_train)) + 0.5\n",
    "\n",
    "sal_lr = sal_gs.best_estimator_\n",
    "print sal_gs.best_params_\n",
    "print sal_gs.best_score_, np.abs(0.5 - np.mean(y_sal_train)) + 0.5"
   ]
  },
  {
   "cell_type": "code",
   "execution_count": 107,
   "metadata": {
    "collapsed": false
   },
   "outputs": [
    {
     "data": {
      "image/png": "[encoded data removed]",
      "text/plain": [
       "<matplotlib.figure.Figure at 0x129998cd0>"
      ]
     },
     "metadata": {},
     "output_type": "display_data"
    }
   ],
   "source": [
    "plot_roc(sal_lr, X_sal_test, y_sal_test, 'Salad')"
   ]
  },
  {
   "cell_type": "code",
   "execution_count": 108,
   "metadata": {
    "collapsed": false
   },
   "outputs": [
    {
     "data": {
      "image/png": "[encoded data removed]",
      "text/plain": [
       "<matplotlib.figure.Figure at 0x11a8a35d0>"
      ]
     },
     "metadata": {},
     "output_type": "display_data"
    }
   ],
   "source": [
    "plot_roc(nig_lr, X_nig_test, y_nig_test, 'Night Life')"
   ]
  },
  {
   "cell_type": "code",
   "execution_count": 109,
   "metadata": {
    "collapsed": true
   },
   "outputs": [],
   "source": [
    "def calc_confusion_matrix(mod, X, y, margins=False):\n",
    "    pred = pd.Series(mod.predict(X), name='Predicted')\n",
    "    true = pd.Series(y, name='True')\n",
    "    confusion = pd.crosstab(true, pred, margins=margins)\n",
    "    return confusion"
   ]
  },
  {
   "cell_type": "code",
   "execution_count": 110,
   "metadata": {
    "collapsed": false
   },
   "outputs": [
    {
     "data": {
      "text/html": [
       "<div>\n",
       "<table border=\"1\" class=\"dataframe\">\n",
       "  <thead>\n",
       "    <tr style=\"text-align: right;\">\n",
       "      <th>Predicted</th>\n",
       "      <th>0</th>\n",
       "      <th>1</th>\n",
       "      <th>All</th>\n",
       "    </tr>\n",
       "    <tr>\n",
       "      <th>True</th>\n",
       "      <th></th>\n",
       "      <th></th>\n",
       "      <th></th>\n",
       "    </tr>\n",
       "  </thead>\n",
       "  <tbody>\n",
       "    <tr>\n",
       "      <th>0</th>\n",
       "      <td>299</td>\n",
       "      <td>64</td>\n",
       "      <td>363</td>\n",
       "    </tr>\n",
       "    <tr>\n",
       "      <th>1</th>\n",
       "      <td>127</td>\n",
       "      <td>110</td>\n",
       "      <td>237</td>\n",
       "    </tr>\n",
       "    <tr>\n",
       "      <th>All</th>\n",
       "      <td>426</td>\n",
       "      <td>174</td>\n",
       "      <td>600</td>\n",
       "    </tr>\n",
       "  </tbody>\n",
       "</table>\n",
       "</div>"
      ],
      "text/plain": [
       "Predicted    0    1  All\n",
       "True                    \n",
       "0          299   64  363\n",
       "1          127  110  237\n",
       "All        426  174  600"
      ]
     },
     "execution_count": 110,
     "metadata": {},
     "output_type": "execute_result"
    }
   ],
   "source": [
    "calc_confusion_matrix(nig_lr, X_nig_train, y_nig_train, margins=True)"
   ]
  },
  {
   "cell_type": "code",
   "execution_count": 111,
   "metadata": {
    "collapsed": false
   },
   "outputs": [
    {
     "data": {
      "text/html": [
       "<div>\n",
       "<table border=\"1\" class=\"dataframe\">\n",
       "  <thead>\n",
       "    <tr style=\"text-align: right;\">\n",
       "      <th>Predicted</th>\n",
       "      <th>0</th>\n",
       "      <th>All</th>\n",
       "    </tr>\n",
       "    <tr>\n",
       "      <th>True</th>\n",
       "      <th></th>\n",
       "      <th></th>\n",
       "    </tr>\n",
       "  </thead>\n",
       "  <tbody>\n",
       "    <tr>\n",
       "      <th>0</th>\n",
       "      <td>596</td>\n",
       "      <td>596</td>\n",
       "    </tr>\n",
       "    <tr>\n",
       "      <th>1</th>\n",
       "      <td>4</td>\n",
       "      <td>4</td>\n",
       "    </tr>\n",
       "    <tr>\n",
       "      <th>All</th>\n",
       "      <td>600</td>\n",
       "      <td>600</td>\n",
       "    </tr>\n",
       "  </tbody>\n",
       "</table>\n",
       "</div>"
      ],
      "text/plain": [
       "Predicted    0  All\n",
       "True               \n",
       "0          596  596\n",
       "1            4    4\n",
       "All        600  600"
      ]
     },
     "execution_count": 111,
     "metadata": {},
     "output_type": "execute_result"
    }
   ],
   "source": [
    "calc_confusion_matrix(sal_lr, X_sal_train, y_sal_train, margins=True)"
   ]
  },
  {
   "cell_type": "code",
   "execution_count": 112,
   "metadata": {
    "collapsed": true
   },
   "outputs": [],
   "source": [
    "from sklearn.metrics import (precision_recall_curve, average_precision_score, f1_score)\n",
    "\n",
    "def plot_prauc(mod, X, y, varname):\n",
    "    mod.fit(X, y)\n",
    "    y_pp = mod.predict_proba(X)[:, 1]\n",
    "    precision, recall, _ = precision_recall_curve(y, y_pp)\n",
    "    avg_precision = average_precision_score(y, y_pp)\n",
    "    \n",
    "    fig, axr = plt.subplots(figsize=(8,7))\n",
    "\n",
    "    axr.plot(recall, precision, label='PRAUC (area = %0.2f)' % avg_precision,\n",
    "             color='steelblue', linewidth=4,\n",
    "             alpha=0.7)\n",
    "\n",
    "    axr.set_xlim([-0.05, 1.05])\n",
    "    axr.set_ylim([0.0, 1.05])\n",
    "    axr.set_xlabel('recall', fontsize=16)\n",
    "    axr.set_ylabel('precision', fontsize=16)\n",
    "    axr.set_title(varname+' vs. not PRAUC curve\\n', fontsize=20)\n",
    "\n",
    "    axr.legend(loc=\"upper right\", fontsize=12)\n",
    "\n",
    "    plt.show()"
   ]
  },
  {
   "cell_type": "code",
   "execution_count": 113,
   "metadata": {
    "collapsed": false
   },
   "outputs": [
    {
     "data": {
      "image/png": "[encoded data removed]",
      "text/plain": [
       "<matplotlib.figure.Figure at 0x1282be650>"
      ]
     },
     "metadata": {},
     "output_type": "display_data"
    }
   ],
   "source": [
    "plot_prauc(sal_lr, X_sal_test, y_sal_test, 'Salad')"
   ]
  },
  {
   "cell_type": "code",
   "execution_count": 114,
   "metadata": {
    "collapsed": false
   },
   "outputs": [
    {
     "data": {
      "image/png": "[encoded data removed]",
      "text/plain": [
       "<matplotlib.figure.Figure at 0x1298b3850>"
      ]
     },
     "metadata": {},
     "output_type": "display_data"
    }
   ],
   "source": [
    "plot_prauc(nig_lr, X_nig_test, y_nig_test, 'Night')"
   ]
  },
  {
   "cell_type": "code",
   "execution_count": null,
   "metadata": {
    "collapsed": true
   },
   "outputs": [],
   "source": []
  }
 ],
 "metadata": {
  "anaconda-cloud": {},
  "kernelspec": {
   "display_name": "Python [dsi]",
   "language": "python",
   "name": "Python [dsi]"
  },
  "language_info": {
   "codemirror_mode": {
    "name": "ipython",
    "version": 2
   },
   "file_extension": ".py",
   "mimetype": "text/x-python",
   "name": "python",
   "nbconvert_exporter": "python",
   "pygments_lexer": "ipython2",
   "version": "2.7.12"
  }
 },
 "nbformat": 4,
 "nbformat_minor": 0
}
